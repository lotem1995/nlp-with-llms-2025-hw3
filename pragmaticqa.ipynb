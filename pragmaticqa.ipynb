{
 "cells": [
  {
   "cell_type": "markdown",
   "id": "2167ffa3",
   "metadata": {},
   "source": [
    "# PragmatiCQA Dataset Analysis - Step 0\n",
    "\n",
    "## 🎯 Objectives\n",
    "1. Understand the structure of the PragmatiCQA dataset\n",
    "2. Analyze what makes the dataset challenging for NLP models  \n",
    "3. Select 5 examples demonstrating pragmatic phenomena\n",
    "4. Explain how pragmatic responses enrich literal answers\n",
    "\n",
    "## 📚 Background\n",
    "**Pragmatics** vs **Semantics**:\n",
    "- **Semantics**: Literal meaning of words\n",
    "- **Pragmatics**: How context affects meaning  \n",
    "- **Cooperative QA**: Providing additional information beyond what was explicitly asked\n",
    "\n",
    "---"
   ]
  },
  {
   "cell_type": "code",
   "execution_count": 4,
   "id": "95633efd",
   "metadata": {},
   "outputs": [
    {
     "ename": "FileNotFoundError",
     "evalue": "[Errno 2] No such file or directory: '/PragmatiCQA/data/test.jsonl'",
     "output_type": "error",
     "traceback": [
      "\u001b[31m---------------------------------------------------------------------------\u001b[39m",
      "\u001b[31mFileNotFoundError\u001b[39m                         Traceback (most recent call last)",
      "\u001b[36mCell\u001b[39m\u001b[36m \u001b[39m\u001b[32mIn[4]\u001b[39m\u001b[32m, line 12\u001b[39m\n\u001b[32m      9\u001b[39m             corpus.append(json.loads(line))\n\u001b[32m     10\u001b[39m     \u001b[38;5;28;01mreturn\u001b[39;00m corpus\n\u001b[32m---> \u001b[39m\u001b[32m12\u001b[39m pcqa_test = \u001b[43mread_data\u001b[49m\u001b[43m(\u001b[49m\u001b[33;43m\"\u001b[39;49m\u001b[33;43mtest.jsonl\u001b[39;49m\u001b[33;43m\"\u001b[39;49m\u001b[43m)\u001b[49m\n",
      "\u001b[36mCell\u001b[39m\u001b[36m \u001b[39m\u001b[32mIn[4]\u001b[39m\u001b[32m, line 7\u001b[39m, in \u001b[36mread_data\u001b[39m\u001b[34m(filename, dataset_dir)\u001b[39m\n\u001b[32m      5\u001b[39m \u001b[38;5;28;01mdef\u001b[39;00m\u001b[38;5;250m \u001b[39m\u001b[34mread_data\u001b[39m(filename, dataset_dir=\u001b[33m\"\u001b[39m\u001b[33m/PragmatiCQA/data\u001b[39m\u001b[33m\"\u001b[39m):\n\u001b[32m      6\u001b[39m     corpus = []\n\u001b[32m----> \u001b[39m\u001b[32m7\u001b[39m     \u001b[38;5;28;01mwith\u001b[39;00m \u001b[38;5;28;43mopen\u001b[39;49m\u001b[43m(\u001b[49m\u001b[43mos\u001b[49m\u001b[43m.\u001b[49m\u001b[43mpath\u001b[49m\u001b[43m.\u001b[49m\u001b[43mjoin\u001b[49m\u001b[43m(\u001b[49m\u001b[43mdataset_dir\u001b[49m\u001b[43m,\u001b[49m\u001b[43m \u001b[49m\u001b[43mfilename\u001b[49m\u001b[43m)\u001b[49m\u001b[43m,\u001b[49m\u001b[43m \u001b[49m\u001b[33;43m'\u001b[39;49m\u001b[33;43mr\u001b[39;49m\u001b[33;43m'\u001b[39;49m\u001b[43m)\u001b[49m \u001b[38;5;28;01mas\u001b[39;00m f:\n\u001b[32m      8\u001b[39m         \u001b[38;5;28;01mfor\u001b[39;00m line \u001b[38;5;129;01min\u001b[39;00m f:\n\u001b[32m      9\u001b[39m             corpus.append(json.loads(line))\n",
      "\u001b[36mFile \u001b[39m\u001b[32m~/Library/Mobile Documents/com~apple~CloudDocs/UNIVERSITY/סמסטר ח/עיבוד שפה טבעית עם LLM/עבודות/Assignment3/nlp-with-llms-2025-hw3/.venv/lib/python3.11/site-packages/IPython/core/interactiveshell.py:343\u001b[39m, in \u001b[36m_modified_open\u001b[39m\u001b[34m(file, *args, **kwargs)\u001b[39m\n\u001b[32m    336\u001b[39m \u001b[38;5;28;01mif\u001b[39;00m file \u001b[38;5;129;01min\u001b[39;00m {\u001b[32m0\u001b[39m, \u001b[32m1\u001b[39m, \u001b[32m2\u001b[39m}:\n\u001b[32m    337\u001b[39m     \u001b[38;5;28;01mraise\u001b[39;00m \u001b[38;5;167;01mValueError\u001b[39;00m(\n\u001b[32m    338\u001b[39m         \u001b[33mf\u001b[39m\u001b[33m\"\u001b[39m\u001b[33mIPython won\u001b[39m\u001b[33m'\u001b[39m\u001b[33mt let you open fd=\u001b[39m\u001b[38;5;132;01m{\u001b[39;00mfile\u001b[38;5;132;01m}\u001b[39;00m\u001b[33m by default \u001b[39m\u001b[33m\"\u001b[39m\n\u001b[32m    339\u001b[39m         \u001b[33m\"\u001b[39m\u001b[33mas it is likely to crash IPython. If you know what you are doing, \u001b[39m\u001b[33m\"\u001b[39m\n\u001b[32m    340\u001b[39m         \u001b[33m\"\u001b[39m\u001b[33myou can use builtins\u001b[39m\u001b[33m'\u001b[39m\u001b[33m open.\u001b[39m\u001b[33m\"\u001b[39m\n\u001b[32m    341\u001b[39m     )\n\u001b[32m--> \u001b[39m\u001b[32m343\u001b[39m \u001b[38;5;28;01mreturn\u001b[39;00m \u001b[43mio_open\u001b[49m\u001b[43m(\u001b[49m\u001b[43mfile\u001b[49m\u001b[43m,\u001b[49m\u001b[43m \u001b[49m\u001b[43m*\u001b[49m\u001b[43margs\u001b[49m\u001b[43m,\u001b[49m\u001b[43m \u001b[49m\u001b[43m*\u001b[49m\u001b[43m*\u001b[49m\u001b[43mkwargs\u001b[49m\u001b[43m)\u001b[49m\n",
      "\u001b[31mFileNotFoundError\u001b[39m: [Errno 2] No such file or directory: '/PragmatiCQA/data/test.jsonl'"
     ]
    }
   ],
   "source": [
    "# Load jsonl from dataset directory\n",
    "import json\n",
    "import os  \n",
    "\n",
    "def read_data(filename, dataset_dir=\"/PragmatiCQA/data\"):\n",
    "    corpus = []\n",
    "    with open(os.path.join(dataset_dir, filename), 'r') as f:\n",
    "        for line in f:\n",
    "            corpus.append(json.loads(line))\n",
    "    return corpus\n",
    "\n",
    "pcqa_test = read_data(\"test.jsonl\")"
   ]
  },
  {
   "cell_type": "code",
   "execution_count": null,
   "id": "88bd2485",
   "metadata": {},
   "outputs": [],
   "source": [
    "print(f\"Loaded {len(pcqa_test)} documents from PragmatiCQA test set.\")"
   ]
  },
  {
   "cell_type": "code",
   "execution_count": null,
   "id": "9ff9c550",
   "metadata": {},
   "outputs": [],
   "source": [
    "# Pretty print the first document to check the structure\n",
    "import pprint   \n",
    "pprint.pprint(pcqa_test[0])  # Print the first document to check the structure"
   ]
  },
  {
   "cell_type": "code",
   "execution_count": null,
   "id": "26f6d6ed",
   "metadata": {},
   "outputs": [],
   "source": [
    "print(f\"Loaded {len(pcqa_test[0]['qas'])} questions from the first document.\")"
   ]
  },
  {
   "cell_type": "code",
   "execution_count": null,
   "id": "da3f1b77",
   "metadata": {},
   "outputs": [],
   "source": [
    "pprint.pprint(pcqa_test[0]['qas'][0])"
   ]
  },
  {
   "cell_type": "markdown",
   "id": "2aa8885f",
   "metadata": {},
   "source": []
  },
  {
   "cell_type": "code",
   "execution_count": null,
   "id": "3c226e1d",
   "metadata": {},
   "outputs": [],
   "source": []
  }
 ],
 "metadata": {
  "kernelspec": {
   "display_name": ".venv",
   "language": "python",
   "name": "python3"
  },
  "language_info": {
   "codemirror_mode": {
    "name": "ipython",
    "version": 3
   },
   "file_extension": ".py",
   "mimetype": "text/x-python",
   "name": "python",
   "nbconvert_exporter": "python",
   "pygments_lexer": "ipython3",
   "version": "3.11.7"
  }
 },
 "nbformat": 4,
 "nbformat_minor": 5
}
