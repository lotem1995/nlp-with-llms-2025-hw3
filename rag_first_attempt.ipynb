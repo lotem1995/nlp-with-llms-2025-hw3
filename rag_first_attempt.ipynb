{
 "cells": [
  {
   "cell_type": "markdown",
   "id": "d7aae3a9",
   "metadata": {},
   "source": [
    "# RAG\n",
    "\n",
    "Implement a base RAG module in DSPy. \n",
    "Given a question, retrieve the top-k documents in a list of HTML documents, then pass them as context to an LLM.\n",
    "\n",
    "Refer to https://dspy.ai/tutorials/rag/. \n"
   ]
  },
  {
   "cell_type": "code",
   "id": "edec48e6",
   "metadata": {
    "ExecuteTime": {
     "end_time": "2025-09-06T06:49:30.960793Z",
     "start_time": "2025-09-06T06:49:11.136981Z"
    }
   },
   "source": [
    "import dspy\n",
    "import torch\n",
    "from sentence_transformers import SentenceTransformer\n",
    "\n",
    "# Load an extremely efficient local model for retrieval\n",
    "_device = \"cuda\" if torch.cuda.is_available() else \"cpu\"\n",
    "model = SentenceTransformer(\"sentence-transformers/static-retrieval-mrl-en-v1\", device=_device)\n",
    "\n",
    "# Create an embedder using the model's encode method\n",
    "embedder = dspy.Embedder(model.encode)\n",
    "\n",
    "# Traverse a directory and read html files - extract text from the html files\n",
    "import os\n",
    "from bs4 import BeautifulSoup\n",
    "\n",
    "def read_html_files(directory, sources_root=\"../PragmatiCQA-sources\"):\n",
    "    \"\"\"\n",
    "    Read .html files from a path. Accepts:\n",
    "      - absolute path\n",
    "      - relative path (from current working directory)\n",
    "      - topic name or folder name (will be resolved under sources_root)\n",
    "    Returns a list of document texts. If path not found, returns [].\n",
    "    \"\"\"\n",
    "    texts = []\n",
    "\n",
    "    # Normalize and resolve path\n",
    "    if os.path.isabs(directory):\n",
    "        path = directory\n",
    "    else:\n",
    "        # prefer the provided relative path if it exists\n",
    "        if os.path.exists(directory):\n",
    "            path = directory\n",
    "        else:\n",
    "            # treat `directory` as a topic name under the default sources root\n",
    "            path = os.path.join(sources_root, directory)\n",
    "\n",
    "    path = os.path.abspath(path)\n",
    "\n",
    "    if not os.path.exists(path):\n",
    "        # not throwing here so notebook flow is uninterrupted; caller can handle empty list\n",
    "        print(f\"Directory not found: {path}\")\n",
    "        return texts\n",
    "\n",
    "    for filename in os.listdir(path):\n",
    "        if filename.endswith(\".html\"):\n",
    "            file_path = os.path.join(path, filename)\n",
    "            try:\n",
    "                with open(file_path, 'r', encoding='utf-8') as file:\n",
    "                    html = file.read()\n",
    "                    soup = BeautifulSoup(html, 'html.parser')\n",
    "                    texts.append(soup.get_text())\n",
    "            except Exception as e:\n",
    "                # skip problematic files but report minimal info\n",
    "                print(f\"Warning: could not read {file_path}: {e}\")\n",
    "    return texts"
   ],
   "outputs": [],
   "execution_count": 1
  },
  {
   "cell_type": "code",
   "id": "4f634c8a",
   "metadata": {
    "ExecuteTime": {
     "end_time": "2025-09-06T06:49:40.845507Z",
     "start_time": "2025-09-06T06:49:30.991789Z"
    }
   },
   "source": [
    "# Provide either an absolute path, a relative path, or a topic folder name.\n",
    "# Examples:\n",
    "#   directory = '/full/path/to/PragmatiCQA-sources/The Legend of Zelda'\n",
    "#   directory = '../PragmatiCQA-sources/The Legend of Zelda'\n",
    "#   directory = 'The Legend of Zelda'           # treated as topic name under sources_root\n",
    "\n",
    "directory = \"../PragmatiCQA-sources/The Legend of Zelda\"\n",
    "corpus = read_html_files(directory)\n",
    "if not corpus:\n",
    "    print(f\"No documents loaded from: {os.path.abspath(directory)}\")\n",
    "else:\n",
    "    print(f\"Loaded {len(corpus)} documents. Will encode them below.\")"
   ],
   "outputs": [
    {
     "name": "stdout",
     "output_type": "stream",
     "text": [
      "Loaded 406 documents. Will encode them below.\n"
     ]
    }
   ],
   "execution_count": 2
  },
  {
   "cell_type": "code",
   "id": "3d0051d9",
   "metadata": {
    "ExecuteTime": {
     "end_time": "2025-09-06T06:49:42.648488Z",
     "start_time": "2025-09-06T06:49:42.577488Z"
    }
   },
   "source": [
    "# Parameters for the retriever\n",
    "max_characters = 10000  # for truncating >99th percentile of documents\n",
    "topk_docs_to_retrieve = 5  # number of documents to retrieve per search query\n",
    "\n",
    "search = dspy.retrievers.Embeddings(embedder=embedder, corpus=corpus, k=topk_docs_to_retrieve)\n",
    "\n"
   ],
   "outputs": [],
   "execution_count": 3
  },
  {
   "cell_type": "code",
   "id": "57b129af",
   "metadata": {
    "ExecuteTime": {
     "end_time": "2025-09-06T06:49:42.925441Z",
     "start_time": "2025-09-06T06:49:42.918173Z"
    }
   },
   "source": [
    "# lm = dspy.LM('ollama_chat/devstral', api_base='http://localhost:11434', api_key='')\n",
    "lm = dspy.LM('xai/grok-3-mini')\n",
    "dspy.configure(lm=lm)"
   ],
   "outputs": [],
   "execution_count": 4
  },
  {
   "cell_type": "code",
   "id": "c06d8027",
   "metadata": {
    "ExecuteTime": {
     "end_time": "2025-09-06T06:49:43.080497Z",
     "start_time": "2025-09-06T06:49:43.071900Z"
    }
   },
   "source": [
    "class RAG(dspy.Module):\n",
    "    def __init__(self):\n",
    "        self.respond = dspy.ChainOfThought('context, question -> response')\n",
    "\n",
    "    def forward(self, question):\n",
    "        context = search(question).passages\n",
    "        return self.respond(context=context, question=question)\n",
    "    \n",
    "rag = RAG()"
   ],
   "outputs": [],
   "execution_count": 5
  },
  {
   "cell_type": "code",
   "id": "499af707",
   "metadata": {
    "ExecuteTime": {
     "end_time": "2025-09-06T06:49:43.270397Z",
     "start_time": "2025-09-06T06:49:43.152891Z"
    }
   },
   "source": [
    "answer = rag(question=\"What is the main plot of The Legend of Zelda?\")  # Example query\n",
    "\n",
    "print(answer.response)  # Print the response from the RAG model"
   ],
   "outputs": [
    {
     "name": "stdout",
     "output_type": "stream",
     "text": [
      "The main plot of The Legend of Zelda revolves around a young hero named Link who must save the kingdom of Hyrule from the evil Ganon, the Prince of Darkness. Ganon steals the Triforce of Power and seeks to conquer Hyrule, prompting Princess Zelda to break the Triforce of Wisdom into eight fragments and hide them across the land. Zelda sends her nursemaid, Impa, to find a brave warrior to stop Ganon. Link embarks on a quest to collect the fragments, explore dungeons, battle enemies, and ultimately confront Ganon to rescue Princess Zelda and restore peace to Hyrule.\n"
     ]
    }
   ],
   "execution_count": 6
  },
  {
   "cell_type": "code",
   "id": "98e19c23",
   "metadata": {
    "ExecuteTime": {
     "end_time": "2025-09-06T06:49:43.437364Z",
     "start_time": "2025-09-06T06:49:43.320742Z"
    }
   },
   "source": [
    "q = 'What year did the Legend of Zelda come out?' \n",
    "\n",
    "print(rag(question=q).response)"
   ],
   "outputs": [
    {
     "name": "stdout",
     "output_type": "stream",
     "text": [
      "The Legend of Zelda was first released in 1986.\n"
     ]
    }
   ],
   "execution_count": 7
  },
  {
   "cell_type": "markdown",
   "id": "1a45c579",
   "metadata": {},
   "source": [
    "Part 4.3 — Traditional QA baseline (start)\n",
    "\n",
    "Plan:\n",
    "- Use the existing retriever `search` to obtain retrieved passages for a question.\n",
    "- Use Hugging Face's 'distilbert-base-cased-distilled-squad' extractive QA pipeline to answer the question given:\n",
    "  1) Literal spans (from dataset),\n",
    "  2) Pragmatic spans (from dataset),\n",
    "  3) Retrieved context (from `search`).\n",
    "- Evaluate these three configurations with dspy.evaluate.SemanticF1 on the first question of each conversation."
   ]
  },
  {
   "cell_type": "code",
   "id": "37e91a1c",
   "metadata": {
    "ExecuteTime": {
     "end_time": "2025-09-06T07:06:22.446626Z",
     "start_time": "2025-09-06T06:49:43.561800Z"
    }
   },
   "source": [
    "# 4.3 Part 1: Traditional QA Baseline Implementation\n",
    "from transformers import pipeline\n",
    "import json, os\n",
    "from tqdm.notebook import tqdm\n",
    "import pandas as pd\n",
    "import dspy\n",
    "from dspy.evaluate import SemanticF1\n",
    "\n",
    "def setup_qa_pipeline(device=None):\n",
    "    \"\"\"Initialize a robust QA pipeline.\n",
    "    Tries a list of reliable HF models, detects CUDA availability,\n",
    "    avoids float16 on CPU, and falls back gracefully to a CPU pipeline.\n",
    "    Accepts device as: 'cuda', 0, -1, or None.\n",
    "    \"\"\"\n",
    "    import torch\n",
    "    from transformers import AutoTokenizer, AutoModelForQuestionAnswering, pipeline as _pipeline\n",
    "\n",
    "    # Reliable candidate models\n",
    "    model_candidates = [\n",
    "        'distilbert/distilbert-base-cased-distilled-squad',\n",
    "        'deepset/roberta-base-squad2'\n",
    "    ]\n",
    "\n",
    "    last_err = None\n",
    "    # Normalize device intent\n",
    "    want_cuda = False\n",
    "    if isinstance(device, str) and device.lower().startswith('cuda'):\n",
    "        want_cuda = True\n",
    "    elif isinstance(device, int) and device >= 0:\n",
    "        want_cuda = True\n",
    "\n",
    "    for model_name in model_candidates:\n",
    "        try:\n",
    "            tokenizer = AutoTokenizer.from_pretrained(model_name, use_fast=True)\n",
    "            # Only use GPU if available\n",
    "            use_cuda = want_cuda and torch.cuda.is_available()\n",
    "            if use_cuda:\n",
    "                model = AutoModelForQuestionAnswering.from_pretrained(model_name).half().to('cuda')\n",
    "                device_id = 0\n",
    "            else:\n",
    "                model = AutoModelForQuestionAnswering.from_pretrained(model_name)\n",
    "                device_id = -1\n",
    "            model.eval()\n",
    "            return _pipeline('question-answering', model=model, tokenizer=tokenizer, device=device_id)\n",
    "        except Exception as e:\n",
    "            last_err = e\n",
    "            # try next candidate\n",
    "            continue\n",
    "\n",
    "    # Final fallback: let transformers download and create a CPU pipeline from a known model id\n",
    "    try:\n",
    "        return _pipeline('question-answering', model=model_candidates[0], device=-1)\n",
    "    except Exception as e:\n",
    "        print('Error setting up QA pipeline: ', last_err)\n",
    "        print('Final fallback failed: ', e)\n",
    "        # Re-raise to make failure visible to the caller\n",
    "        raise\n",
    "\n",
    "def load_validation_data(filename=\"val.jsonl\", dataset_dir=\"../PragmatiCQA/data\"):\n",
    "    \"\"\"Load and filter validation data to first questions only.\"\"\"\n",
    "    try:\n",
    "        with open(os.path.join(dataset_dir, filename), 'r') as f:\n",
    "            return [json.loads(line) for line in f]\n",
    "    except Exception as e:\n",
    "        print(f\"Error loading validation data: {e}\")\n",
    "        return []\n",
    "\n",
    "def evaluate_qa_approaches(val_data, search, qa_pipeline, metric, max_samples=None):\n",
    "    \"\"\"\n",
    "    Evaluate three QA approaches on first questions:\n",
    "    1. Using literal spans\n",
    "    2. Using pragmatic spans\n",
    "    3. Using retrieved context\n",
    "    \"\"\"\n",
    "    results = []\n",
    "    samples = val_data[:max_samples] if max_samples else val_data\n",
    "    \n",
    "    for doc in tqdm(samples, desc=\"Evaluating QA approaches\"):\n",
    "        if not doc.get(\"qas\"):\n",
    "            continue\n",
    "            \n",
    "        # Get first question data\n",
    "        qa = doc[\"qas\"][0]\n",
    "        question = qa[\"q\"]\n",
    "        gold = qa[\"a\"]\n",
    "        \n",
    "        # Setup contexts\n",
    "        literal_spans = [s[\"text\"] for s in qa[\"a_meta\"].get(\"literal_obj\", [])]\n",
    "        pragmatic_spans = [s[\"text\"] for s in qa[\"a_meta\"].get(\"pragmatic_obj\", [])]\n",
    "        literal_context = \" \".join(literal_spans).strip()\n",
    "        pragmatic_context = \" \".join(pragmatic_spans).strip()\n",
    "        \n",
    "        try:\n",
    "            topic = doc.get(\"topic\", \"\")\n",
    "            topic_corpus = read_html_files(topic)\n",
    "            if not topic_corpus:\n",
    "                print(f\"No corpus found for topic '{topic}', skipping question: {question}\")\n",
    "                continue\n",
    "            topic_search = dspy.retrievers.Embeddings(embedder=embedder, corpus=topic_corpus, k=topk_docs_to_retrieve)\n",
    "            retrieved_passages = topic_search(question).passages\n",
    "            retrieved_context = \" \".join(retrieved_passages).strip()\n",
    "        except Exception as e:\n",
    "            print(f\"Retrieval error for question: {question}\\nError: {e}\")\n",
    "            continue\n",
    "\n",
    "        # Generate answers\n",
    "        def get_answer(context):\n",
    "            if not context:\n",
    "                return \"\"\n",
    "            try:\n",
    "                result = qa_pipeline(question=question, context=context)\n",
    "                return result[\"answer\"] if isinstance(result, dict) else \"\"\n",
    "            except Exception as e:\n",
    "                print(f\"QA pipeline error: {e}\")\n",
    "                return \"\"\n",
    "\n",
    "        answers = {\n",
    "            \"literal\": get_answer(literal_context),\n",
    "            \"pragmatic\": get_answer(pragmatic_context),\n",
    "            \"retrieved\": get_answer(retrieved_context)\n",
    "        }\n",
    "\n",
    "        # Compute scores\n",
    "        gold_ex = dspy.Example(question=question, response=gold, \n",
    "                             inputs={\"context\": retrieved_context})\n",
    "        \n",
    "        scores = {}\n",
    "        for approach, answer in answers.items():\n",
    "            pred_ex = dspy.Example(question=question, response=answer,\n",
    "                                 inputs={\"context\": retrieved_context})\n",
    "            try:\n",
    "                scores[approach] = metric(gold_ex, pred_ex)\n",
    "            except Exception as e:\n",
    "                print(f\"Scoring error for {approach}: {e}\")\n",
    "                scores[approach] = 0.0\n",
    "\n",
    "        results.append({\n",
    "            \"topic\": doc.get(\"topic\", \"unknown\"),\n",
    "            \"question\": question,\n",
    "            \"gold\": gold,\n",
    "            \"ans_literal\": answers.get(\"literal\", \"\"),\n",
    "            \"ans_pragmatic\": answers.get(\"pragmatic\", \"\"),\n",
    "            \"ans_retrieved\": answers.get(\"retrieved\", \"\"),\n",
    "            \"f1_literal\": scores.get(\"literal\", 0.0),\n",
    "            \"f1_pragmatic\": scores.get(\"pragmatic\", 0.0),\n",
    "            \"f1_retrieved\": scores.get(\"retrieved\", 0.0)\n",
    "        })\n",
    "        \n",
    "    return pd.DataFrame(results)\n",
    "\n",
    "# Setup components\n",
    "print(\"Setting up evaluation pipeline...\")\n",
    "qa_pipeline = setup_qa_pipeline(device='cuda')\n",
    "metric = SemanticF1(decompositional=True)\n",
    "val_data = load_validation_data()\n",
    "num_samples = 100\n",
    "if not val_data:\n",
    "    print(\"No validation data loaded!\")\n",
    "else:\n",
    "    print(f\"Loaded {len(val_data)} validation documents\")\n",
    "    \n",
    "    # Run evaluation\n",
    "    print(\"\\nEvaluating first questions from validation set...\")\n",
    "    results_df = evaluate_qa_approaches(val_data, search, qa_pipeline, metric,max_samples=num_samples)\n",
    "    \n",
    "    # Show aggregate results\n",
    "    print(\"\\nAggregate Results:\")\n",
    "    agg_scores = results_df[[\"f1_literal\", \"f1_pragmatic\", \"f1_retrieved\"]].mean()\n",
    "    print(\"\\nMean F1 across all questions:\")\n",
    "    print(agg_scores)\n",
    "    \n",
    "    # Show sample predictions\n",
    "    print(\"\\nSample Predictions (first 3):\")\n",
    "    for _, row in results_df.head(3).iterrows():\n",
    "        print(\"\\nQuestion:\", row[\"question\"])\n",
    "        print(\"Gold:\", row[\"gold\"][:200], \"...\" if len(row[\"gold\"]) > 200 else \"\")\n",
    "        print(f\"Literal (F1 {row['f1_literal']:.2f}):\", row[\"ans_literal\"])\n",
    "        print(f\"Pragmatic (F1 {row['f1_pragmatic']:.2f}):\", row[\"ans_pragmatic\"])\n",
    "        print(f\"Retrieved (F1 {row['f1_retrieved']:.2f}):\", row[\"ans_retrieved\"])\n",
    "        print(\"-\" * 80)\n",
    "\n",
    "# Save results\n",
    "results_df.to_csv(\"traditional_qa_results.csv\", index=False)\n",
    "print(\"\\nFull results saved to traditional_qa_results.csv\")"
   ],
   "outputs": [
    {
     "name": "stdout",
     "output_type": "stream",
     "text": [
      "Setting up evaluation pipeline...\n"
     ]
    },
    {
     "name": "stderr",
     "output_type": "stream",
     "text": [
      "Device set to use cuda:0\n"
     ]
    },
    {
     "name": "stdout",
     "output_type": "stream",
     "text": [
      "Loaded 179 validation documents\n",
      "\n",
      "Evaluating first questions from validation set...\n"
     ]
    },
    {
     "data": {
      "text/plain": [
       "Evaluating QA approaches:   0%|          | 0/100 [00:00<?, ?it/s]"
      ],
      "application/vnd.jupyter.widget-view+json": {
       "version_major": 2,
       "version_minor": 0,
       "model_id": "43820e5e2e6a4d8582f5fe5e5b75cc66"
      }
     },
     "metadata": {},
     "output_type": "display_data",
     "jetTransient": {
      "display_id": null
     }
    },
    {
     "name": "stdout",
     "output_type": "stream",
     "text": [
      "Directory not found: /home/lotemsakira/PycharmProjects/PragmatiCQA-sources/A Nightmare on Elm Street (2010 film)\n",
      "No corpus found for topic 'A Nightmare on Elm Street (2010 film)', skipping question: who is freddy krueger?\n",
      "Directory not found: /home/lotemsakira/PycharmProjects/PragmatiCQA-sources/A Nightmare on Elm Street (2010 film)\n",
      "No corpus found for topic 'A Nightmare on Elm Street (2010 film)', skipping question: who was the star on this movie?\n",
      "Directory not found: /home/lotemsakira/PycharmProjects/PragmatiCQA-sources/A Nightmare on Elm Street (2010 film)\n",
      "No corpus found for topic 'A Nightmare on Elm Street (2010 film)', skipping question: What is the movie about?\n",
      "Directory not found: /home/lotemsakira/PycharmProjects/PragmatiCQA-sources/A Nightmare on Elm Street (2010 film)\n",
      "No corpus found for topic 'A Nightmare on Elm Street (2010 film)', skipping question: Who directed the new film?\n"
     ]
    },
    {
     "name": "stderr",
     "output_type": "stream",
     "text": [
      "2025/09/06 09:49:58 WARNING dspy.adapters.json_adapter: Failed to use structured output format, falling back to JSON mode.\n"
     ]
    },
    {
     "name": "stdout",
     "output_type": "stream",
     "text": [
      "Scoring error for retrieved: Both structured output format and JSON mode failed. Please choose a model that supports `response_format` argument. Original error: litellm.AuthenticationError: AuthenticationError: XaiException - {\"error\":{\"code\":401,\"message\":\"No or an invalid authentication header was provided on the request. Please make sure you pass your API key in the corresponding HTTP header.\"}}\n"
     ]
    },
    {
     "name": "stderr",
     "output_type": "stream",
     "text": [
      "2025/09/06 09:50:14 WARNING dspy.adapters.json_adapter: Failed to use structured output format, falling back to JSON mode.\n"
     ]
    },
    {
     "name": "stdout",
     "output_type": "stream",
     "text": [
      "Scoring error for retrieved: Both structured output format and JSON mode failed. Please choose a model that supports `response_format` argument. Original error: litellm.AuthenticationError: AuthenticationError: XaiException - {\"error\":{\"code\":401,\"message\":\"No or an invalid authentication header was provided on the request. Please make sure you pass your API key in the corresponding HTTP header.\"}}\n"
     ]
    },
    {
     "name": "stderr",
     "output_type": "stream",
     "text": [
      "2025/09/06 09:50:27 WARNING dspy.adapters.json_adapter: Failed to use structured output format, falling back to JSON mode.\n"
     ]
    },
    {
     "name": "stdout",
     "output_type": "stream",
     "text": [
      "Scoring error for retrieved: Both structured output format and JSON mode failed. Please choose a model that supports `response_format` argument. Original error: litellm.AuthenticationError: AuthenticationError: XaiException - {\"error\":{\"code\":401,\"message\":\"No or an invalid authentication header was provided on the request. Please make sure you pass your API key in the corresponding HTTP header.\"}}\n"
     ]
    },
    {
     "name": "stderr",
     "output_type": "stream",
     "text": [
      "You seem to be using the pipelines sequentially on GPU. In order to maximize efficiency please use a dataset\n",
      "2025/09/06 09:50:41 WARNING dspy.adapters.json_adapter: Failed to use structured output format, falling back to JSON mode.\n"
     ]
    },
    {
     "name": "stdout",
     "output_type": "stream",
     "text": [
      "Scoring error for retrieved: Both structured output format and JSON mode failed. Please choose a model that supports `response_format` argument. Original error: litellm.AuthenticationError: AuthenticationError: XaiException - {\"error\":{\"code\":401,\"message\":\"No or an invalid authentication header was provided on the request. Please make sure you pass your API key in the corresponding HTTP header.\"}}\n"
     ]
    },
    {
     "name": "stderr",
     "output_type": "stream",
     "text": [
      "2025/09/06 09:50:55 WARNING dspy.adapters.json_adapter: Failed to use structured output format, falling back to JSON mode.\n"
     ]
    },
    {
     "name": "stdout",
     "output_type": "stream",
     "text": [
      "Scoring error for retrieved: Both structured output format and JSON mode failed. Please choose a model that supports `response_format` argument. Original error: litellm.AuthenticationError: AuthenticationError: XaiException - {\"error\":{\"code\":401,\"message\":\"No or an invalid authentication header was provided on the request. Please make sure you pass your API key in the corresponding HTTP header.\"}}\n"
     ]
    },
    {
     "name": "stderr",
     "output_type": "stream",
     "text": [
      "2025/09/06 09:51:15 WARNING dspy.adapters.json_adapter: Failed to use structured output format, falling back to JSON mode.\n"
     ]
    },
    {
     "name": "stdout",
     "output_type": "stream",
     "text": [
      "Scoring error for retrieved: Both structured output format and JSON mode failed. Please choose a model that supports `response_format` argument. Original error: litellm.AuthenticationError: AuthenticationError: XaiException - {\"error\":{\"code\":401,\"message\":\"No or an invalid authentication header was provided on the request. Please make sure you pass your API key in the corresponding HTTP header.\"}}\n"
     ]
    },
    {
     "name": "stderr",
     "output_type": "stream",
     "text": [
      "2025/09/06 09:51:29 WARNING dspy.adapters.json_adapter: Failed to use structured output format, falling back to JSON mode.\n"
     ]
    },
    {
     "name": "stdout",
     "output_type": "stream",
     "text": [
      "Scoring error for retrieved: Both structured output format and JSON mode failed. Please choose a model that supports `response_format` argument. Original error: litellm.AuthenticationError: AuthenticationError: XaiException - {\"error\":{\"code\":401,\"message\":\"No or an invalid authentication header was provided on the request. Please make sure you pass your API key in the corresponding HTTP header.\"}}\n"
     ]
    },
    {
     "name": "stderr",
     "output_type": "stream",
     "text": [
      "2025/09/06 09:51:40 WARNING dspy.adapters.json_adapter: Failed to use structured output format, falling back to JSON mode.\n"
     ]
    },
    {
     "name": "stdout",
     "output_type": "stream",
     "text": [
      "Scoring error for retrieved: Both structured output format and JSON mode failed. Please choose a model that supports `response_format` argument. Original error: litellm.AuthenticationError: AuthenticationError: XaiException - {\"error\":{\"code\":401,\"message\":\"No or an invalid authentication header was provided on the request. Please make sure you pass your API key in the corresponding HTTP header.\"}}\n"
     ]
    },
    {
     "name": "stderr",
     "output_type": "stream",
     "text": [
      "2025/09/06 09:51:52 WARNING dspy.adapters.json_adapter: Failed to use structured output format, falling back to JSON mode.\n"
     ]
    },
    {
     "name": "stdout",
     "output_type": "stream",
     "text": [
      "Scoring error for retrieved: Both structured output format and JSON mode failed. Please choose a model that supports `response_format` argument. Original error: litellm.AuthenticationError: AuthenticationError: XaiException - {\"error\":{\"code\":401,\"message\":\"No or an invalid authentication header was provided on the request. Please make sure you pass your API key in the corresponding HTTP header.\"}}\n"
     ]
    },
    {
     "name": "stderr",
     "output_type": "stream",
     "text": [
      "2025/09/06 09:52:04 WARNING dspy.adapters.json_adapter: Failed to use structured output format, falling back to JSON mode.\n"
     ]
    },
    {
     "name": "stdout",
     "output_type": "stream",
     "text": [
      "Scoring error for retrieved: Both structured output format and JSON mode failed. Please choose a model that supports `response_format` argument. Original error: litellm.AuthenticationError: AuthenticationError: XaiException - {\"error\":{\"code\":401,\"message\":\"No or an invalid authentication header was provided on the request. Please make sure you pass your API key in the corresponding HTTP header.\"}}\n"
     ]
    },
    {
     "name": "stderr",
     "output_type": "stream",
     "text": [
      "2025/09/06 09:52:15 WARNING dspy.adapters.json_adapter: Failed to use structured output format, falling back to JSON mode.\n"
     ]
    },
    {
     "name": "stdout",
     "output_type": "stream",
     "text": [
      "Scoring error for retrieved: Both structured output format and JSON mode failed. Please choose a model that supports `response_format` argument. Original error: litellm.AuthenticationError: AuthenticationError: XaiException - {\"error\":{\"code\":401,\"message\":\"No or an invalid authentication header was provided on the request. Please make sure you pass your API key in the corresponding HTTP header.\"}}\n"
     ]
    },
    {
     "name": "stderr",
     "output_type": "stream",
     "text": [
      "2025/09/06 09:52:29 WARNING dspy.adapters.json_adapter: Failed to use structured output format, falling back to JSON mode.\n"
     ]
    },
    {
     "name": "stdout",
     "output_type": "stream",
     "text": [
      "Scoring error for retrieved: Both structured output format and JSON mode failed. Please choose a model that supports `response_format` argument. Original error: litellm.AuthenticationError: AuthenticationError: XaiException - {\"error\":{\"code\":401,\"message\":\"No or an invalid authentication header was provided on the request. Please make sure you pass your API key in the corresponding HTTP header.\"}}\n"
     ]
    },
    {
     "name": "stderr",
     "output_type": "stream",
     "text": [
      "2025/09/06 09:52:43 WARNING dspy.adapters.json_adapter: Failed to use structured output format, falling back to JSON mode.\n"
     ]
    },
    {
     "name": "stdout",
     "output_type": "stream",
     "text": [
      "Scoring error for retrieved: Both structured output format and JSON mode failed. Please choose a model that supports `response_format` argument. Original error: litellm.AuthenticationError: AuthenticationError: XaiException - {\"error\":{\"code\":401,\"message\":\"No or an invalid authentication header was provided on the request. Please make sure you pass your API key in the corresponding HTTP header.\"}}\n"
     ]
    },
    {
     "name": "stderr",
     "output_type": "stream",
     "text": [
      "2025/09/06 09:52:54 WARNING dspy.adapters.json_adapter: Failed to use structured output format, falling back to JSON mode.\n"
     ]
    },
    {
     "name": "stdout",
     "output_type": "stream",
     "text": [
      "Scoring error for retrieved: Both structured output format and JSON mode failed. Please choose a model that supports `response_format` argument. Original error: litellm.AuthenticationError: AuthenticationError: XaiException - {\"error\":{\"code\":401,\"message\":\"No or an invalid authentication header was provided on the request. Please make sure you pass your API key in the corresponding HTTP header.\"}}\n"
     ]
    },
    {
     "name": "stderr",
     "output_type": "stream",
     "text": [
      "2025/09/06 09:53:06 WARNING dspy.adapters.json_adapter: Failed to use structured output format, falling back to JSON mode.\n"
     ]
    },
    {
     "name": "stdout",
     "output_type": "stream",
     "text": [
      "Scoring error for retrieved: Both structured output format and JSON mode failed. Please choose a model that supports `response_format` argument. Original error: litellm.AuthenticationError: AuthenticationError: XaiException - {\"error\":{\"code\":401,\"message\":\"No or an invalid authentication header was provided on the request. Please make sure you pass your API key in the corresponding HTTP header.\"}}\n"
     ]
    },
    {
     "name": "stderr",
     "output_type": "stream",
     "text": [
      "2025/09/06 09:53:17 WARNING dspy.adapters.json_adapter: Failed to use structured output format, falling back to JSON mode.\n"
     ]
    },
    {
     "name": "stdout",
     "output_type": "stream",
     "text": [
      "Scoring error for retrieved: Both structured output format and JSON mode failed. Please choose a model that supports `response_format` argument. Original error: litellm.AuthenticationError: AuthenticationError: XaiException - {\"error\":{\"code\":401,\"message\":\"No or an invalid authentication header was provided on the request. Please make sure you pass your API key in the corresponding HTTP header.\"}}\n"
     ]
    },
    {
     "name": "stderr",
     "output_type": "stream",
     "text": [
      "2025/09/06 09:53:28 WARNING dspy.adapters.json_adapter: Failed to use structured output format, falling back to JSON mode.\n"
     ]
    },
    {
     "name": "stdout",
     "output_type": "stream",
     "text": [
      "Scoring error for retrieved: Both structured output format and JSON mode failed. Please choose a model that supports `response_format` argument. Original error: litellm.AuthenticationError: AuthenticationError: XaiException - {\"error\":{\"code\":401,\"message\":\"No or an invalid authentication header was provided on the request. Please make sure you pass your API key in the corresponding HTTP header.\"}}\n"
     ]
    },
    {
     "name": "stderr",
     "output_type": "stream",
     "text": [
      "2025/09/06 09:53:40 WARNING dspy.adapters.json_adapter: Failed to use structured output format, falling back to JSON mode.\n"
     ]
    },
    {
     "name": "stdout",
     "output_type": "stream",
     "text": [
      "Scoring error for retrieved: Both structured output format and JSON mode failed. Please choose a model that supports `response_format` argument. Original error: litellm.AuthenticationError: AuthenticationError: XaiException - {\"error\":{\"code\":401,\"message\":\"No or an invalid authentication header was provided on the request. Please make sure you pass your API key in the corresponding HTTP header.\"}}\n"
     ]
    },
    {
     "name": "stderr",
     "output_type": "stream",
     "text": [
      "2025/09/06 09:53:52 WARNING dspy.adapters.json_adapter: Failed to use structured output format, falling back to JSON mode.\n"
     ]
    },
    {
     "name": "stdout",
     "output_type": "stream",
     "text": [
      "Scoring error for retrieved: Both structured output format and JSON mode failed. Please choose a model that supports `response_format` argument. Original error: litellm.AuthenticationError: AuthenticationError: XaiException - {\"error\":{\"code\":401,\"message\":\"No or an invalid authentication header was provided on the request. Please make sure you pass your API key in the corresponding HTTP header.\"}}\n"
     ]
    },
    {
     "name": "stderr",
     "output_type": "stream",
     "text": [
      "2025/09/06 09:54:04 WARNING dspy.adapters.json_adapter: Failed to use structured output format, falling back to JSON mode.\n"
     ]
    },
    {
     "name": "stdout",
     "output_type": "stream",
     "text": [
      "Scoring error for retrieved: Both structured output format and JSON mode failed. Please choose a model that supports `response_format` argument. Original error: litellm.AuthenticationError: AuthenticationError: XaiException - {\"error\":{\"code\":401,\"message\":\"No or an invalid authentication header was provided on the request. Please make sure you pass your API key in the corresponding HTTP header.\"}}\n"
     ]
    },
    {
     "name": "stderr",
     "output_type": "stream",
     "text": [
      "2025/09/06 09:54:15 WARNING dspy.adapters.json_adapter: Failed to use structured output format, falling back to JSON mode.\n"
     ]
    },
    {
     "name": "stdout",
     "output_type": "stream",
     "text": [
      "Scoring error for retrieved: Both structured output format and JSON mode failed. Please choose a model that supports `response_format` argument. Original error: litellm.AuthenticationError: AuthenticationError: XaiException - {\"error\":{\"code\":401,\"message\":\"No or an invalid authentication header was provided on the request. Please make sure you pass your API key in the corresponding HTTP header.\"}}\n"
     ]
    },
    {
     "name": "stderr",
     "output_type": "stream",
     "text": [
      "2025/09/06 09:54:26 WARNING dspy.adapters.json_adapter: Failed to use structured output format, falling back to JSON mode.\n"
     ]
    },
    {
     "name": "stdout",
     "output_type": "stream",
     "text": [
      "Scoring error for retrieved: Both structured output format and JSON mode failed. Please choose a model that supports `response_format` argument. Original error: litellm.AuthenticationError: AuthenticationError: XaiException - {\"error\":{\"code\":401,\"message\":\"No or an invalid authentication header was provided on the request. Please make sure you pass your API key in the corresponding HTTP header.\"}}\n"
     ]
    },
    {
     "name": "stderr",
     "output_type": "stream",
     "text": [
      "2025/09/06 09:54:45 WARNING dspy.adapters.json_adapter: Failed to use structured output format, falling back to JSON mode.\n"
     ]
    },
    {
     "name": "stdout",
     "output_type": "stream",
     "text": [
      "Scoring error for retrieved: Both structured output format and JSON mode failed. Please choose a model that supports `response_format` argument. Original error: litellm.AuthenticationError: AuthenticationError: XaiException - {\"error\":{\"code\":401,\"message\":\"No or an invalid authentication header was provided on the request. Please make sure you pass your API key in the corresponding HTTP header.\"}}\n"
     ]
    },
    {
     "name": "stderr",
     "output_type": "stream",
     "text": [
      "2025/09/06 09:54:58 WARNING dspy.adapters.json_adapter: Failed to use structured output format, falling back to JSON mode.\n"
     ]
    },
    {
     "name": "stdout",
     "output_type": "stream",
     "text": [
      "Scoring error for retrieved: Both structured output format and JSON mode failed. Please choose a model that supports `response_format` argument. Original error: litellm.AuthenticationError: AuthenticationError: XaiException - {\"error\":{\"code\":401,\"message\":\"No or an invalid authentication header was provided on the request. Please make sure you pass your API key in the corresponding HTTP header.\"}}\n"
     ]
    },
    {
     "name": "stderr",
     "output_type": "stream",
     "text": [
      "2025/09/06 09:55:09 WARNING dspy.adapters.json_adapter: Failed to use structured output format, falling back to JSON mode.\n"
     ]
    },
    {
     "name": "stdout",
     "output_type": "stream",
     "text": [
      "Scoring error for retrieved: Both structured output format and JSON mode failed. Please choose a model that supports `response_format` argument. Original error: litellm.AuthenticationError: AuthenticationError: XaiException - {\"error\":{\"code\":401,\"message\":\"No or an invalid authentication header was provided on the request. Please make sure you pass your API key in the corresponding HTTP header.\"}}\n"
     ]
    },
    {
     "name": "stderr",
     "output_type": "stream",
     "text": [
      "2025/09/06 09:55:20 WARNING dspy.adapters.json_adapter: Failed to use structured output format, falling back to JSON mode.\n"
     ]
    },
    {
     "name": "stdout",
     "output_type": "stream",
     "text": [
      "Scoring error for retrieved: Both structured output format and JSON mode failed. Please choose a model that supports `response_format` argument. Original error: litellm.AuthenticationError: AuthenticationError: XaiException - {\"error\":{\"code\":401,\"message\":\"No or an invalid authentication header was provided on the request. Please make sure you pass your API key in the corresponding HTTP header.\"}}\n"
     ]
    },
    {
     "name": "stderr",
     "output_type": "stream",
     "text": [
      "2025/09/06 09:55:32 WARNING dspy.adapters.json_adapter: Failed to use structured output format, falling back to JSON mode.\n"
     ]
    },
    {
     "name": "stdout",
     "output_type": "stream",
     "text": [
      "Scoring error for retrieved: Both structured output format and JSON mode failed. Please choose a model that supports `response_format` argument. Original error: litellm.AuthenticationError: AuthenticationError: XaiException - {\"error\":{\"code\":401,\"message\":\"No or an invalid authentication header was provided on the request. Please make sure you pass your API key in the corresponding HTTP header.\"}}\n"
     ]
    },
    {
     "name": "stderr",
     "output_type": "stream",
     "text": [
      "2025/09/06 09:55:43 WARNING dspy.adapters.json_adapter: Failed to use structured output format, falling back to JSON mode.\n"
     ]
    },
    {
     "name": "stdout",
     "output_type": "stream",
     "text": [
      "Scoring error for retrieved: Both structured output format and JSON mode failed. Please choose a model that supports `response_format` argument. Original error: litellm.AuthenticationError: AuthenticationError: XaiException - {\"error\":{\"code\":401,\"message\":\"No or an invalid authentication header was provided on the request. Please make sure you pass your API key in the corresponding HTTP header.\"}}\n"
     ]
    },
    {
     "name": "stderr",
     "output_type": "stream",
     "text": [
      "2025/09/06 09:55:54 WARNING dspy.adapters.json_adapter: Failed to use structured output format, falling back to JSON mode.\n"
     ]
    },
    {
     "name": "stdout",
     "output_type": "stream",
     "text": [
      "Scoring error for retrieved: Both structured output format and JSON mode failed. Please choose a model that supports `response_format` argument. Original error: litellm.AuthenticationError: AuthenticationError: XaiException - {\"error\":{\"code\":401,\"message\":\"No or an invalid authentication header was provided on the request. Please make sure you pass your API key in the corresponding HTTP header.\"}}\n"
     ]
    },
    {
     "name": "stderr",
     "output_type": "stream",
     "text": [
      "2025/09/06 09:56:05 WARNING dspy.adapters.json_adapter: Failed to use structured output format, falling back to JSON mode.\n"
     ]
    },
    {
     "name": "stdout",
     "output_type": "stream",
     "text": [
      "Scoring error for retrieved: Both structured output format and JSON mode failed. Please choose a model that supports `response_format` argument. Original error: litellm.AuthenticationError: AuthenticationError: XaiException - {\"error\":{\"code\":401,\"message\":\"No or an invalid authentication header was provided on the request. Please make sure you pass your API key in the corresponding HTTP header.\"}}\n"
     ]
    },
    {
     "name": "stderr",
     "output_type": "stream",
     "text": [
      "2025/09/06 09:56:17 WARNING dspy.adapters.json_adapter: Failed to use structured output format, falling back to JSON mode.\n"
     ]
    },
    {
     "name": "stdout",
     "output_type": "stream",
     "text": [
      "Scoring error for retrieved: Both structured output format and JSON mode failed. Please choose a model that supports `response_format` argument. Original error: litellm.AuthenticationError: AuthenticationError: XaiException - {\"error\":{\"code\":401,\"message\":\"No or an invalid authentication header was provided on the request. Please make sure you pass your API key in the corresponding HTTP header.\"}}\n"
     ]
    },
    {
     "name": "stderr",
     "output_type": "stream",
     "text": [
      "2025/09/06 09:56:30 WARNING dspy.adapters.json_adapter: Failed to use structured output format, falling back to JSON mode.\n"
     ]
    },
    {
     "name": "stdout",
     "output_type": "stream",
     "text": [
      "Scoring error for retrieved: Both structured output format and JSON mode failed. Please choose a model that supports `response_format` argument. Original error: litellm.AuthenticationError: AuthenticationError: XaiException - {\"error\":{\"code\":401,\"message\":\"No or an invalid authentication header was provided on the request. Please make sure you pass your API key in the corresponding HTTP header.\"}}\n"
     ]
    },
    {
     "name": "stderr",
     "output_type": "stream",
     "text": [
      "2025/09/06 09:56:42 WARNING dspy.adapters.json_adapter: Failed to use structured output format, falling back to JSON mode.\n"
     ]
    },
    {
     "name": "stdout",
     "output_type": "stream",
     "text": [
      "Scoring error for retrieved: Both structured output format and JSON mode failed. Please choose a model that supports `response_format` argument. Original error: litellm.AuthenticationError: AuthenticationError: XaiException - {\"error\":{\"code\":401,\"message\":\"No or an invalid authentication header was provided on the request. Please make sure you pass your API key in the corresponding HTTP header.\"}}\n"
     ]
    },
    {
     "name": "stderr",
     "output_type": "stream",
     "text": [
      "2025/09/06 09:56:53 WARNING dspy.adapters.json_adapter: Failed to use structured output format, falling back to JSON mode.\n"
     ]
    },
    {
     "name": "stdout",
     "output_type": "stream",
     "text": [
      "Scoring error for retrieved: Both structured output format and JSON mode failed. Please choose a model that supports `response_format` argument. Original error: litellm.AuthenticationError: AuthenticationError: XaiException - {\"error\":{\"code\":401,\"message\":\"No or an invalid authentication header was provided on the request. Please make sure you pass your API key in the corresponding HTTP header.\"}}\n"
     ]
    },
    {
     "name": "stderr",
     "output_type": "stream",
     "text": [
      "2025/09/06 09:57:07 WARNING dspy.adapters.json_adapter: Failed to use structured output format, falling back to JSON mode.\n"
     ]
    },
    {
     "name": "stdout",
     "output_type": "stream",
     "text": [
      "Scoring error for retrieved: Both structured output format and JSON mode failed. Please choose a model that supports `response_format` argument. Original error: litellm.AuthenticationError: AuthenticationError: XaiException - {\"error\":{\"code\":401,\"message\":\"No or an invalid authentication header was provided on the request. Please make sure you pass your API key in the corresponding HTTP header.\"}}\n"
     ]
    },
    {
     "name": "stderr",
     "output_type": "stream",
     "text": [
      "2025/09/06 09:57:19 WARNING dspy.adapters.json_adapter: Failed to use structured output format, falling back to JSON mode.\n"
     ]
    },
    {
     "name": "stdout",
     "output_type": "stream",
     "text": [
      "Scoring error for retrieved: Both structured output format and JSON mode failed. Please choose a model that supports `response_format` argument. Original error: litellm.AuthenticationError: AuthenticationError: XaiException - {\"error\":{\"code\":401,\"message\":\"No or an invalid authentication header was provided on the request. Please make sure you pass your API key in the corresponding HTTP header.\"}}\n"
     ]
    },
    {
     "name": "stderr",
     "output_type": "stream",
     "text": [
      "2025/09/06 09:57:27 WARNING dspy.adapters.json_adapter: Failed to use structured output format, falling back to JSON mode.\n"
     ]
    },
    {
     "name": "stdout",
     "output_type": "stream",
     "text": [
      "Scoring error for retrieved: Both structured output format and JSON mode failed. Please choose a model that supports `response_format` argument. Original error: litellm.AuthenticationError: AuthenticationError: XaiException - {\"error\":{\"code\":401,\"message\":\"No or an invalid authentication header was provided on the request. Please make sure you pass your API key in the corresponding HTTP header.\"}}\n"
     ]
    },
    {
     "name": "stderr",
     "output_type": "stream",
     "text": [
      "2025/09/06 09:57:36 WARNING dspy.adapters.json_adapter: Failed to use structured output format, falling back to JSON mode.\n"
     ]
    },
    {
     "name": "stdout",
     "output_type": "stream",
     "text": [
      "Scoring error for retrieved: Both structured output format and JSON mode failed. Please choose a model that supports `response_format` argument. Original error: litellm.AuthenticationError: AuthenticationError: XaiException - {\"error\":{\"code\":401,\"message\":\"No or an invalid authentication header was provided on the request. Please make sure you pass your API key in the corresponding HTTP header.\"}}\n"
     ]
    },
    {
     "name": "stderr",
     "output_type": "stream",
     "text": [
      "2025/09/06 09:57:44 WARNING dspy.adapters.json_adapter: Failed to use structured output format, falling back to JSON mode.\n"
     ]
    },
    {
     "name": "stdout",
     "output_type": "stream",
     "text": [
      "Scoring error for retrieved: Both structured output format and JSON mode failed. Please choose a model that supports `response_format` argument. Original error: litellm.AuthenticationError: AuthenticationError: XaiException - {\"error\":{\"code\":401,\"message\":\"No or an invalid authentication header was provided on the request. Please make sure you pass your API key in the corresponding HTTP header.\"}}\n"
     ]
    },
    {
     "name": "stderr",
     "output_type": "stream",
     "text": [
      "2025/09/06 09:57:52 WARNING dspy.adapters.json_adapter: Failed to use structured output format, falling back to JSON mode.\n"
     ]
    },
    {
     "name": "stdout",
     "output_type": "stream",
     "text": [
      "Scoring error for retrieved: Both structured output format and JSON mode failed. Please choose a model that supports `response_format` argument. Original error: litellm.AuthenticationError: AuthenticationError: XaiException - {\"error\":{\"code\":401,\"message\":\"No or an invalid authentication header was provided on the request. Please make sure you pass your API key in the corresponding HTTP header.\"}}\n"
     ]
    },
    {
     "name": "stderr",
     "output_type": "stream",
     "text": [
      "2025/09/06 09:58:01 WARNING dspy.adapters.json_adapter: Failed to use structured output format, falling back to JSON mode.\n"
     ]
    },
    {
     "name": "stdout",
     "output_type": "stream",
     "text": [
      "Scoring error for retrieved: Both structured output format and JSON mode failed. Please choose a model that supports `response_format` argument. Original error: litellm.AuthenticationError: AuthenticationError: XaiException - {\"error\":{\"code\":401,\"message\":\"No or an invalid authentication header was provided on the request. Please make sure you pass your API key in the corresponding HTTP header.\"}}\n"
     ]
    },
    {
     "name": "stderr",
     "output_type": "stream",
     "text": [
      "2025/09/06 09:58:09 WARNING dspy.adapters.json_adapter: Failed to use structured output format, falling back to JSON mode.\n"
     ]
    },
    {
     "name": "stdout",
     "output_type": "stream",
     "text": [
      "Scoring error for retrieved: Both structured output format and JSON mode failed. Please choose a model that supports `response_format` argument. Original error: litellm.AuthenticationError: AuthenticationError: XaiException - {\"error\":{\"code\":401,\"message\":\"No or an invalid authentication header was provided on the request. Please make sure you pass your API key in the corresponding HTTP header.\"}}\n"
     ]
    },
    {
     "name": "stderr",
     "output_type": "stream",
     "text": [
      "2025/09/06 09:58:17 WARNING dspy.adapters.json_adapter: Failed to use structured output format, falling back to JSON mode.\n"
     ]
    },
    {
     "name": "stdout",
     "output_type": "stream",
     "text": [
      "Scoring error for retrieved: Both structured output format and JSON mode failed. Please choose a model that supports `response_format` argument. Original error: litellm.AuthenticationError: AuthenticationError: XaiException - {\"error\":{\"code\":401,\"message\":\"No or an invalid authentication header was provided on the request. Please make sure you pass your API key in the corresponding HTTP header.\"}}\n"
     ]
    },
    {
     "name": "stderr",
     "output_type": "stream",
     "text": [
      "2025/09/06 09:58:25 WARNING dspy.adapters.json_adapter: Failed to use structured output format, falling back to JSON mode.\n"
     ]
    },
    {
     "name": "stdout",
     "output_type": "stream",
     "text": [
      "Scoring error for retrieved: Both structured output format and JSON mode failed. Please choose a model that supports `response_format` argument. Original error: litellm.AuthenticationError: AuthenticationError: XaiException - {\"error\":{\"code\":401,\"message\":\"No or an invalid authentication header was provided on the request. Please make sure you pass your API key in the corresponding HTTP header.\"}}\n"
     ]
    },
    {
     "name": "stderr",
     "output_type": "stream",
     "text": [
      "2025/09/06 09:58:34 WARNING dspy.adapters.json_adapter: Failed to use structured output format, falling back to JSON mode.\n"
     ]
    },
    {
     "name": "stdout",
     "output_type": "stream",
     "text": [
      "Scoring error for retrieved: Both structured output format and JSON mode failed. Please choose a model that supports `response_format` argument. Original error: litellm.AuthenticationError: AuthenticationError: XaiException - {\"error\":{\"code\":401,\"message\":\"No or an invalid authentication header was provided on the request. Please make sure you pass your API key in the corresponding HTTP header.\"}}\n"
     ]
    },
    {
     "name": "stderr",
     "output_type": "stream",
     "text": [
      "2025/09/06 09:58:42 WARNING dspy.adapters.json_adapter: Failed to use structured output format, falling back to JSON mode.\n"
     ]
    },
    {
     "name": "stdout",
     "output_type": "stream",
     "text": [
      "Scoring error for retrieved: Both structured output format and JSON mode failed. Please choose a model that supports `response_format` argument. Original error: litellm.AuthenticationError: AuthenticationError: XaiException - {\"error\":{\"code\":401,\"message\":\"No or an invalid authentication header was provided on the request. Please make sure you pass your API key in the corresponding HTTP header.\"}}\n"
     ]
    },
    {
     "name": "stderr",
     "output_type": "stream",
     "text": [
      "2025/09/06 09:58:50 WARNING dspy.adapters.json_adapter: Failed to use structured output format, falling back to JSON mode.\n"
     ]
    },
    {
     "name": "stdout",
     "output_type": "stream",
     "text": [
      "Scoring error for retrieved: Both structured output format and JSON mode failed. Please choose a model that supports `response_format` argument. Original error: litellm.AuthenticationError: AuthenticationError: XaiException - {\"error\":{\"code\":401,\"message\":\"No or an invalid authentication header was provided on the request. Please make sure you pass your API key in the corresponding HTTP header.\"}}\n"
     ]
    },
    {
     "name": "stderr",
     "output_type": "stream",
     "text": [
      "2025/09/06 09:58:59 WARNING dspy.adapters.json_adapter: Failed to use structured output format, falling back to JSON mode.\n"
     ]
    },
    {
     "name": "stdout",
     "output_type": "stream",
     "text": [
      "Scoring error for retrieved: Both structured output format and JSON mode failed. Please choose a model that supports `response_format` argument. Original error: litellm.AuthenticationError: AuthenticationError: XaiException - {\"error\":{\"code\":401,\"message\":\"No or an invalid authentication header was provided on the request. Please make sure you pass your API key in the corresponding HTTP header.\"}}\n"
     ]
    },
    {
     "name": "stderr",
     "output_type": "stream",
     "text": [
      "2025/09/06 09:59:07 WARNING dspy.adapters.json_adapter: Failed to use structured output format, falling back to JSON mode.\n"
     ]
    },
    {
     "name": "stdout",
     "output_type": "stream",
     "text": [
      "Scoring error for retrieved: Both structured output format and JSON mode failed. Please choose a model that supports `response_format` argument. Original error: litellm.AuthenticationError: AuthenticationError: XaiException - {\"error\":{\"code\":401,\"message\":\"No or an invalid authentication header was provided on the request. Please make sure you pass your API key in the corresponding HTTP header.\"}}\n"
     ]
    },
    {
     "name": "stderr",
     "output_type": "stream",
     "text": [
      "2025/09/06 09:59:15 WARNING dspy.adapters.json_adapter: Failed to use structured output format, falling back to JSON mode.\n"
     ]
    },
    {
     "name": "stdout",
     "output_type": "stream",
     "text": [
      "Scoring error for retrieved: Both structured output format and JSON mode failed. Please choose a model that supports `response_format` argument. Original error: litellm.AuthenticationError: AuthenticationError: XaiException - {\"error\":{\"code\":401,\"message\":\"No or an invalid authentication header was provided on the request. Please make sure you pass your API key in the corresponding HTTP header.\"}}\n"
     ]
    },
    {
     "name": "stderr",
     "output_type": "stream",
     "text": [
      "2025/09/06 09:59:24 WARNING dspy.adapters.json_adapter: Failed to use structured output format, falling back to JSON mode.\n"
     ]
    },
    {
     "name": "stdout",
     "output_type": "stream",
     "text": [
      "Scoring error for retrieved: Both structured output format and JSON mode failed. Please choose a model that supports `response_format` argument. Original error: litellm.AuthenticationError: AuthenticationError: XaiException - {\"error\":{\"code\":401,\"message\":\"No or an invalid authentication header was provided on the request. Please make sure you pass your API key in the corresponding HTTP header.\"}}\n"
     ]
    },
    {
     "name": "stderr",
     "output_type": "stream",
     "text": [
      "2025/09/06 09:59:32 WARNING dspy.adapters.json_adapter: Failed to use structured output format, falling back to JSON mode.\n"
     ]
    },
    {
     "name": "stdout",
     "output_type": "stream",
     "text": [
      "Scoring error for retrieved: Both structured output format and JSON mode failed. Please choose a model that supports `response_format` argument. Original error: litellm.AuthenticationError: AuthenticationError: XaiException - {\"error\":{\"code\":401,\"message\":\"No or an invalid authentication header was provided on the request. Please make sure you pass your API key in the corresponding HTTP header.\"}}\n"
     ]
    },
    {
     "name": "stderr",
     "output_type": "stream",
     "text": [
      "2025/09/06 09:59:41 WARNING dspy.adapters.json_adapter: Failed to use structured output format, falling back to JSON mode.\n"
     ]
    },
    {
     "name": "stdout",
     "output_type": "stream",
     "text": [
      "Scoring error for retrieved: Both structured output format and JSON mode failed. Please choose a model that supports `response_format` argument. Original error: litellm.AuthenticationError: AuthenticationError: XaiException - {\"error\":{\"code\":401,\"message\":\"No or an invalid authentication header was provided on the request. Please make sure you pass your API key in the corresponding HTTP header.\"}}\n"
     ]
    },
    {
     "name": "stderr",
     "output_type": "stream",
     "text": [
      "2025/09/06 09:59:49 WARNING dspy.adapters.json_adapter: Failed to use structured output format, falling back to JSON mode.\n"
     ]
    },
    {
     "name": "stdout",
     "output_type": "stream",
     "text": [
      "Scoring error for retrieved: Both structured output format and JSON mode failed. Please choose a model that supports `response_format` argument. Original error: litellm.AuthenticationError: AuthenticationError: XaiException - {\"error\":{\"code\":401,\"message\":\"No or an invalid authentication header was provided on the request. Please make sure you pass your API key in the corresponding HTTP header.\"}}\n"
     ]
    },
    {
     "name": "stderr",
     "output_type": "stream",
     "text": [
      "2025/09/06 09:59:57 WARNING dspy.adapters.json_adapter: Failed to use structured output format, falling back to JSON mode.\n"
     ]
    },
    {
     "name": "stdout",
     "output_type": "stream",
     "text": [
      "Scoring error for retrieved: Both structured output format and JSON mode failed. Please choose a model that supports `response_format` argument. Original error: litellm.AuthenticationError: AuthenticationError: XaiException - {\"error\":{\"code\":401,\"message\":\"No or an invalid authentication header was provided on the request. Please make sure you pass your API key in the corresponding HTTP header.\"}}\n"
     ]
    },
    {
     "name": "stderr",
     "output_type": "stream",
     "text": [
      "2025/09/06 10:00:06 WARNING dspy.adapters.json_adapter: Failed to use structured output format, falling back to JSON mode.\n"
     ]
    },
    {
     "name": "stdout",
     "output_type": "stream",
     "text": [
      "Scoring error for retrieved: Both structured output format and JSON mode failed. Please choose a model that supports `response_format` argument. Original error: litellm.AuthenticationError: AuthenticationError: XaiException - {\"error\":{\"code\":401,\"message\":\"No or an invalid authentication header was provided on the request. Please make sure you pass your API key in the corresponding HTTP header.\"}}\n"
     ]
    },
    {
     "name": "stderr",
     "output_type": "stream",
     "text": [
      "2025/09/06 10:00:14 WARNING dspy.adapters.json_adapter: Failed to use structured output format, falling back to JSON mode.\n"
     ]
    },
    {
     "name": "stdout",
     "output_type": "stream",
     "text": [
      "Scoring error for retrieved: Both structured output format and JSON mode failed. Please choose a model that supports `response_format` argument. Original error: litellm.AuthenticationError: AuthenticationError: XaiException - {\"error\":{\"code\":401,\"message\":\"No or an invalid authentication header was provided on the request. Please make sure you pass your API key in the corresponding HTTP header.\"}}\n"
     ]
    },
    {
     "name": "stderr",
     "output_type": "stream",
     "text": [
      "2025/09/06 10:00:22 WARNING dspy.adapters.json_adapter: Failed to use structured output format, falling back to JSON mode.\n"
     ]
    },
    {
     "name": "stdout",
     "output_type": "stream",
     "text": [
      "Scoring error for retrieved: Both structured output format and JSON mode failed. Please choose a model that supports `response_format` argument. Original error: litellm.AuthenticationError: AuthenticationError: XaiException - {\"error\":{\"code\":401,\"message\":\"No or an invalid authentication header was provided on the request. Please make sure you pass your API key in the corresponding HTTP header.\"}}\n"
     ]
    },
    {
     "name": "stderr",
     "output_type": "stream",
     "text": [
      "2025/09/06 10:00:30 WARNING dspy.adapters.json_adapter: Failed to use structured output format, falling back to JSON mode.\n"
     ]
    },
    {
     "name": "stdout",
     "output_type": "stream",
     "text": [
      "Scoring error for retrieved: Both structured output format and JSON mode failed. Please choose a model that supports `response_format` argument. Original error: litellm.AuthenticationError: AuthenticationError: XaiException - {\"error\":{\"code\":401,\"message\":\"No or an invalid authentication header was provided on the request. Please make sure you pass your API key in the corresponding HTTP header.\"}}\n",
      "Directory not found: /home/lotemsakira/PycharmProjects/PragmatiCQA-sources/Alexander Hamilton\n",
      "No corpus found for topic 'Alexander Hamilton', skipping question: Who plays Alexander Hamilton in the Broadway show?\n",
      "Directory not found: /home/lotemsakira/PycharmProjects/PragmatiCQA-sources/Alexander Hamilton\n",
      "No corpus found for topic 'Alexander Hamilton', skipping question: What is the genre of music in this Alexander Hamilton?\n",
      "Directory not found: /home/lotemsakira/PycharmProjects/PragmatiCQA-sources/Alexander Hamilton\n",
      "No corpus found for topic 'Alexander Hamilton', skipping question: Who is Alexander Hamilton?\n",
      "Directory not found: /home/lotemsakira/PycharmProjects/PragmatiCQA-sources/Alexander Hamilton\n",
      "No corpus found for topic 'Alexander Hamilton', skipping question: Who wrote the musical?\n",
      "Directory not found: /home/lotemsakira/PycharmProjects/PragmatiCQA-sources/Alexander Hamilton\n",
      "No corpus found for topic 'Alexander Hamilton', skipping question: What is the musical about?\n",
      "Directory not found: /home/lotemsakira/PycharmProjects/PragmatiCQA-sources/Alexander Hamilton\n",
      "No corpus found for topic 'Alexander Hamilton', skipping question: When did the play open on Broadway?\n",
      "Directory not found: /home/lotemsakira/PycharmProjects/PragmatiCQA-sources/Alexander Hamilton\n",
      "No corpus found for topic 'Alexander Hamilton', skipping question: Who was Alexander Hamilton in Hamilton musical?\n",
      "Directory not found: /home/lotemsakira/PycharmProjects/PragmatiCQA-sources/Alexander Hamilton\n",
      "No corpus found for topic 'Alexander Hamilton', skipping question: Who is Alexander Hamilton?\n",
      "Directory not found: /home/lotemsakira/PycharmProjects/PragmatiCQA-sources/Alexander Hamilton\n",
      "No corpus found for topic 'Alexander Hamilton', skipping question: Hello. What is the musical about?\n",
      "Directory not found: /home/lotemsakira/PycharmProjects/PragmatiCQA-sources/Alexander Hamilton\n",
      "No corpus found for topic 'Alexander Hamilton', skipping question: Who is Hamilton?\n",
      "Directory not found: /home/lotemsakira/PycharmProjects/PragmatiCQA-sources/Alexander Hamilton\n",
      "No corpus found for topic 'Alexander Hamilton', skipping question: Who is Hamilton?\n",
      "Directory not found: /home/lotemsakira/PycharmProjects/PragmatiCQA-sources/Alexander Hamilton\n",
      "No corpus found for topic 'Alexander Hamilton', skipping question: what year was the musical release?\n",
      "Directory not found: /home/lotemsakira/PycharmProjects/PragmatiCQA-sources/Alexander Hamilton\n",
      "No corpus found for topic 'Alexander Hamilton', skipping question: What was Hamilton accused of in \"We Know?\"\n",
      "Directory not found: /home/lotemsakira/PycharmProjects/PragmatiCQA-sources/Alexander Hamilton\n",
      "No corpus found for topic 'Alexander Hamilton', skipping question: What is the signficance of Alexander Hamilton?\n",
      "Directory not found: /home/lotemsakira/PycharmProjects/PragmatiCQA-sources/Alexander Hamilton\n",
      "No corpus found for topic 'Alexander Hamilton', skipping question: Who is Alexander Hamilton? \n",
      "Directory not found: /home/lotemsakira/PycharmProjects/PragmatiCQA-sources/Alexander Hamilton\n",
      "No corpus found for topic 'Alexander Hamilton', skipping question: Who is starred as Alexander Hamilton in the musical Hamilton?\n",
      "Directory not found: /home/lotemsakira/PycharmProjects/PragmatiCQA-sources/Alexander Hamilton\n",
      "No corpus found for topic 'Alexander Hamilton', skipping question: Is Hamilton historically accurate?\n",
      "Directory not found: /home/lotemsakira/PycharmProjects/PragmatiCQA-sources/The Wonderful Wizard of Oz (book)\n",
      "No corpus found for topic 'The Wonderful Wizard of Oz (book)', skipping question: is the tin man still alive?\n",
      "Directory not found: /home/lotemsakira/PycharmProjects/PragmatiCQA-sources/The Wonderful Wizard of Oz (book)\n",
      "No corpus found for topic 'The Wonderful Wizard of Oz (book)', skipping question: Who is the main character?\n",
      "Directory not found: /home/lotemsakira/PycharmProjects/PragmatiCQA-sources/The Wonderful Wizard of Oz (book)\n",
      "No corpus found for topic 'The Wonderful Wizard of Oz (book)', skipping question: I like the monkeys in this play\n"
     ]
    },
    {
     "name": "stderr",
     "output_type": "stream",
     "text": [
      "2025/09/06 10:00:41 WARNING dspy.adapters.json_adapter: Failed to use structured output format, falling back to JSON mode.\n"
     ]
    },
    {
     "name": "stdout",
     "output_type": "stream",
     "text": [
      "Scoring error for literal: Both structured output format and JSON mode failed. Please choose a model that supports `response_format` argument. Original error: litellm.AuthenticationError: AuthenticationError: XaiException - {\"error\":{\"code\":401,\"message\":\"No or an invalid authentication header was provided on the request. Please make sure you pass your API key in the corresponding HTTP header.\"}}\n"
     ]
    },
    {
     "name": "stderr",
     "output_type": "stream",
     "text": [
      "2025/09/06 10:00:49 WARNING dspy.adapters.json_adapter: Failed to use structured output format, falling back to JSON mode.\n"
     ]
    },
    {
     "name": "stdout",
     "output_type": "stream",
     "text": [
      "Scoring error for pragmatic: Both structured output format and JSON mode failed. Please choose a model that supports `response_format` argument. Original error: litellm.AuthenticationError: AuthenticationError: XaiException - {\"error\":{\"code\":401,\"message\":\"No or an invalid authentication header was provided on the request. Please make sure you pass your API key in the corresponding HTTP header.\"}}\n"
     ]
    },
    {
     "name": "stderr",
     "output_type": "stream",
     "text": [
      "2025/09/06 10:00:57 WARNING dspy.adapters.json_adapter: Failed to use structured output format, falling back to JSON mode.\n"
     ]
    },
    {
     "name": "stdout",
     "output_type": "stream",
     "text": [
      "Scoring error for retrieved: Both structured output format and JSON mode failed. Please choose a model that supports `response_format` argument. Original error: litellm.AuthenticationError: AuthenticationError: XaiException - {\"error\":{\"code\":401,\"message\":\"No or an invalid authentication header was provided on the request. Please make sure you pass your API key in the corresponding HTTP header.\"}}\n"
     ]
    },
    {
     "name": "stderr",
     "output_type": "stream",
     "text": [
      "2025/09/06 10:01:08 WARNING dspy.adapters.json_adapter: Failed to use structured output format, falling back to JSON mode.\n"
     ]
    },
    {
     "name": "stdout",
     "output_type": "stream",
     "text": [
      "Scoring error for literal: Both structured output format and JSON mode failed. Please choose a model that supports `response_format` argument. Original error: litellm.AuthenticationError: AuthenticationError: XaiException - {\"error\":{\"code\":401,\"message\":\"No or an invalid authentication header was provided on the request. Please make sure you pass your API key in the corresponding HTTP header.\"}}\n"
     ]
    },
    {
     "name": "stderr",
     "output_type": "stream",
     "text": [
      "2025/09/06 10:01:15 WARNING dspy.adapters.json_adapter: Failed to use structured output format, falling back to JSON mode.\n"
     ]
    },
    {
     "name": "stdout",
     "output_type": "stream",
     "text": [
      "Scoring error for pragmatic: Both structured output format and JSON mode failed. Please choose a model that supports `response_format` argument. Original error: litellm.AuthenticationError: AuthenticationError: XaiException - {\"error\":{\"code\":401,\"message\":\"No or an invalid authentication header was provided on the request. Please make sure you pass your API key in the corresponding HTTP header.\"}}\n"
     ]
    },
    {
     "name": "stderr",
     "output_type": "stream",
     "text": [
      "2025/09/06 10:01:23 WARNING dspy.adapters.json_adapter: Failed to use structured output format, falling back to JSON mode.\n"
     ]
    },
    {
     "name": "stdout",
     "output_type": "stream",
     "text": [
      "Scoring error for retrieved: Both structured output format and JSON mode failed. Please choose a model that supports `response_format` argument. Original error: litellm.AuthenticationError: AuthenticationError: XaiException - {\"error\":{\"code\":401,\"message\":\"No or an invalid authentication header was provided on the request. Please make sure you pass your API key in the corresponding HTTP header.\"}}\n"
     ]
    },
    {
     "name": "stderr",
     "output_type": "stream",
     "text": [
      "2025/09/06 10:01:34 WARNING dspy.adapters.json_adapter: Failed to use structured output format, falling back to JSON mode.\n"
     ]
    },
    {
     "name": "stdout",
     "output_type": "stream",
     "text": [
      "Scoring error for literal: Both structured output format and JSON mode failed. Please choose a model that supports `response_format` argument. Original error: litellm.AuthenticationError: AuthenticationError: XaiException - {\"error\":{\"code\":401,\"message\":\"No or an invalid authentication header was provided on the request. Please make sure you pass your API key in the corresponding HTTP header.\"}}\n"
     ]
    },
    {
     "name": "stderr",
     "output_type": "stream",
     "text": [
      "2025/09/06 10:01:42 WARNING dspy.adapters.json_adapter: Failed to use structured output format, falling back to JSON mode.\n"
     ]
    },
    {
     "name": "stdout",
     "output_type": "stream",
     "text": [
      "Scoring error for pragmatic: Both structured output format and JSON mode failed. Please choose a model that supports `response_format` argument. Original error: litellm.AuthenticationError: AuthenticationError: XaiException - {\"error\":{\"code\":401,\"message\":\"No or an invalid authentication header was provided on the request. Please make sure you pass your API key in the corresponding HTTP header.\"}}\n"
     ]
    },
    {
     "name": "stderr",
     "output_type": "stream",
     "text": [
      "2025/09/06 10:01:50 WARNING dspy.adapters.json_adapter: Failed to use structured output format, falling back to JSON mode.\n"
     ]
    },
    {
     "name": "stdout",
     "output_type": "stream",
     "text": [
      "Scoring error for retrieved: Both structured output format and JSON mode failed. Please choose a model that supports `response_format` argument. Original error: litellm.AuthenticationError: AuthenticationError: XaiException - {\"error\":{\"code\":401,\"message\":\"No or an invalid authentication header was provided on the request. Please make sure you pass your API key in the corresponding HTTP header.\"}}\n"
     ]
    },
    {
     "name": "stderr",
     "output_type": "stream",
     "text": [
      "2025/09/06 10:02:00 WARNING dspy.adapters.json_adapter: Failed to use structured output format, falling back to JSON mode.\n"
     ]
    },
    {
     "name": "stdout",
     "output_type": "stream",
     "text": [
      "Scoring error for literal: Both structured output format and JSON mode failed. Please choose a model that supports `response_format` argument. Original error: litellm.AuthenticationError: AuthenticationError: XaiException - {\"error\":{\"code\":401,\"message\":\"No or an invalid authentication header was provided on the request. Please make sure you pass your API key in the corresponding HTTP header.\"}}\n"
     ]
    },
    {
     "name": "stderr",
     "output_type": "stream",
     "text": [
      "2025/09/06 10:02:08 WARNING dspy.adapters.json_adapter: Failed to use structured output format, falling back to JSON mode.\n"
     ]
    },
    {
     "name": "stdout",
     "output_type": "stream",
     "text": [
      "Scoring error for pragmatic: Both structured output format and JSON mode failed. Please choose a model that supports `response_format` argument. Original error: litellm.AuthenticationError: AuthenticationError: XaiException - {\"error\":{\"code\":401,\"message\":\"No or an invalid authentication header was provided on the request. Please make sure you pass your API key in the corresponding HTTP header.\"}}\n"
     ]
    },
    {
     "name": "stderr",
     "output_type": "stream",
     "text": [
      "2025/09/06 10:02:16 WARNING dspy.adapters.json_adapter: Failed to use structured output format, falling back to JSON mode.\n"
     ]
    },
    {
     "name": "stdout",
     "output_type": "stream",
     "text": [
      "Scoring error for retrieved: Both structured output format and JSON mode failed. Please choose a model that supports `response_format` argument. Original error: litellm.AuthenticationError: AuthenticationError: XaiException - {\"error\":{\"code\":401,\"message\":\"No or an invalid authentication header was provided on the request. Please make sure you pass your API key in the corresponding HTTP header.\"}}\n"
     ]
    },
    {
     "name": "stderr",
     "output_type": "stream",
     "text": [
      "2025/09/06 10:02:26 WARNING dspy.adapters.json_adapter: Failed to use structured output format, falling back to JSON mode.\n"
     ]
    },
    {
     "name": "stdout",
     "output_type": "stream",
     "text": [
      "Scoring error for literal: Both structured output format and JSON mode failed. Please choose a model that supports `response_format` argument. Original error: litellm.AuthenticationError: AuthenticationError: XaiException - {\"error\":{\"code\":401,\"message\":\"No or an invalid authentication header was provided on the request. Please make sure you pass your API key in the corresponding HTTP header.\"}}\n"
     ]
    },
    {
     "name": "stderr",
     "output_type": "stream",
     "text": [
      "2025/09/06 10:02:34 WARNING dspy.adapters.json_adapter: Failed to use structured output format, falling back to JSON mode.\n"
     ]
    },
    {
     "name": "stdout",
     "output_type": "stream",
     "text": [
      "Scoring error for pragmatic: Both structured output format and JSON mode failed. Please choose a model that supports `response_format` argument. Original error: litellm.AuthenticationError: AuthenticationError: XaiException - {\"error\":{\"code\":401,\"message\":\"No or an invalid authentication header was provided on the request. Please make sure you pass your API key in the corresponding HTTP header.\"}}\n"
     ]
    },
    {
     "name": "stderr",
     "output_type": "stream",
     "text": [
      "2025/09/06 10:02:42 WARNING dspy.adapters.json_adapter: Failed to use structured output format, falling back to JSON mode.\n"
     ]
    },
    {
     "name": "stdout",
     "output_type": "stream",
     "text": [
      "Scoring error for retrieved: Both structured output format and JSON mode failed. Please choose a model that supports `response_format` argument. Original error: litellm.AuthenticationError: AuthenticationError: XaiException - {\"error\":{\"code\":401,\"message\":\"No or an invalid authentication header was provided on the request. Please make sure you pass your API key in the corresponding HTTP header.\"}}\n"
     ]
    },
    {
     "name": "stderr",
     "output_type": "stream",
     "text": [
      "2025/09/06 10:02:52 WARNING dspy.adapters.json_adapter: Failed to use structured output format, falling back to JSON mode.\n"
     ]
    },
    {
     "name": "stdout",
     "output_type": "stream",
     "text": [
      "Scoring error for literal: Both structured output format and JSON mode failed. Please choose a model that supports `response_format` argument. Original error: litellm.AuthenticationError: AuthenticationError: XaiException - {\"error\":{\"code\":401,\"message\":\"No or an invalid authentication header was provided on the request. Please make sure you pass your API key in the corresponding HTTP header.\"}}\n"
     ]
    },
    {
     "name": "stderr",
     "output_type": "stream",
     "text": [
      "2025/09/06 10:03:00 WARNING dspy.adapters.json_adapter: Failed to use structured output format, falling back to JSON mode.\n"
     ]
    },
    {
     "name": "stdout",
     "output_type": "stream",
     "text": [
      "Scoring error for pragmatic: Both structured output format and JSON mode failed. Please choose a model that supports `response_format` argument. Original error: litellm.AuthenticationError: AuthenticationError: XaiException - {\"error\":{\"code\":401,\"message\":\"No or an invalid authentication header was provided on the request. Please make sure you pass your API key in the corresponding HTTP header.\"}}\n"
     ]
    },
    {
     "name": "stderr",
     "output_type": "stream",
     "text": [
      "2025/09/06 10:03:08 WARNING dspy.adapters.json_adapter: Failed to use structured output format, falling back to JSON mode.\n"
     ]
    },
    {
     "name": "stdout",
     "output_type": "stream",
     "text": [
      "Scoring error for retrieved: Both structured output format and JSON mode failed. Please choose a model that supports `response_format` argument. Original error: litellm.AuthenticationError: AuthenticationError: XaiException - {\"error\":{\"code\":401,\"message\":\"No or an invalid authentication header was provided on the request. Please make sure you pass your API key in the corresponding HTTP header.\"}}\n"
     ]
    },
    {
     "name": "stderr",
     "output_type": "stream",
     "text": [
      "2025/09/06 10:03:18 WARNING dspy.adapters.json_adapter: Failed to use structured output format, falling back to JSON mode.\n"
     ]
    },
    {
     "name": "stdout",
     "output_type": "stream",
     "text": [
      "Scoring error for literal: Both structured output format and JSON mode failed. Please choose a model that supports `response_format` argument. Original error: litellm.AuthenticationError: AuthenticationError: XaiException - {\"error\":{\"code\":401,\"message\":\"No or an invalid authentication header was provided on the request. Please make sure you pass your API key in the corresponding HTTP header.\"}}\n"
     ]
    },
    {
     "name": "stderr",
     "output_type": "stream",
     "text": [
      "2025/09/06 10:03:26 WARNING dspy.adapters.json_adapter: Failed to use structured output format, falling back to JSON mode.\n"
     ]
    },
    {
     "name": "stdout",
     "output_type": "stream",
     "text": [
      "Scoring error for pragmatic: Both structured output format and JSON mode failed. Please choose a model that supports `response_format` argument. Original error: litellm.AuthenticationError: AuthenticationError: XaiException - {\"error\":{\"code\":401,\"message\":\"No or an invalid authentication header was provided on the request. Please make sure you pass your API key in the corresponding HTTP header.\"}}\n"
     ]
    },
    {
     "name": "stderr",
     "output_type": "stream",
     "text": [
      "2025/09/06 10:03:34 WARNING dspy.adapters.json_adapter: Failed to use structured output format, falling back to JSON mode.\n"
     ]
    },
    {
     "name": "stdout",
     "output_type": "stream",
     "text": [
      "Scoring error for retrieved: Both structured output format and JSON mode failed. Please choose a model that supports `response_format` argument. Original error: litellm.AuthenticationError: AuthenticationError: XaiException - {\"error\":{\"code\":401,\"message\":\"No or an invalid authentication header was provided on the request. Please make sure you pass your API key in the corresponding HTTP header.\"}}\n"
     ]
    },
    {
     "name": "stderr",
     "output_type": "stream",
     "text": [
      "2025/09/06 10:03:43 WARNING dspy.adapters.json_adapter: Failed to use structured output format, falling back to JSON mode.\n"
     ]
    },
    {
     "name": "stdout",
     "output_type": "stream",
     "text": [
      "Scoring error for literal: Both structured output format and JSON mode failed. Please choose a model that supports `response_format` argument. Original error: litellm.AuthenticationError: AuthenticationError: XaiException - {\"error\":{\"code\":401,\"message\":\"No or an invalid authentication header was provided on the request. Please make sure you pass your API key in the corresponding HTTP header.\"}}\n"
     ]
    },
    {
     "name": "stderr",
     "output_type": "stream",
     "text": [
      "2025/09/06 10:03:51 WARNING dspy.adapters.json_adapter: Failed to use structured output format, falling back to JSON mode.\n"
     ]
    },
    {
     "name": "stdout",
     "output_type": "stream",
     "text": [
      "Scoring error for pragmatic: Both structured output format and JSON mode failed. Please choose a model that supports `response_format` argument. Original error: litellm.AuthenticationError: AuthenticationError: XaiException - {\"error\":{\"code\":401,\"message\":\"No or an invalid authentication header was provided on the request. Please make sure you pass your API key in the corresponding HTTP header.\"}}\n"
     ]
    },
    {
     "name": "stderr",
     "output_type": "stream",
     "text": [
      "2025/09/06 10:03:59 WARNING dspy.adapters.json_adapter: Failed to use structured output format, falling back to JSON mode.\n"
     ]
    },
    {
     "name": "stdout",
     "output_type": "stream",
     "text": [
      "Scoring error for retrieved: Both structured output format and JSON mode failed. Please choose a model that supports `response_format` argument. Original error: litellm.AuthenticationError: AuthenticationError: XaiException - {\"error\":{\"code\":401,\"message\":\"No or an invalid authentication header was provided on the request. Please make sure you pass your API key in the corresponding HTTP header.\"}}\n"
     ]
    },
    {
     "name": "stderr",
     "output_type": "stream",
     "text": [
      "2025/09/06 10:04:12 WARNING dspy.adapters.json_adapter: Failed to use structured output format, falling back to JSON mode.\n"
     ]
    },
    {
     "name": "stdout",
     "output_type": "stream",
     "text": [
      "Scoring error for literal: Both structured output format and JSON mode failed. Please choose a model that supports `response_format` argument. Original error: litellm.AuthenticationError: AuthenticationError: XaiException - {\"error\":{\"code\":401,\"message\":\"No or an invalid authentication header was provided on the request. Please make sure you pass your API key in the corresponding HTTP header.\"}}\n"
     ]
    },
    {
     "name": "stderr",
     "output_type": "stream",
     "text": [
      "2025/09/06 10:04:20 WARNING dspy.adapters.json_adapter: Failed to use structured output format, falling back to JSON mode.\n"
     ]
    },
    {
     "name": "stdout",
     "output_type": "stream",
     "text": [
      "Scoring error for pragmatic: Both structured output format and JSON mode failed. Please choose a model that supports `response_format` argument. Original error: litellm.AuthenticationError: AuthenticationError: XaiException - {\"error\":{\"code\":401,\"message\":\"No or an invalid authentication header was provided on the request. Please make sure you pass your API key in the corresponding HTTP header.\"}}\n"
     ]
    },
    {
     "name": "stderr",
     "output_type": "stream",
     "text": [
      "2025/09/06 10:04:28 WARNING dspy.adapters.json_adapter: Failed to use structured output format, falling back to JSON mode.\n"
     ]
    },
    {
     "name": "stdout",
     "output_type": "stream",
     "text": [
      "Scoring error for retrieved: Both structured output format and JSON mode failed. Please choose a model that supports `response_format` argument. Original error: litellm.AuthenticationError: AuthenticationError: XaiException - {\"error\":{\"code\":401,\"message\":\"No or an invalid authentication header was provided on the request. Please make sure you pass your API key in the corresponding HTTP header.\"}}\n"
     ]
    },
    {
     "name": "stderr",
     "output_type": "stream",
     "text": [
      "2025/09/06 10:04:39 WARNING dspy.adapters.json_adapter: Failed to use structured output format, falling back to JSON mode.\n"
     ]
    },
    {
     "name": "stdout",
     "output_type": "stream",
     "text": [
      "Scoring error for literal: Both structured output format and JSON mode failed. Please choose a model that supports `response_format` argument. Original error: litellm.AuthenticationError: AuthenticationError: XaiException - {\"error\":{\"code\":401,\"message\":\"No or an invalid authentication header was provided on the request. Please make sure you pass your API key in the corresponding HTTP header.\"}}\n"
     ]
    },
    {
     "name": "stderr",
     "output_type": "stream",
     "text": [
      "2025/09/06 10:04:47 WARNING dspy.adapters.json_adapter: Failed to use structured output format, falling back to JSON mode.\n"
     ]
    },
    {
     "name": "stdout",
     "output_type": "stream",
     "text": [
      "Scoring error for pragmatic: Both structured output format and JSON mode failed. Please choose a model that supports `response_format` argument. Original error: litellm.AuthenticationError: AuthenticationError: XaiException - {\"error\":{\"code\":401,\"message\":\"No or an invalid authentication header was provided on the request. Please make sure you pass your API key in the corresponding HTTP header.\"}}\n"
     ]
    },
    {
     "name": "stderr",
     "output_type": "stream",
     "text": [
      "2025/09/06 10:04:55 WARNING dspy.adapters.json_adapter: Failed to use structured output format, falling back to JSON mode.\n"
     ]
    },
    {
     "name": "stdout",
     "output_type": "stream",
     "text": [
      "Scoring error for retrieved: Both structured output format and JSON mode failed. Please choose a model that supports `response_format` argument. Original error: litellm.AuthenticationError: AuthenticationError: XaiException - {\"error\":{\"code\":401,\"message\":\"No or an invalid authentication header was provided on the request. Please make sure you pass your API key in the corresponding HTTP header.\"}}\n"
     ]
    },
    {
     "name": "stderr",
     "output_type": "stream",
     "text": [
      "2025/09/06 10:05:07 WARNING dspy.adapters.json_adapter: Failed to use structured output format, falling back to JSON mode.\n"
     ]
    },
    {
     "name": "stdout",
     "output_type": "stream",
     "text": [
      "Scoring error for literal: Both structured output format and JSON mode failed. Please choose a model that supports `response_format` argument. Original error: litellm.AuthenticationError: AuthenticationError: XaiException - {\"error\":{\"code\":401,\"message\":\"No or an invalid authentication header was provided on the request. Please make sure you pass your API key in the corresponding HTTP header.\"}}\n"
     ]
    },
    {
     "name": "stderr",
     "output_type": "stream",
     "text": [
      "2025/09/06 10:05:15 WARNING dspy.adapters.json_adapter: Failed to use structured output format, falling back to JSON mode.\n"
     ]
    },
    {
     "name": "stdout",
     "output_type": "stream",
     "text": [
      "Scoring error for pragmatic: Both structured output format and JSON mode failed. Please choose a model that supports `response_format` argument. Original error: litellm.AuthenticationError: AuthenticationError: XaiException - {\"error\":{\"code\":401,\"message\":\"No or an invalid authentication header was provided on the request. Please make sure you pass your API key in the corresponding HTTP header.\"}}\n"
     ]
    },
    {
     "name": "stderr",
     "output_type": "stream",
     "text": [
      "2025/09/06 10:05:23 WARNING dspy.adapters.json_adapter: Failed to use structured output format, falling back to JSON mode.\n"
     ]
    },
    {
     "name": "stdout",
     "output_type": "stream",
     "text": [
      "Scoring error for retrieved: Both structured output format and JSON mode failed. Please choose a model that supports `response_format` argument. Original error: litellm.AuthenticationError: AuthenticationError: XaiException - {\"error\":{\"code\":401,\"message\":\"No or an invalid authentication header was provided on the request. Please make sure you pass your API key in the corresponding HTTP header.\"}}\n"
     ]
    },
    {
     "name": "stderr",
     "output_type": "stream",
     "text": [
      "2025/09/06 10:05:35 WARNING dspy.adapters.json_adapter: Failed to use structured output format, falling back to JSON mode.\n"
     ]
    },
    {
     "name": "stdout",
     "output_type": "stream",
     "text": [
      "Scoring error for literal: Both structured output format and JSON mode failed. Please choose a model that supports `response_format` argument. Original error: litellm.AuthenticationError: AuthenticationError: XaiException - {\"error\":{\"code\":401,\"message\":\"No or an invalid authentication header was provided on the request. Please make sure you pass your API key in the corresponding HTTP header.\"}}\n"
     ]
    },
    {
     "name": "stderr",
     "output_type": "stream",
     "text": [
      "2025/09/06 10:05:43 WARNING dspy.adapters.json_adapter: Failed to use structured output format, falling back to JSON mode.\n"
     ]
    },
    {
     "name": "stdout",
     "output_type": "stream",
     "text": [
      "Scoring error for pragmatic: Both structured output format and JSON mode failed. Please choose a model that supports `response_format` argument. Original error: litellm.AuthenticationError: AuthenticationError: XaiException - {\"error\":{\"code\":401,\"message\":\"No or an invalid authentication header was provided on the request. Please make sure you pass your API key in the corresponding HTTP header.\"}}\n"
     ]
    },
    {
     "name": "stderr",
     "output_type": "stream",
     "text": [
      "2025/09/06 10:05:50 WARNING dspy.adapters.json_adapter: Failed to use structured output format, falling back to JSON mode.\n"
     ]
    },
    {
     "name": "stdout",
     "output_type": "stream",
     "text": [
      "Scoring error for retrieved: Both structured output format and JSON mode failed. Please choose a model that supports `response_format` argument. Original error: litellm.AuthenticationError: AuthenticationError: XaiException - {\"error\":{\"code\":401,\"message\":\"No or an invalid authentication header was provided on the request. Please make sure you pass your API key in the corresponding HTTP header.\"}}\n"
     ]
    },
    {
     "name": "stderr",
     "output_type": "stream",
     "text": [
      "2025/09/06 10:06:02 WARNING dspy.adapters.json_adapter: Failed to use structured output format, falling back to JSON mode.\n"
     ]
    },
    {
     "name": "stdout",
     "output_type": "stream",
     "text": [
      "Scoring error for literal: Both structured output format and JSON mode failed. Please choose a model that supports `response_format` argument. Original error: litellm.AuthenticationError: AuthenticationError: XaiException - {\"error\":{\"code\":401,\"message\":\"No or an invalid authentication header was provided on the request. Please make sure you pass your API key in the corresponding HTTP header.\"}}\n"
     ]
    },
    {
     "name": "stderr",
     "output_type": "stream",
     "text": [
      "2025/09/06 10:06:10 WARNING dspy.adapters.json_adapter: Failed to use structured output format, falling back to JSON mode.\n"
     ]
    },
    {
     "name": "stdout",
     "output_type": "stream",
     "text": [
      "Scoring error for pragmatic: Both structured output format and JSON mode failed. Please choose a model that supports `response_format` argument. Original error: litellm.AuthenticationError: AuthenticationError: XaiException - {\"error\":{\"code\":401,\"message\":\"No or an invalid authentication header was provided on the request. Please make sure you pass your API key in the corresponding HTTP header.\"}}\n"
     ]
    },
    {
     "name": "stderr",
     "output_type": "stream",
     "text": [
      "2025/09/06 10:06:18 WARNING dspy.adapters.json_adapter: Failed to use structured output format, falling back to JSON mode.\n"
     ]
    },
    {
     "name": "stdout",
     "output_type": "stream",
     "text": [
      "Scoring error for retrieved: Both structured output format and JSON mode failed. Please choose a model that supports `response_format` argument. Original error: litellm.AuthenticationError: AuthenticationError: XaiException - {\"error\":{\"code\":401,\"message\":\"No or an invalid authentication header was provided on the request. Please make sure you pass your API key in the corresponding HTTP header.\"}}\n",
      "\n",
      "Aggregate Results:\n",
      "\n",
      "Mean F1 across all questions:\n",
      "f1_literal      0.382198\n",
      "f1_pragmatic    0.344409\n",
      "f1_retrieved    0.020614\n",
      "dtype: float64\n",
      "\n",
      "Sample Predictions (first 3):\n",
      "\n",
      "Question: Is the Batman comic similar to the movies?\n",
      "Gold: I would say the movie and comics has same story line, as Batmans parents were the most wealthy folks in Gotham city, and they were killd while returning from a function by a small time criminal called ...\n",
      "Literal (F1 0.40): Gotham City socialites\n",
      "Pragmatic (F1 0.40): his parents were killed by a small-time criminal named Joe Chill\n",
      "Retrieved (F1 0.00): The most consistent\n",
      "--------------------------------------------------------------------------------\n",
      "\n",
      "Question: what is batman's real name?\n",
      "Gold: Batman was created by Bob Kane and Bill Finger. His real identity is Bruce Wayne. \n",
      "Literal (F1 0.67): Bruce Wayne\n",
      "Pragmatic (F1 0.67): Bruce Wayne\n",
      "Retrieved (F1 0.00): Dick Grayson\n",
      "--------------------------------------------------------------------------------\n",
      "\n",
      "Question: How old was batman when he first became batman?\n",
      "Gold: I don't know. It is not clear when Bruce Wayne becomes Batman, but he becomes Batman sometime after his parents die. \n",
      "Literal (F1 0.50): I don't know\n",
      "Pragmatic (F1 0.00): Bruce\n",
      "Retrieved (F1 0.00): 23\n",
      "--------------------------------------------------------------------------------\n",
      "\n",
      "Full results saved to traditional_qa_results.csv\n"
     ]
    }
   ],
   "execution_count": 8
  },
  {
   "metadata": {},
   "cell_type": "markdown",
   "source": "Part 4.4 — LLM Multi-Step Prompting Approach\n",
   "id": "f6b9efbeb3babe92"
  },
  {
   "metadata": {
    "ExecuteTime": {
     "end_time": "2025-09-06T07:06:22.523415Z",
     "start_time": "2025-09-06T07:06:22.517366Z"
    }
   },
   "cell_type": "code",
   "source": [
    "import itertools\n",
    "from dspy.evaluate import SemanticF1\n",
    "\n",
    "class CooperativeRAG(dspy.Module):\n",
    "    def __init__(self, retriever_k=5):\n",
    "        super().__init__()\n",
    "        self.retriever_k = retriever_k\n",
    "        self.summarize = dspy.ChainOfThought('history -> summary')\n",
    "        self.infer_need = dspy.ChainOfThought('summary, question -> need')\n",
    "        self.gen_coop_q = dspy.Predict('summary, question, need -> coop_question')\n",
    "        self.respond = dspy.ChainOfThought('context, question, summary, need -> response')\n",
    "\n",
    "    def forward(self, question, history, topic):\n",
    "        # Prepare topic-specific retriever\n",
    "        topic_corpus = read_html_files(topic)\n",
    "        if not topic_corpus:\n",
    "            # Fallback to empty context\n",
    "            hist_str = \"\\n\".join([f\"Q: {h.get('q','')}\\nA: {h.get('a','')}\" for h in history]) if history else \"\"\n",
    "            summary_ex = self.summarize(history=hist_str)\n",
    "            summary = getattr(summary_ex, 'summary', getattr(summary_ex, 'response', str(summary_ex)))\n",
    "            need_ex = self.infer_need(summary=summary, question=question)\n",
    "            need = getattr(need_ex, 'need', getattr(need_ex, 'response', str(need_ex)))\n",
    "            return self.respond(context=\"\", question=question, summary=summary, need=need)\n",
    "\n",
    "        topic_search = dspy.retrievers.Embeddings(embedder=embedder, corpus=topic_corpus, k=self.retriever_k)\n",
    "\n",
    "        # Summarize history and infer pragmatic need\n",
    "        hist_str = \"\\n\".join([f\"Q: {h.get('q','')}\\nA: {h.get('a','')}\" for h in history]) if history else \"\"\n",
    "        summary_ex = self.summarize(history=hist_str)\n",
    "        summary = getattr(summary_ex, 'summary', getattr(summary_ex, 'response', str(summary_ex)))\n",
    "        need_ex = self.infer_need(summary=summary, question=question)\n",
    "        need = getattr(need_ex, 'need', getattr(need_ex, 'response', str(need_ex)))\n",
    "\n",
    "        # Generate a cooperative follow-up question and retrieve again\n",
    "        coop_q_ex = self.gen_coop_q(summary=summary, question=question, need=need)\n",
    "        coop_q = getattr(coop_q_ex, 'coop_question', getattr(coop_q_ex, 'text', str(coop_q_ex)))\n",
    "\n",
    "        ctx_main = topic_search(question).passages\n",
    "        ctx_coop = topic_search(coop_q).passages if coop_q else []\n",
    "        # merge contexts preserving order and uniqueness\n",
    "        merged_ctx = list(dict.fromkeys(list(itertools.chain(ctx_main, ctx_coop))))\n",
    "        merged_text = \" \".join(merged_ctx)\n",
    "\n",
    "        return self.respond(context=merged_text, question=question, summary=summary, need=need)\n"
   ],
   "id": "1cb57af92ec2bde2",
   "outputs": [],
   "execution_count": 9
  },
  {
   "metadata": {
    "ExecuteTime": {
     "end_time": "2025-09-06T07:06:22.554378Z",
     "start_time": "2025-09-06T07:06:22.549295Z"
    }
   },
   "cell_type": "code",
   "source": [
    "\n",
    "def evaluate_llm_first_questions(val_data, metric, retriever_k=5, max_samples=None):\n",
    "    rows = []\n",
    "    samples = val_data[:max_samples] if max_samples else val_data\n",
    "    for doc in tqdm(samples, desc=\"LLM First-Question Eval\"):\n",
    "        if not doc.get('qas'):\n",
    "            continue\n",
    "        qa = doc['qas'][0]\n",
    "        topic = doc.get('topic', '')\n",
    "        question = qa['q']\n",
    "        gold = qa['a']\n",
    "        try:\n",
    "            model = CooperativeRAG(retriever_k=retriever_k)\n",
    "            pred = model(question=question, history=[], topic=topic)\n",
    "            answer = getattr(pred, 'response', getattr(pred, 'text', str(pred)))\n",
    "        except Exception as e:\n",
    "            print(f\"Error generating LLM answer: {e}\")\n",
    "            answer = \"\"\n",
    "        gold_ex = dspy.Example(question=question, response=gold)\n",
    "        pred_ex = dspy.Example(question=question, response=answer)\n",
    "        try:\n",
    "            f1 = metric(gold_ex, pred_ex)\n",
    "        except Exception as e:\n",
    "            print(f\"SemanticF1 error: {e}\")\n",
    "            f1 = 0.0\n",
    "        rows.append({\n",
    "            'topic': topic,\n",
    "            'question': question,\n",
    "            'gold': gold,\n",
    "            'answer': answer,\n",
    "            'f1': f1\n",
    "        })\n",
    "    return pd.DataFrame(rows)\n"
   ],
   "id": "f92df908aa094ed5",
   "outputs": [],
   "execution_count": 10
  },
  {
   "metadata": {
    "ExecuteTime": {
     "end_time": "2025-09-06T07:06:22.605982Z",
     "start_time": "2025-09-06T07:06:22.600035Z"
    }
   },
   "cell_type": "code",
   "source": [
    "def evaluate_llm_full_conversations(val_data, metric, retriever_k=5, max_conversations=None, max_turns=None):\n",
    "    rows = []\n",
    "    convs = val_data[:max_conversations] if max_conversations else val_data\n",
    "    for doc in tqdm(convs, desc=\"LLM Full-Conversation Eval\"):\n",
    "        qas = doc.get('qas', [])\n",
    "        if not qas:\n",
    "            continue\n",
    "        topic = doc.get('topic', '')\n",
    "        history = []\n",
    "        model = CooperativeRAG(retriever_k=retriever_k)\n",
    "        for turn_idx, qa in enumerate(qas):\n",
    "            if max_turns is not None and turn_idx >= max_turns:\n",
    "                break\n",
    "            question = qa['q']\n",
    "            gold = qa['a']\n",
    "            try:\n",
    "                pred = model(question=question, history=history, topic=topic)\n",
    "                answer = getattr(pred, 'response', getattr(pred, 'text', str(pred)))\n",
    "            except Exception as e:\n",
    "                print(f\"Error generating LLM answer: {e}\")\n",
    "                answer = \"\"\n",
    "            gold_ex = dspy.Example(question=question, response=gold)\n",
    "            pred_ex = dspy.Example(question=question, response=answer)\n",
    "            try:\n",
    "                f1 = metric(gold_ex, pred_ex)\n",
    "            except Exception as e:\n",
    "                print(f\"SemanticF1 error: {e}\")\n",
    "                f1 = 0.0\n",
    "            rows.append({\n",
    "                'topic': topic,\n",
    "                'turn': turn_idx,\n",
    "                'question': question,\n",
    "                'gold': gold,\n",
    "                'answer': answer,\n",
    "                'f1': f1\n",
    "            })\n",
    "            history.append({'q': question, 'a': answer})\n",
    "    return pd.DataFrame(rows)\n"
   ],
   "id": "239e7eb80985682a",
   "outputs": [],
   "execution_count": 11
  },
  {
   "metadata": {
    "ExecuteTime": {
     "end_time": "2025-09-06T08:13:40.867305Z",
     "start_time": "2025-09-06T07:06:22.663565Z"
    }
   },
   "cell_type": "code",
   "source": [
    "print(\"\\nRunning Part 4.4 evaluations...\")\n",
    "metric_llm = SemanticF1(decompositional=True)\n",
    "\n",
    "if 'val_data' not in globals():\n",
    "    val_data = load_validation_data()\n",
    "\n",
    "if not val_data:\n",
    "    print(\"No validation data loaded for LLM evaluation!\")\n",
    "else:\n",
    "    print(f\"Loaded {len(val_data)} validation documents\")\n",
    "    llm_first_df = evaluate_llm_first_questions(val_data, metric_llm, retriever_k=topk_docs_to_retrieve, max_samples=50)\n",
    "    print(\"First-question LLM mean F1:\", llm_first_df['f1'].mean())\n",
    "    llm_first_df.to_csv('llm_first_results.csv', index=False)\n",
    "\n",
    "    llm_full_df = evaluate_llm_full_conversations(val_data, metric_llm, retriever_k=topk_docs_to_retrieve, max_conversations=20, max_turns=5)\n",
    "    print(\"Full-conversation (subset) LLM mean F1:\", llm_full_df['f1'].mean())\n",
    "    llm_full_df.to_csv('llm_full_results.csv', index=False)\n",
    "\n",
    "print(\"Part 4.4 evaluations completed.\")\n"
   ],
   "id": "1e8fb6ab7a845a36",
   "outputs": [
    {
     "name": "stdout",
     "output_type": "stream",
     "text": [
      "\n",
      "Running Part 4.4 evaluations...\n",
      "Loaded 179 validation documents\n"
     ]
    },
    {
     "data": {
      "text/plain": [
       "LLM First-Question Eval:   0%|          | 0/50 [00:00<?, ?it/s]"
      ],
      "application/vnd.jupyter.widget-view+json": {
       "version_major": 2,
       "version_minor": 0,
       "model_id": "bd388a9c67ae45b2a34cee0840384ca0"
      }
     },
     "metadata": {},
     "output_type": "display_data",
     "jetTransient": {
      "display_id": null
     }
    },
    {
     "name": "stdout",
     "output_type": "stream",
     "text": [
      "Directory not found: /home/lotemsakira/PycharmProjects/PragmatiCQA-sources/A Nightmare on Elm Street (2010 film)\n"
     ]
    },
    {
     "name": "stderr",
     "output_type": "stream",
     "text": [
      "2025/09/06 10:06:26 WARNING dspy.adapters.json_adapter: Failed to use structured output format, falling back to JSON mode.\n"
     ]
    },
    {
     "name": "stdout",
     "output_type": "stream",
     "text": [
      "Error generating LLM answer: Both structured output format and JSON mode failed. Please choose a model that supports `response_format` argument. Original error: litellm.AuthenticationError: AuthenticationError: XaiException - {\"error\":{\"code\":401,\"message\":\"No or an invalid authentication header was provided on the request. Please make sure you pass your API key in the corresponding HTTP header.\"}}\n"
     ]
    },
    {
     "name": "stderr",
     "output_type": "stream",
     "text": [
      "2025/09/06 10:06:34 WARNING dspy.adapters.json_adapter: Failed to use structured output format, falling back to JSON mode.\n"
     ]
    },
    {
     "name": "stdout",
     "output_type": "stream",
     "text": [
      "SemanticF1 error: Both structured output format and JSON mode failed. Please choose a model that supports `response_format` argument. Original error: litellm.AuthenticationError: AuthenticationError: XaiException - {\"error\":{\"code\":401,\"message\":\"No or an invalid authentication header was provided on the request. Please make sure you pass your API key in the corresponding HTTP header.\"}}\n",
      "Directory not found: /home/lotemsakira/PycharmProjects/PragmatiCQA-sources/A Nightmare on Elm Street (2010 film)\n"
     ]
    },
    {
     "name": "stderr",
     "output_type": "stream",
     "text": [
      "2025/09/06 10:06:42 WARNING dspy.adapters.json_adapter: Failed to use structured output format, falling back to JSON mode.\n"
     ]
    },
    {
     "name": "stdout",
     "output_type": "stream",
     "text": [
      "Error generating LLM answer: Both structured output format and JSON mode failed. Please choose a model that supports `response_format` argument. Original error: litellm.AuthenticationError: AuthenticationError: XaiException - {\"error\":{\"code\":401,\"message\":\"No or an invalid authentication header was provided on the request. Please make sure you pass your API key in the corresponding HTTP header.\"}}\n"
     ]
    },
    {
     "name": "stderr",
     "output_type": "stream",
     "text": [
      "2025/09/06 10:06:50 WARNING dspy.adapters.json_adapter: Failed to use structured output format, falling back to JSON mode.\n"
     ]
    },
    {
     "name": "stdout",
     "output_type": "stream",
     "text": [
      "SemanticF1 error: Both structured output format and JSON mode failed. Please choose a model that supports `response_format` argument. Original error: litellm.AuthenticationError: AuthenticationError: XaiException - {\"error\":{\"code\":401,\"message\":\"No or an invalid authentication header was provided on the request. Please make sure you pass your API key in the corresponding HTTP header.\"}}\n",
      "Directory not found: /home/lotemsakira/PycharmProjects/PragmatiCQA-sources/A Nightmare on Elm Street (2010 film)\n"
     ]
    },
    {
     "name": "stderr",
     "output_type": "stream",
     "text": [
      "2025/09/06 10:06:57 WARNING dspy.adapters.json_adapter: Failed to use structured output format, falling back to JSON mode.\n"
     ]
    },
    {
     "name": "stdout",
     "output_type": "stream",
     "text": [
      "Error generating LLM answer: Both structured output format and JSON mode failed. Please choose a model that supports `response_format` argument. Original error: litellm.AuthenticationError: AuthenticationError: XaiException - {\"error\":{\"code\":401,\"message\":\"No or an invalid authentication header was provided on the request. Please make sure you pass your API key in the corresponding HTTP header.\"}}\n"
     ]
    },
    {
     "name": "stderr",
     "output_type": "stream",
     "text": [
      "2025/09/06 10:07:05 WARNING dspy.adapters.json_adapter: Failed to use structured output format, falling back to JSON mode.\n"
     ]
    },
    {
     "name": "stdout",
     "output_type": "stream",
     "text": [
      "SemanticF1 error: Both structured output format and JSON mode failed. Please choose a model that supports `response_format` argument. Original error: litellm.AuthenticationError: AuthenticationError: XaiException - {\"error\":{\"code\":401,\"message\":\"No or an invalid authentication header was provided on the request. Please make sure you pass your API key in the corresponding HTTP header.\"}}\n",
      "Directory not found: /home/lotemsakira/PycharmProjects/PragmatiCQA-sources/A Nightmare on Elm Street (2010 film)\n"
     ]
    },
    {
     "name": "stderr",
     "output_type": "stream",
     "text": [
      "2025/09/06 10:07:13 WARNING dspy.adapters.json_adapter: Failed to use structured output format, falling back to JSON mode.\n"
     ]
    },
    {
     "name": "stdout",
     "output_type": "stream",
     "text": [
      "Error generating LLM answer: Both structured output format and JSON mode failed. Please choose a model that supports `response_format` argument. Original error: litellm.AuthenticationError: AuthenticationError: XaiException - {\"error\":{\"code\":401,\"message\":\"No or an invalid authentication header was provided on the request. Please make sure you pass your API key in the corresponding HTTP header.\"}}\n"
     ]
    },
    {
     "name": "stderr",
     "output_type": "stream",
     "text": [
      "2025/09/06 10:07:21 WARNING dspy.adapters.json_adapter: Failed to use structured output format, falling back to JSON mode.\n"
     ]
    },
    {
     "name": "stdout",
     "output_type": "stream",
     "text": [
      "SemanticF1 error: Both structured output format and JSON mode failed. Please choose a model that supports `response_format` argument. Original error: litellm.AuthenticationError: AuthenticationError: XaiException - {\"error\":{\"code\":401,\"message\":\"No or an invalid authentication header was provided on the request. Please make sure you pass your API key in the corresponding HTTP header.\"}}\n"
     ]
    },
    {
     "name": "stderr",
     "output_type": "stream",
     "text": [
      "2025/09/06 10:07:32 WARNING dspy.adapters.json_adapter: Failed to use structured output format, falling back to JSON mode.\n"
     ]
    },
    {
     "name": "stdout",
     "output_type": "stream",
     "text": [
      "Error generating LLM answer: Both structured output format and JSON mode failed. Please choose a model that supports `response_format` argument. Original error: litellm.AuthenticationError: AuthenticationError: XaiException - {\"error\":{\"code\":401,\"message\":\"No or an invalid authentication header was provided on the request. Please make sure you pass your API key in the corresponding HTTP header.\"}}\n"
     ]
    },
    {
     "name": "stderr",
     "output_type": "stream",
     "text": [
      "2025/09/06 10:07:40 WARNING dspy.adapters.json_adapter: Failed to use structured output format, falling back to JSON mode.\n"
     ]
    },
    {
     "name": "stdout",
     "output_type": "stream",
     "text": [
      "SemanticF1 error: Both structured output format and JSON mode failed. Please choose a model that supports `response_format` argument. Original error: litellm.AuthenticationError: AuthenticationError: XaiException - {\"error\":{\"code\":401,\"message\":\"No or an invalid authentication header was provided on the request. Please make sure you pass your API key in the corresponding HTTP header.\"}}\n"
     ]
    },
    {
     "name": "stderr",
     "output_type": "stream",
     "text": [
      "2025/09/06 10:07:50 WARNING dspy.adapters.json_adapter: Failed to use structured output format, falling back to JSON mode.\n"
     ]
    },
    {
     "name": "stdout",
     "output_type": "stream",
     "text": [
      "Error generating LLM answer: Both structured output format and JSON mode failed. Please choose a model that supports `response_format` argument. Original error: litellm.AuthenticationError: AuthenticationError: XaiException - {\"error\":{\"code\":401,\"message\":\"No or an invalid authentication header was provided on the request. Please make sure you pass your API key in the corresponding HTTP header.\"}}\n"
     ]
    },
    {
     "name": "stderr",
     "output_type": "stream",
     "text": [
      "2025/09/06 10:07:58 WARNING dspy.adapters.json_adapter: Failed to use structured output format, falling back to JSON mode.\n"
     ]
    },
    {
     "name": "stdout",
     "output_type": "stream",
     "text": [
      "SemanticF1 error: Both structured output format and JSON mode failed. Please choose a model that supports `response_format` argument. Original error: litellm.AuthenticationError: AuthenticationError: XaiException - {\"error\":{\"code\":401,\"message\":\"No or an invalid authentication header was provided on the request. Please make sure you pass your API key in the corresponding HTTP header.\"}}\n"
     ]
    },
    {
     "name": "stderr",
     "output_type": "stream",
     "text": [
      "2025/09/06 10:08:09 WARNING dspy.adapters.json_adapter: Failed to use structured output format, falling back to JSON mode.\n"
     ]
    },
    {
     "name": "stdout",
     "output_type": "stream",
     "text": [
      "Error generating LLM answer: Both structured output format and JSON mode failed. Please choose a model that supports `response_format` argument. Original error: litellm.AuthenticationError: AuthenticationError: XaiException - {\"error\":{\"code\":401,\"message\":\"No or an invalid authentication header was provided on the request. Please make sure you pass your API key in the corresponding HTTP header.\"}}\n"
     ]
    },
    {
     "name": "stderr",
     "output_type": "stream",
     "text": [
      "2025/09/06 10:08:17 WARNING dspy.adapters.json_adapter: Failed to use structured output format, falling back to JSON mode.\n"
     ]
    },
    {
     "name": "stdout",
     "output_type": "stream",
     "text": [
      "SemanticF1 error: Both structured output format and JSON mode failed. Please choose a model that supports `response_format` argument. Original error: litellm.AuthenticationError: AuthenticationError: XaiException - {\"error\":{\"code\":401,\"message\":\"No or an invalid authentication header was provided on the request. Please make sure you pass your API key in the corresponding HTTP header.\"}}\n"
     ]
    },
    {
     "name": "stderr",
     "output_type": "stream",
     "text": [
      "2025/09/06 10:08:28 WARNING dspy.adapters.json_adapter: Failed to use structured output format, falling back to JSON mode.\n"
     ]
    },
    {
     "name": "stdout",
     "output_type": "stream",
     "text": [
      "Error generating LLM answer: Both structured output format and JSON mode failed. Please choose a model that supports `response_format` argument. Original error: litellm.AuthenticationError: AuthenticationError: XaiException - {\"error\":{\"code\":401,\"message\":\"No or an invalid authentication header was provided on the request. Please make sure you pass your API key in the corresponding HTTP header.\"}}\n"
     ]
    },
    {
     "name": "stderr",
     "output_type": "stream",
     "text": [
      "2025/09/06 10:08:36 WARNING dspy.adapters.json_adapter: Failed to use structured output format, falling back to JSON mode.\n"
     ]
    },
    {
     "name": "stdout",
     "output_type": "stream",
     "text": [
      "SemanticF1 error: Both structured output format and JSON mode failed. Please choose a model that supports `response_format` argument. Original error: litellm.AuthenticationError: AuthenticationError: XaiException - {\"error\":{\"code\":401,\"message\":\"No or an invalid authentication header was provided on the request. Please make sure you pass your API key in the corresponding HTTP header.\"}}\n"
     ]
    },
    {
     "name": "stderr",
     "output_type": "stream",
     "text": [
      "2025/09/06 10:08:47 WARNING dspy.adapters.json_adapter: Failed to use structured output format, falling back to JSON mode.\n"
     ]
    },
    {
     "name": "stdout",
     "output_type": "stream",
     "text": [
      "Error generating LLM answer: Both structured output format and JSON mode failed. Please choose a model that supports `response_format` argument. Original error: litellm.AuthenticationError: AuthenticationError: XaiException - {\"error\":{\"code\":401,\"message\":\"No or an invalid authentication header was provided on the request. Please make sure you pass your API key in the corresponding HTTP header.\"}}\n"
     ]
    },
    {
     "name": "stderr",
     "output_type": "stream",
     "text": [
      "2025/09/06 10:08:55 WARNING dspy.adapters.json_adapter: Failed to use structured output format, falling back to JSON mode.\n"
     ]
    },
    {
     "name": "stdout",
     "output_type": "stream",
     "text": [
      "SemanticF1 error: Both structured output format and JSON mode failed. Please choose a model that supports `response_format` argument. Original error: litellm.AuthenticationError: AuthenticationError: XaiException - {\"error\":{\"code\":401,\"message\":\"No or an invalid authentication header was provided on the request. Please make sure you pass your API key in the corresponding HTTP header.\"}}\n"
     ]
    },
    {
     "name": "stderr",
     "output_type": "stream",
     "text": [
      "2025/09/06 10:09:06 WARNING dspy.adapters.json_adapter: Failed to use structured output format, falling back to JSON mode.\n"
     ]
    },
    {
     "name": "stdout",
     "output_type": "stream",
     "text": [
      "Error generating LLM answer: Both structured output format and JSON mode failed. Please choose a model that supports `response_format` argument. Original error: litellm.AuthenticationError: AuthenticationError: XaiException - {\"error\":{\"code\":401,\"message\":\"No or an invalid authentication header was provided on the request. Please make sure you pass your API key in the corresponding HTTP header.\"}}\n"
     ]
    },
    {
     "name": "stderr",
     "output_type": "stream",
     "text": [
      "2025/09/06 10:09:14 WARNING dspy.adapters.json_adapter: Failed to use structured output format, falling back to JSON mode.\n"
     ]
    },
    {
     "name": "stdout",
     "output_type": "stream",
     "text": [
      "SemanticF1 error: Both structured output format and JSON mode failed. Please choose a model that supports `response_format` argument. Original error: litellm.AuthenticationError: AuthenticationError: XaiException - {\"error\":{\"code\":401,\"message\":\"No or an invalid authentication header was provided on the request. Please make sure you pass your API key in the corresponding HTTP header.\"}}\n"
     ]
    },
    {
     "name": "stderr",
     "output_type": "stream",
     "text": [
      "2025/09/06 10:09:25 WARNING dspy.adapters.json_adapter: Failed to use structured output format, falling back to JSON mode.\n"
     ]
    },
    {
     "name": "stdout",
     "output_type": "stream",
     "text": [
      "Error generating LLM answer: Both structured output format and JSON mode failed. Please choose a model that supports `response_format` argument. Original error: litellm.AuthenticationError: AuthenticationError: XaiException - {\"error\":{\"code\":401,\"message\":\"No or an invalid authentication header was provided on the request. Please make sure you pass your API key in the corresponding HTTP header.\"}}\n"
     ]
    },
    {
     "name": "stderr",
     "output_type": "stream",
     "text": [
      "2025/09/06 10:09:33 WARNING dspy.adapters.json_adapter: Failed to use structured output format, falling back to JSON mode.\n"
     ]
    },
    {
     "name": "stdout",
     "output_type": "stream",
     "text": [
      "SemanticF1 error: Both structured output format and JSON mode failed. Please choose a model that supports `response_format` argument. Original error: litellm.AuthenticationError: AuthenticationError: XaiException - {\"error\":{\"code\":401,\"message\":\"No or an invalid authentication header was provided on the request. Please make sure you pass your API key in the corresponding HTTP header.\"}}\n"
     ]
    },
    {
     "name": "stderr",
     "output_type": "stream",
     "text": [
      "2025/09/06 10:09:44 WARNING dspy.adapters.json_adapter: Failed to use structured output format, falling back to JSON mode.\n"
     ]
    },
    {
     "name": "stdout",
     "output_type": "stream",
     "text": [
      "Error generating LLM answer: Both structured output format and JSON mode failed. Please choose a model that supports `response_format` argument. Original error: litellm.AuthenticationError: AuthenticationError: XaiException - {\"error\":{\"code\":401,\"message\":\"No or an invalid authentication header was provided on the request. Please make sure you pass your API key in the corresponding HTTP header.\"}}\n"
     ]
    },
    {
     "name": "stderr",
     "output_type": "stream",
     "text": [
      "2025/09/06 10:09:51 WARNING dspy.adapters.json_adapter: Failed to use structured output format, falling back to JSON mode.\n"
     ]
    },
    {
     "name": "stdout",
     "output_type": "stream",
     "text": [
      "SemanticF1 error: Both structured output format and JSON mode failed. Please choose a model that supports `response_format` argument. Original error: litellm.AuthenticationError: AuthenticationError: XaiException - {\"error\":{\"code\":401,\"message\":\"No or an invalid authentication header was provided on the request. Please make sure you pass your API key in the corresponding HTTP header.\"}}\n"
     ]
    },
    {
     "name": "stderr",
     "output_type": "stream",
     "text": [
      "2025/09/06 10:10:02 WARNING dspy.adapters.json_adapter: Failed to use structured output format, falling back to JSON mode.\n"
     ]
    },
    {
     "name": "stdout",
     "output_type": "stream",
     "text": [
      "Error generating LLM answer: Both structured output format and JSON mode failed. Please choose a model that supports `response_format` argument. Original error: litellm.AuthenticationError: AuthenticationError: XaiException - {\"error\":{\"code\":401,\"message\":\"No or an invalid authentication header was provided on the request. Please make sure you pass your API key in the corresponding HTTP header.\"}}\n"
     ]
    },
    {
     "name": "stderr",
     "output_type": "stream",
     "text": [
      "2025/09/06 10:10:10 WARNING dspy.adapters.json_adapter: Failed to use structured output format, falling back to JSON mode.\n"
     ]
    },
    {
     "name": "stdout",
     "output_type": "stream",
     "text": [
      "SemanticF1 error: Both structured output format and JSON mode failed. Please choose a model that supports `response_format` argument. Original error: litellm.AuthenticationError: AuthenticationError: XaiException - {\"error\":{\"code\":401,\"message\":\"No or an invalid authentication header was provided on the request. Please make sure you pass your API key in the corresponding HTTP header.\"}}\n"
     ]
    },
    {
     "name": "stderr",
     "output_type": "stream",
     "text": [
      "2025/09/06 10:10:21 WARNING dspy.adapters.json_adapter: Failed to use structured output format, falling back to JSON mode.\n"
     ]
    },
    {
     "name": "stdout",
     "output_type": "stream",
     "text": [
      "Error generating LLM answer: Both structured output format and JSON mode failed. Please choose a model that supports `response_format` argument. Original error: litellm.AuthenticationError: AuthenticationError: XaiException - {\"error\":{\"code\":401,\"message\":\"No or an invalid authentication header was provided on the request. Please make sure you pass your API key in the corresponding HTTP header.\"}}\n"
     ]
    },
    {
     "name": "stderr",
     "output_type": "stream",
     "text": [
      "2025/09/06 10:10:29 WARNING dspy.adapters.json_adapter: Failed to use structured output format, falling back to JSON mode.\n"
     ]
    },
    {
     "name": "stdout",
     "output_type": "stream",
     "text": [
      "SemanticF1 error: Both structured output format and JSON mode failed. Please choose a model that supports `response_format` argument. Original error: litellm.AuthenticationError: AuthenticationError: XaiException - {\"error\":{\"code\":401,\"message\":\"No or an invalid authentication header was provided on the request. Please make sure you pass your API key in the corresponding HTTP header.\"}}\n"
     ]
    },
    {
     "name": "stderr",
     "output_type": "stream",
     "text": [
      "2025/09/06 10:10:40 WARNING dspy.adapters.json_adapter: Failed to use structured output format, falling back to JSON mode.\n"
     ]
    },
    {
     "name": "stdout",
     "output_type": "stream",
     "text": [
      "Error generating LLM answer: Both structured output format and JSON mode failed. Please choose a model that supports `response_format` argument. Original error: litellm.AuthenticationError: AuthenticationError: XaiException - {\"error\":{\"code\":401,\"message\":\"No or an invalid authentication header was provided on the request. Please make sure you pass your API key in the corresponding HTTP header.\"}}\n"
     ]
    },
    {
     "name": "stderr",
     "output_type": "stream",
     "text": [
      "2025/09/06 10:10:48 WARNING dspy.adapters.json_adapter: Failed to use structured output format, falling back to JSON mode.\n"
     ]
    },
    {
     "name": "stdout",
     "output_type": "stream",
     "text": [
      "SemanticF1 error: Both structured output format and JSON mode failed. Please choose a model that supports `response_format` argument. Original error: litellm.AuthenticationError: AuthenticationError: XaiException - {\"error\":{\"code\":401,\"message\":\"No or an invalid authentication header was provided on the request. Please make sure you pass your API key in the corresponding HTTP header.\"}}\n"
     ]
    },
    {
     "name": "stderr",
     "output_type": "stream",
     "text": [
      "2025/09/06 10:10:58 WARNING dspy.adapters.json_adapter: Failed to use structured output format, falling back to JSON mode.\n"
     ]
    },
    {
     "name": "stdout",
     "output_type": "stream",
     "text": [
      "Error generating LLM answer: Both structured output format and JSON mode failed. Please choose a model that supports `response_format` argument. Original error: litellm.AuthenticationError: AuthenticationError: XaiException - {\"error\":{\"code\":401,\"message\":\"No or an invalid authentication header was provided on the request. Please make sure you pass your API key in the corresponding HTTP header.\"}}\n"
     ]
    },
    {
     "name": "stderr",
     "output_type": "stream",
     "text": [
      "2025/09/06 10:11:06 WARNING dspy.adapters.json_adapter: Failed to use structured output format, falling back to JSON mode.\n"
     ]
    },
    {
     "name": "stdout",
     "output_type": "stream",
     "text": [
      "SemanticF1 error: Both structured output format and JSON mode failed. Please choose a model that supports `response_format` argument. Original error: litellm.AuthenticationError: AuthenticationError: XaiException - {\"error\":{\"code\":401,\"message\":\"No or an invalid authentication header was provided on the request. Please make sure you pass your API key in the corresponding HTTP header.\"}}\n"
     ]
    },
    {
     "name": "stderr",
     "output_type": "stream",
     "text": [
      "2025/09/06 10:11:17 WARNING dspy.adapters.json_adapter: Failed to use structured output format, falling back to JSON mode.\n"
     ]
    },
    {
     "name": "stdout",
     "output_type": "stream",
     "text": [
      "Error generating LLM answer: Both structured output format and JSON mode failed. Please choose a model that supports `response_format` argument. Original error: litellm.AuthenticationError: AuthenticationError: XaiException - {\"error\":{\"code\":401,\"message\":\"No or an invalid authentication header was provided on the request. Please make sure you pass your API key in the corresponding HTTP header.\"}}\n"
     ]
    },
    {
     "name": "stderr",
     "output_type": "stream",
     "text": [
      "2025/09/06 10:11:29 WARNING dspy.adapters.json_adapter: Failed to use structured output format, falling back to JSON mode.\n"
     ]
    },
    {
     "name": "stdout",
     "output_type": "stream",
     "text": [
      "SemanticF1 error: Both structured output format and JSON mode failed. Please choose a model that supports `response_format` argument. Original error: litellm.AuthenticationError: AuthenticationError: XaiException - {\"error\":{\"code\":401,\"message\":\"No or an invalid authentication header was provided on the request. Please make sure you pass your API key in the corresponding HTTP header.\"}}\n"
     ]
    },
    {
     "name": "stderr",
     "output_type": "stream",
     "text": [
      "2025/09/06 10:11:40 WARNING dspy.adapters.json_adapter: Failed to use structured output format, falling back to JSON mode.\n"
     ]
    },
    {
     "name": "stdout",
     "output_type": "stream",
     "text": [
      "Error generating LLM answer: Both structured output format and JSON mode failed. Please choose a model that supports `response_format` argument. Original error: litellm.AuthenticationError: AuthenticationError: XaiException - {\"error\":{\"code\":401,\"message\":\"No or an invalid authentication header was provided on the request. Please make sure you pass your API key in the corresponding HTTP header.\"}}\n"
     ]
    },
    {
     "name": "stderr",
     "output_type": "stream",
     "text": [
      "2025/09/06 10:11:48 WARNING dspy.adapters.json_adapter: Failed to use structured output format, falling back to JSON mode.\n"
     ]
    },
    {
     "name": "stdout",
     "output_type": "stream",
     "text": [
      "SemanticF1 error: Both structured output format and JSON mode failed. Please choose a model that supports `response_format` argument. Original error: litellm.AuthenticationError: AuthenticationError: XaiException - {\"error\":{\"code\":401,\"message\":\"No or an invalid authentication header was provided on the request. Please make sure you pass your API key in the corresponding HTTP header.\"}}\n"
     ]
    },
    {
     "name": "stderr",
     "output_type": "stream",
     "text": [
      "2025/09/06 10:11:58 WARNING dspy.adapters.json_adapter: Failed to use structured output format, falling back to JSON mode.\n"
     ]
    },
    {
     "name": "stdout",
     "output_type": "stream",
     "text": [
      "Error generating LLM answer: Both structured output format and JSON mode failed. Please choose a model that supports `response_format` argument. Original error: litellm.AuthenticationError: AuthenticationError: XaiException - {\"error\":{\"code\":401,\"message\":\"No or an invalid authentication header was provided on the request. Please make sure you pass your API key in the corresponding HTTP header.\"}}\n"
     ]
    },
    {
     "name": "stderr",
     "output_type": "stream",
     "text": [
      "2025/09/06 10:12:06 WARNING dspy.adapters.json_adapter: Failed to use structured output format, falling back to JSON mode.\n"
     ]
    },
    {
     "name": "stdout",
     "output_type": "stream",
     "text": [
      "SemanticF1 error: Both structured output format and JSON mode failed. Please choose a model that supports `response_format` argument. Original error: litellm.AuthenticationError: AuthenticationError: XaiException - {\"error\":{\"code\":401,\"message\":\"No or an invalid authentication header was provided on the request. Please make sure you pass your API key in the corresponding HTTP header.\"}}\n"
     ]
    },
    {
     "name": "stderr",
     "output_type": "stream",
     "text": [
      "2025/09/06 10:12:17 WARNING dspy.adapters.json_adapter: Failed to use structured output format, falling back to JSON mode.\n"
     ]
    },
    {
     "name": "stdout",
     "output_type": "stream",
     "text": [
      "Error generating LLM answer: Both structured output format and JSON mode failed. Please choose a model that supports `response_format` argument. Original error: litellm.AuthenticationError: AuthenticationError: XaiException - {\"error\":{\"code\":401,\"message\":\"No or an invalid authentication header was provided on the request. Please make sure you pass your API key in the corresponding HTTP header.\"}}\n"
     ]
    },
    {
     "name": "stderr",
     "output_type": "stream",
     "text": [
      "2025/09/06 10:12:25 WARNING dspy.adapters.json_adapter: Failed to use structured output format, falling back to JSON mode.\n"
     ]
    },
    {
     "name": "stdout",
     "output_type": "stream",
     "text": [
      "SemanticF1 error: Both structured output format and JSON mode failed. Please choose a model that supports `response_format` argument. Original error: litellm.AuthenticationError: AuthenticationError: XaiException - {\"error\":{\"code\":401,\"message\":\"No or an invalid authentication header was provided on the request. Please make sure you pass your API key in the corresponding HTTP header.\"}}\n"
     ]
    },
    {
     "name": "stderr",
     "output_type": "stream",
     "text": [
      "2025/09/06 10:12:36 WARNING dspy.adapters.json_adapter: Failed to use structured output format, falling back to JSON mode.\n"
     ]
    },
    {
     "name": "stdout",
     "output_type": "stream",
     "text": [
      "Error generating LLM answer: Both structured output format and JSON mode failed. Please choose a model that supports `response_format` argument. Original error: litellm.AuthenticationError: AuthenticationError: XaiException - {\"error\":{\"code\":401,\"message\":\"No or an invalid authentication header was provided on the request. Please make sure you pass your API key in the corresponding HTTP header.\"}}\n"
     ]
    },
    {
     "name": "stderr",
     "output_type": "stream",
     "text": [
      "2025/09/06 10:12:44 WARNING dspy.adapters.json_adapter: Failed to use structured output format, falling back to JSON mode.\n"
     ]
    },
    {
     "name": "stdout",
     "output_type": "stream",
     "text": [
      "SemanticF1 error: Both structured output format and JSON mode failed. Please choose a model that supports `response_format` argument. Original error: litellm.AuthenticationError: AuthenticationError: XaiException - {\"error\":{\"code\":401,\"message\":\"No or an invalid authentication header was provided on the request. Please make sure you pass your API key in the corresponding HTTP header.\"}}\n"
     ]
    },
    {
     "name": "stderr",
     "output_type": "stream",
     "text": [
      "2025/09/06 10:12:55 WARNING dspy.adapters.json_adapter: Failed to use structured output format, falling back to JSON mode.\n"
     ]
    },
    {
     "name": "stdout",
     "output_type": "stream",
     "text": [
      "Error generating LLM answer: Both structured output format and JSON mode failed. Please choose a model that supports `response_format` argument. Original error: litellm.AuthenticationError: AuthenticationError: XaiException - {\"error\":{\"code\":401,\"message\":\"No or an invalid authentication header was provided on the request. Please make sure you pass your API key in the corresponding HTTP header.\"}}\n"
     ]
    },
    {
     "name": "stderr",
     "output_type": "stream",
     "text": [
      "2025/09/06 10:13:03 WARNING dspy.adapters.json_adapter: Failed to use structured output format, falling back to JSON mode.\n"
     ]
    },
    {
     "name": "stdout",
     "output_type": "stream",
     "text": [
      "SemanticF1 error: Both structured output format and JSON mode failed. Please choose a model that supports `response_format` argument. Original error: litellm.AuthenticationError: AuthenticationError: XaiException - {\"error\":{\"code\":401,\"message\":\"No or an invalid authentication header was provided on the request. Please make sure you pass your API key in the corresponding HTTP header.\"}}\n"
     ]
    },
    {
     "name": "stderr",
     "output_type": "stream",
     "text": [
      "2025/09/06 10:13:13 WARNING dspy.adapters.json_adapter: Failed to use structured output format, falling back to JSON mode.\n"
     ]
    },
    {
     "name": "stdout",
     "output_type": "stream",
     "text": [
      "Error generating LLM answer: Both structured output format and JSON mode failed. Please choose a model that supports `response_format` argument. Original error: litellm.AuthenticationError: AuthenticationError: XaiException - {\"error\":{\"code\":401,\"message\":\"No or an invalid authentication header was provided on the request. Please make sure you pass your API key in the corresponding HTTP header.\"}}\n"
     ]
    },
    {
     "name": "stderr",
     "output_type": "stream",
     "text": [
      "2025/09/06 10:13:21 WARNING dspy.adapters.json_adapter: Failed to use structured output format, falling back to JSON mode.\n"
     ]
    },
    {
     "name": "stdout",
     "output_type": "stream",
     "text": [
      "SemanticF1 error: Both structured output format and JSON mode failed. Please choose a model that supports `response_format` argument. Original error: litellm.AuthenticationError: AuthenticationError: XaiException - {\"error\":{\"code\":401,\"message\":\"No or an invalid authentication header was provided on the request. Please make sure you pass your API key in the corresponding HTTP header.\"}}\n"
     ]
    },
    {
     "name": "stderr",
     "output_type": "stream",
     "text": [
      "2025/09/06 10:13:32 WARNING dspy.adapters.json_adapter: Failed to use structured output format, falling back to JSON mode.\n"
     ]
    },
    {
     "name": "stdout",
     "output_type": "stream",
     "text": [
      "Error generating LLM answer: Both structured output format and JSON mode failed. Please choose a model that supports `response_format` argument. Original error: litellm.AuthenticationError: AuthenticationError: XaiException - {\"error\":{\"code\":401,\"message\":\"No or an invalid authentication header was provided on the request. Please make sure you pass your API key in the corresponding HTTP header.\"}}\n"
     ]
    },
    {
     "name": "stderr",
     "output_type": "stream",
     "text": [
      "2025/09/06 10:13:40 WARNING dspy.adapters.json_adapter: Failed to use structured output format, falling back to JSON mode.\n"
     ]
    },
    {
     "name": "stdout",
     "output_type": "stream",
     "text": [
      "SemanticF1 error: Both structured output format and JSON mode failed. Please choose a model that supports `response_format` argument. Original error: litellm.AuthenticationError: AuthenticationError: XaiException - {\"error\":{\"code\":401,\"message\":\"No or an invalid authentication header was provided on the request. Please make sure you pass your API key in the corresponding HTTP header.\"}}\n"
     ]
    },
    {
     "name": "stderr",
     "output_type": "stream",
     "text": [
      "2025/09/06 10:13:51 WARNING dspy.adapters.json_adapter: Failed to use structured output format, falling back to JSON mode.\n"
     ]
    },
    {
     "name": "stdout",
     "output_type": "stream",
     "text": [
      "Error generating LLM answer: Both structured output format and JSON mode failed. Please choose a model that supports `response_format` argument. Original error: litellm.AuthenticationError: AuthenticationError: XaiException - {\"error\":{\"code\":401,\"message\":\"No or an invalid authentication header was provided on the request. Please make sure you pass your API key in the corresponding HTTP header.\"}}\n"
     ]
    },
    {
     "name": "stderr",
     "output_type": "stream",
     "text": [
      "2025/09/06 10:13:59 WARNING dspy.adapters.json_adapter: Failed to use structured output format, falling back to JSON mode.\n"
     ]
    },
    {
     "name": "stdout",
     "output_type": "stream",
     "text": [
      "SemanticF1 error: Both structured output format and JSON mode failed. Please choose a model that supports `response_format` argument. Original error: litellm.AuthenticationError: AuthenticationError: XaiException - {\"error\":{\"code\":401,\"message\":\"No or an invalid authentication header was provided on the request. Please make sure you pass your API key in the corresponding HTTP header.\"}}\n"
     ]
    },
    {
     "name": "stderr",
     "output_type": "stream",
     "text": [
      "2025/09/06 10:14:10 WARNING dspy.adapters.json_adapter: Failed to use structured output format, falling back to JSON mode.\n"
     ]
    },
    {
     "name": "stdout",
     "output_type": "stream",
     "text": [
      "Error generating LLM answer: Both structured output format and JSON mode failed. Please choose a model that supports `response_format` argument. Original error: litellm.AuthenticationError: AuthenticationError: XaiException - {\"error\":{\"code\":401,\"message\":\"No or an invalid authentication header was provided on the request. Please make sure you pass your API key in the corresponding HTTP header.\"}}\n"
     ]
    },
    {
     "name": "stderr",
     "output_type": "stream",
     "text": [
      "2025/09/06 10:14:18 WARNING dspy.adapters.json_adapter: Failed to use structured output format, falling back to JSON mode.\n"
     ]
    },
    {
     "name": "stdout",
     "output_type": "stream",
     "text": [
      "SemanticF1 error: Both structured output format and JSON mode failed. Please choose a model that supports `response_format` argument. Original error: litellm.AuthenticationError: AuthenticationError: XaiException - {\"error\":{\"code\":401,\"message\":\"No or an invalid authentication header was provided on the request. Please make sure you pass your API key in the corresponding HTTP header.\"}}\n"
     ]
    },
    {
     "name": "stderr",
     "output_type": "stream",
     "text": [
      "2025/09/06 10:14:29 WARNING dspy.adapters.json_adapter: Failed to use structured output format, falling back to JSON mode.\n"
     ]
    },
    {
     "name": "stdout",
     "output_type": "stream",
     "text": [
      "Error generating LLM answer: Both structured output format and JSON mode failed. Please choose a model that supports `response_format` argument. Original error: litellm.AuthenticationError: AuthenticationError: XaiException - {\"error\":{\"code\":401,\"message\":\"No or an invalid authentication header was provided on the request. Please make sure you pass your API key in the corresponding HTTP header.\"}}\n"
     ]
    },
    {
     "name": "stderr",
     "output_type": "stream",
     "text": [
      "2025/09/06 10:14:37 WARNING dspy.adapters.json_adapter: Failed to use structured output format, falling back to JSON mode.\n"
     ]
    },
    {
     "name": "stdout",
     "output_type": "stream",
     "text": [
      "SemanticF1 error: Both structured output format and JSON mode failed. Please choose a model that supports `response_format` argument. Original error: litellm.AuthenticationError: AuthenticationError: XaiException - {\"error\":{\"code\":401,\"message\":\"No or an invalid authentication header was provided on the request. Please make sure you pass your API key in the corresponding HTTP header.\"}}\n"
     ]
    },
    {
     "name": "stderr",
     "output_type": "stream",
     "text": [
      "2025/09/06 10:14:47 WARNING dspy.adapters.json_adapter: Failed to use structured output format, falling back to JSON mode.\n"
     ]
    },
    {
     "name": "stdout",
     "output_type": "stream",
     "text": [
      "Error generating LLM answer: Both structured output format and JSON mode failed. Please choose a model that supports `response_format` argument. Original error: litellm.AuthenticationError: AuthenticationError: XaiException - {\"error\":{\"code\":401,\"message\":\"No or an invalid authentication header was provided on the request. Please make sure you pass your API key in the corresponding HTTP header.\"}}\n"
     ]
    },
    {
     "name": "stderr",
     "output_type": "stream",
     "text": [
      "2025/09/06 10:14:55 WARNING dspy.adapters.json_adapter: Failed to use structured output format, falling back to JSON mode.\n"
     ]
    },
    {
     "name": "stdout",
     "output_type": "stream",
     "text": [
      "SemanticF1 error: Both structured output format and JSON mode failed. Please choose a model that supports `response_format` argument. Original error: litellm.AuthenticationError: AuthenticationError: XaiException - {\"error\":{\"code\":401,\"message\":\"No or an invalid authentication header was provided on the request. Please make sure you pass your API key in the corresponding HTTP header.\"}}\n"
     ]
    },
    {
     "name": "stderr",
     "output_type": "stream",
     "text": [
      "2025/09/06 10:15:06 WARNING dspy.adapters.json_adapter: Failed to use structured output format, falling back to JSON mode.\n"
     ]
    },
    {
     "name": "stdout",
     "output_type": "stream",
     "text": [
      "Error generating LLM answer: Both structured output format and JSON mode failed. Please choose a model that supports `response_format` argument. Original error: litellm.AuthenticationError: AuthenticationError: XaiException - {\"error\":{\"code\":401,\"message\":\"No or an invalid authentication header was provided on the request. Please make sure you pass your API key in the corresponding HTTP header.\"}}\n"
     ]
    },
    {
     "name": "stderr",
     "output_type": "stream",
     "text": [
      "2025/09/06 10:15:14 WARNING dspy.adapters.json_adapter: Failed to use structured output format, falling back to JSON mode.\n"
     ]
    },
    {
     "name": "stdout",
     "output_type": "stream",
     "text": [
      "SemanticF1 error: Both structured output format and JSON mode failed. Please choose a model that supports `response_format` argument. Original error: litellm.AuthenticationError: AuthenticationError: XaiException - {\"error\":{\"code\":401,\"message\":\"No or an invalid authentication header was provided on the request. Please make sure you pass your API key in the corresponding HTTP header.\"}}\n"
     ]
    },
    {
     "name": "stderr",
     "output_type": "stream",
     "text": [
      "2025/09/06 10:15:25 WARNING dspy.adapters.json_adapter: Failed to use structured output format, falling back to JSON mode.\n"
     ]
    },
    {
     "name": "stdout",
     "output_type": "stream",
     "text": [
      "Error generating LLM answer: Both structured output format and JSON mode failed. Please choose a model that supports `response_format` argument. Original error: litellm.AuthenticationError: AuthenticationError: XaiException - {\"error\":{\"code\":401,\"message\":\"No or an invalid authentication header was provided on the request. Please make sure you pass your API key in the corresponding HTTP header.\"}}\n"
     ]
    },
    {
     "name": "stderr",
     "output_type": "stream",
     "text": [
      "2025/09/06 10:15:33 WARNING dspy.adapters.json_adapter: Failed to use structured output format, falling back to JSON mode.\n"
     ]
    },
    {
     "name": "stdout",
     "output_type": "stream",
     "text": [
      "SemanticF1 error: Both structured output format and JSON mode failed. Please choose a model that supports `response_format` argument. Original error: litellm.AuthenticationError: AuthenticationError: XaiException - {\"error\":{\"code\":401,\"message\":\"No or an invalid authentication header was provided on the request. Please make sure you pass your API key in the corresponding HTTP header.\"}}\n"
     ]
    },
    {
     "name": "stderr",
     "output_type": "stream",
     "text": [
      "2025/09/06 10:15:44 WARNING dspy.adapters.json_adapter: Failed to use structured output format, falling back to JSON mode.\n"
     ]
    },
    {
     "name": "stdout",
     "output_type": "stream",
     "text": [
      "Error generating LLM answer: Both structured output format and JSON mode failed. Please choose a model that supports `response_format` argument. Original error: litellm.AuthenticationError: AuthenticationError: XaiException - {\"error\":{\"code\":401,\"message\":\"No or an invalid authentication header was provided on the request. Please make sure you pass your API key in the corresponding HTTP header.\"}}\n"
     ]
    },
    {
     "name": "stderr",
     "output_type": "stream",
     "text": [
      "2025/09/06 10:15:52 WARNING dspy.adapters.json_adapter: Failed to use structured output format, falling back to JSON mode.\n"
     ]
    },
    {
     "name": "stdout",
     "output_type": "stream",
     "text": [
      "SemanticF1 error: Both structured output format and JSON mode failed. Please choose a model that supports `response_format` argument. Original error: litellm.AuthenticationError: AuthenticationError: XaiException - {\"error\":{\"code\":401,\"message\":\"No or an invalid authentication header was provided on the request. Please make sure you pass your API key in the corresponding HTTP header.\"}}\n"
     ]
    },
    {
     "name": "stderr",
     "output_type": "stream",
     "text": [
      "2025/09/06 10:16:03 WARNING dspy.adapters.json_adapter: Failed to use structured output format, falling back to JSON mode.\n"
     ]
    },
    {
     "name": "stdout",
     "output_type": "stream",
     "text": [
      "Error generating LLM answer: Both structured output format and JSON mode failed. Please choose a model that supports `response_format` argument. Original error: litellm.AuthenticationError: AuthenticationError: XaiException - {\"error\":{\"code\":401,\"message\":\"No or an invalid authentication header was provided on the request. Please make sure you pass your API key in the corresponding HTTP header.\"}}\n"
     ]
    },
    {
     "name": "stderr",
     "output_type": "stream",
     "text": [
      "2025/09/06 10:16:11 WARNING dspy.adapters.json_adapter: Failed to use structured output format, falling back to JSON mode.\n"
     ]
    },
    {
     "name": "stdout",
     "output_type": "stream",
     "text": [
      "SemanticF1 error: Both structured output format and JSON mode failed. Please choose a model that supports `response_format` argument. Original error: litellm.AuthenticationError: AuthenticationError: XaiException - {\"error\":{\"code\":401,\"message\":\"No or an invalid authentication header was provided on the request. Please make sure you pass your API key in the corresponding HTTP header.\"}}\n"
     ]
    },
    {
     "name": "stderr",
     "output_type": "stream",
     "text": [
      "2025/09/06 10:16:22 WARNING dspy.adapters.json_adapter: Failed to use structured output format, falling back to JSON mode.\n"
     ]
    },
    {
     "name": "stdout",
     "output_type": "stream",
     "text": [
      "Error generating LLM answer: Both structured output format and JSON mode failed. Please choose a model that supports `response_format` argument. Original error: litellm.AuthenticationError: AuthenticationError: XaiException - {\"error\":{\"code\":401,\"message\":\"No or an invalid authentication header was provided on the request. Please make sure you pass your API key in the corresponding HTTP header.\"}}\n"
     ]
    },
    {
     "name": "stderr",
     "output_type": "stream",
     "text": [
      "2025/09/06 10:16:30 WARNING dspy.adapters.json_adapter: Failed to use structured output format, falling back to JSON mode.\n"
     ]
    },
    {
     "name": "stdout",
     "output_type": "stream",
     "text": [
      "SemanticF1 error: Both structured output format and JSON mode failed. Please choose a model that supports `response_format` argument. Original error: litellm.AuthenticationError: AuthenticationError: XaiException - {\"error\":{\"code\":401,\"message\":\"No or an invalid authentication header was provided on the request. Please make sure you pass your API key in the corresponding HTTP header.\"}}\n"
     ]
    },
    {
     "name": "stderr",
     "output_type": "stream",
     "text": [
      "2025/09/06 10:16:40 WARNING dspy.adapters.json_adapter: Failed to use structured output format, falling back to JSON mode.\n"
     ]
    },
    {
     "name": "stdout",
     "output_type": "stream",
     "text": [
      "Error generating LLM answer: Both structured output format and JSON mode failed. Please choose a model that supports `response_format` argument. Original error: litellm.AuthenticationError: AuthenticationError: XaiException - {\"error\":{\"code\":401,\"message\":\"No or an invalid authentication header was provided on the request. Please make sure you pass your API key in the corresponding HTTP header.\"}}\n"
     ]
    },
    {
     "name": "stderr",
     "output_type": "stream",
     "text": [
      "2025/09/06 10:16:49 WARNING dspy.adapters.json_adapter: Failed to use structured output format, falling back to JSON mode.\n"
     ]
    },
    {
     "name": "stdout",
     "output_type": "stream",
     "text": [
      "SemanticF1 error: Both structured output format and JSON mode failed. Please choose a model that supports `response_format` argument. Original error: litellm.AuthenticationError: AuthenticationError: XaiException - {\"error\":{\"code\":401,\"message\":\"No or an invalid authentication header was provided on the request. Please make sure you pass your API key in the corresponding HTTP header.\"}}\n"
     ]
    },
    {
     "name": "stderr",
     "output_type": "stream",
     "text": [
      "2025/09/06 10:17:00 WARNING dspy.adapters.json_adapter: Failed to use structured output format, falling back to JSON mode.\n"
     ]
    },
    {
     "name": "stdout",
     "output_type": "stream",
     "text": [
      "Error generating LLM answer: Both structured output format and JSON mode failed. Please choose a model that supports `response_format` argument. Original error: litellm.AuthenticationError: AuthenticationError: XaiException - {\"error\":{\"code\":401,\"message\":\"No or an invalid authentication header was provided on the request. Please make sure you pass your API key in the corresponding HTTP header.\"}}\n"
     ]
    },
    {
     "name": "stderr",
     "output_type": "stream",
     "text": [
      "2025/09/06 10:17:08 WARNING dspy.adapters.json_adapter: Failed to use structured output format, falling back to JSON mode.\n"
     ]
    },
    {
     "name": "stdout",
     "output_type": "stream",
     "text": [
      "SemanticF1 error: Both structured output format and JSON mode failed. Please choose a model that supports `response_format` argument. Original error: litellm.AuthenticationError: AuthenticationError: XaiException - {\"error\":{\"code\":401,\"message\":\"No or an invalid authentication header was provided on the request. Please make sure you pass your API key in the corresponding HTTP header.\"}}\n"
     ]
    },
    {
     "name": "stderr",
     "output_type": "stream",
     "text": [
      "2025/09/06 10:17:18 WARNING dspy.adapters.json_adapter: Failed to use structured output format, falling back to JSON mode.\n"
     ]
    },
    {
     "name": "stdout",
     "output_type": "stream",
     "text": [
      "Error generating LLM answer: Both structured output format and JSON mode failed. Please choose a model that supports `response_format` argument. Original error: litellm.AuthenticationError: AuthenticationError: XaiException - {\"error\":{\"code\":401,\"message\":\"No or an invalid authentication header was provided on the request. Please make sure you pass your API key in the corresponding HTTP header.\"}}\n"
     ]
    },
    {
     "name": "stderr",
     "output_type": "stream",
     "text": [
      "2025/09/06 10:17:26 WARNING dspy.adapters.json_adapter: Failed to use structured output format, falling back to JSON mode.\n"
     ]
    },
    {
     "name": "stdout",
     "output_type": "stream",
     "text": [
      "SemanticF1 error: Both structured output format and JSON mode failed. Please choose a model that supports `response_format` argument. Original error: litellm.AuthenticationError: AuthenticationError: XaiException - {\"error\":{\"code\":401,\"message\":\"No or an invalid authentication header was provided on the request. Please make sure you pass your API key in the corresponding HTTP header.\"}}\n"
     ]
    },
    {
     "name": "stderr",
     "output_type": "stream",
     "text": [
      "2025/09/06 10:17:37 WARNING dspy.adapters.json_adapter: Failed to use structured output format, falling back to JSON mode.\n"
     ]
    },
    {
     "name": "stdout",
     "output_type": "stream",
     "text": [
      "Error generating LLM answer: Both structured output format and JSON mode failed. Please choose a model that supports `response_format` argument. Original error: litellm.AuthenticationError: AuthenticationError: XaiException - {\"error\":{\"code\":401,\"message\":\"No or an invalid authentication header was provided on the request. Please make sure you pass your API key in the corresponding HTTP header.\"}}\n"
     ]
    },
    {
     "name": "stderr",
     "output_type": "stream",
     "text": [
      "2025/09/06 10:17:45 WARNING dspy.adapters.json_adapter: Failed to use structured output format, falling back to JSON mode.\n"
     ]
    },
    {
     "name": "stdout",
     "output_type": "stream",
     "text": [
      "SemanticF1 error: Both structured output format and JSON mode failed. Please choose a model that supports `response_format` argument. Original error: litellm.AuthenticationError: AuthenticationError: XaiException - {\"error\":{\"code\":401,\"message\":\"No or an invalid authentication header was provided on the request. Please make sure you pass your API key in the corresponding HTTP header.\"}}\n"
     ]
    },
    {
     "name": "stderr",
     "output_type": "stream",
     "text": [
      "2025/09/06 10:17:56 WARNING dspy.adapters.json_adapter: Failed to use structured output format, falling back to JSON mode.\n"
     ]
    },
    {
     "name": "stdout",
     "output_type": "stream",
     "text": [
      "Error generating LLM answer: Both structured output format and JSON mode failed. Please choose a model that supports `response_format` argument. Original error: litellm.AuthenticationError: AuthenticationError: XaiException - {\"error\":{\"code\":401,\"message\":\"No or an invalid authentication header was provided on the request. Please make sure you pass your API key in the corresponding HTTP header.\"}}\n"
     ]
    },
    {
     "name": "stderr",
     "output_type": "stream",
     "text": [
      "2025/09/06 10:18:04 WARNING dspy.adapters.json_adapter: Failed to use structured output format, falling back to JSON mode.\n"
     ]
    },
    {
     "name": "stdout",
     "output_type": "stream",
     "text": [
      "SemanticF1 error: Both structured output format and JSON mode failed. Please choose a model that supports `response_format` argument. Original error: litellm.AuthenticationError: AuthenticationError: XaiException - {\"error\":{\"code\":401,\"message\":\"No or an invalid authentication header was provided on the request. Please make sure you pass your API key in the corresponding HTTP header.\"}}\n"
     ]
    },
    {
     "name": "stderr",
     "output_type": "stream",
     "text": [
      "2025/09/06 10:18:15 WARNING dspy.adapters.json_adapter: Failed to use structured output format, falling back to JSON mode.\n"
     ]
    },
    {
     "name": "stdout",
     "output_type": "stream",
     "text": [
      "Error generating LLM answer: Both structured output format and JSON mode failed. Please choose a model that supports `response_format` argument. Original error: litellm.AuthenticationError: AuthenticationError: XaiException - {\"error\":{\"code\":401,\"message\":\"No or an invalid authentication header was provided on the request. Please make sure you pass your API key in the corresponding HTTP header.\"}}\n"
     ]
    },
    {
     "name": "stderr",
     "output_type": "stream",
     "text": [
      "2025/09/06 10:18:23 WARNING dspy.adapters.json_adapter: Failed to use structured output format, falling back to JSON mode.\n"
     ]
    },
    {
     "name": "stdout",
     "output_type": "stream",
     "text": [
      "SemanticF1 error: Both structured output format and JSON mode failed. Please choose a model that supports `response_format` argument. Original error: litellm.AuthenticationError: AuthenticationError: XaiException - {\"error\":{\"code\":401,\"message\":\"No or an invalid authentication header was provided on the request. Please make sure you pass your API key in the corresponding HTTP header.\"}}\n"
     ]
    },
    {
     "name": "stderr",
     "output_type": "stream",
     "text": [
      "2025/09/06 10:18:34 WARNING dspy.adapters.json_adapter: Failed to use structured output format, falling back to JSON mode.\n"
     ]
    },
    {
     "name": "stdout",
     "output_type": "stream",
     "text": [
      "Error generating LLM answer: Both structured output format and JSON mode failed. Please choose a model that supports `response_format` argument. Original error: litellm.AuthenticationError: AuthenticationError: XaiException - {\"error\":{\"code\":401,\"message\":\"No or an invalid authentication header was provided on the request. Please make sure you pass your API key in the corresponding HTTP header.\"}}\n"
     ]
    },
    {
     "name": "stderr",
     "output_type": "stream",
     "text": [
      "2025/09/06 10:18:42 WARNING dspy.adapters.json_adapter: Failed to use structured output format, falling back to JSON mode.\n"
     ]
    },
    {
     "name": "stdout",
     "output_type": "stream",
     "text": [
      "SemanticF1 error: Both structured output format and JSON mode failed. Please choose a model that supports `response_format` argument. Original error: litellm.AuthenticationError: AuthenticationError: XaiException - {\"error\":{\"code\":401,\"message\":\"No or an invalid authentication header was provided on the request. Please make sure you pass your API key in the corresponding HTTP header.\"}}\n"
     ]
    },
    {
     "name": "stderr",
     "output_type": "stream",
     "text": [
      "2025/09/06 10:18:53 WARNING dspy.adapters.json_adapter: Failed to use structured output format, falling back to JSON mode.\n"
     ]
    },
    {
     "name": "stdout",
     "output_type": "stream",
     "text": [
      "Error generating LLM answer: Both structured output format and JSON mode failed. Please choose a model that supports `response_format` argument. Original error: litellm.AuthenticationError: AuthenticationError: XaiException - {\"error\":{\"code\":401,\"message\":\"No or an invalid authentication header was provided on the request. Please make sure you pass your API key in the corresponding HTTP header.\"}}\n"
     ]
    },
    {
     "name": "stderr",
     "output_type": "stream",
     "text": [
      "2025/09/06 10:19:01 WARNING dspy.adapters.json_adapter: Failed to use structured output format, falling back to JSON mode.\n"
     ]
    },
    {
     "name": "stdout",
     "output_type": "stream",
     "text": [
      "SemanticF1 error: Both structured output format and JSON mode failed. Please choose a model that supports `response_format` argument. Original error: litellm.AuthenticationError: AuthenticationError: XaiException - {\"error\":{\"code\":401,\"message\":\"No or an invalid authentication header was provided on the request. Please make sure you pass your API key in the corresponding HTTP header.\"}}\n"
     ]
    },
    {
     "name": "stderr",
     "output_type": "stream",
     "text": [
      "2025/09/06 10:19:12 WARNING dspy.adapters.json_adapter: Failed to use structured output format, falling back to JSON mode.\n"
     ]
    },
    {
     "name": "stdout",
     "output_type": "stream",
     "text": [
      "Error generating LLM answer: Both structured output format and JSON mode failed. Please choose a model that supports `response_format` argument. Original error: litellm.AuthenticationError: AuthenticationError: XaiException - {\"error\":{\"code\":401,\"message\":\"No or an invalid authentication header was provided on the request. Please make sure you pass your API key in the corresponding HTTP header.\"}}\n"
     ]
    },
    {
     "name": "stderr",
     "output_type": "stream",
     "text": [
      "2025/09/06 10:19:22 WARNING dspy.adapters.json_adapter: Failed to use structured output format, falling back to JSON mode.\n"
     ]
    },
    {
     "name": "stdout",
     "output_type": "stream",
     "text": [
      "SemanticF1 error: Both structured output format and JSON mode failed. Please choose a model that supports `response_format` argument. Original error: litellm.AuthenticationError: AuthenticationError: XaiException - {\"error\":{\"code\":401,\"message\":\"No or an invalid authentication header was provided on the request. Please make sure you pass your API key in the corresponding HTTP header.\"}}\n"
     ]
    },
    {
     "name": "stderr",
     "output_type": "stream",
     "text": [
      "2025/09/06 10:19:30 WARNING dspy.adapters.json_adapter: Failed to use structured output format, falling back to JSON mode.\n"
     ]
    },
    {
     "name": "stdout",
     "output_type": "stream",
     "text": [
      "Error generating LLM answer: Both structured output format and JSON mode failed. Please choose a model that supports `response_format` argument. Original error: litellm.AuthenticationError: AuthenticationError: XaiException - {\"error\":{\"code\":401,\"message\":\"No or an invalid authentication header was provided on the request. Please make sure you pass your API key in the corresponding HTTP header.\"}}\n"
     ]
    },
    {
     "name": "stderr",
     "output_type": "stream",
     "text": [
      "2025/09/06 10:19:38 WARNING dspy.adapters.json_adapter: Failed to use structured output format, falling back to JSON mode.\n"
     ]
    },
    {
     "name": "stdout",
     "output_type": "stream",
     "text": [
      "SemanticF1 error: Both structured output format and JSON mode failed. Please choose a model that supports `response_format` argument. Original error: litellm.AuthenticationError: AuthenticationError: XaiException - {\"error\":{\"code\":401,\"message\":\"No or an invalid authentication header was provided on the request. Please make sure you pass your API key in the corresponding HTTP header.\"}}\n"
     ]
    },
    {
     "name": "stderr",
     "output_type": "stream",
     "text": [
      "2025/09/06 10:19:46 WARNING dspy.adapters.json_adapter: Failed to use structured output format, falling back to JSON mode.\n"
     ]
    },
    {
     "name": "stdout",
     "output_type": "stream",
     "text": [
      "Error generating LLM answer: Both structured output format and JSON mode failed. Please choose a model that supports `response_format` argument. Original error: litellm.AuthenticationError: AuthenticationError: XaiException - {\"error\":{\"code\":401,\"message\":\"No or an invalid authentication header was provided on the request. Please make sure you pass your API key in the corresponding HTTP header.\"}}\n"
     ]
    },
    {
     "name": "stderr",
     "output_type": "stream",
     "text": [
      "2025/09/06 10:19:54 WARNING dspy.adapters.json_adapter: Failed to use structured output format, falling back to JSON mode.\n"
     ]
    },
    {
     "name": "stdout",
     "output_type": "stream",
     "text": [
      "SemanticF1 error: Both structured output format and JSON mode failed. Please choose a model that supports `response_format` argument. Original error: litellm.AuthenticationError: AuthenticationError: XaiException - {\"error\":{\"code\":401,\"message\":\"No or an invalid authentication header was provided on the request. Please make sure you pass your API key in the corresponding HTTP header.\"}}\n"
     ]
    },
    {
     "name": "stderr",
     "output_type": "stream",
     "text": [
      "2025/09/06 10:20:02 WARNING dspy.adapters.json_adapter: Failed to use structured output format, falling back to JSON mode.\n"
     ]
    },
    {
     "name": "stdout",
     "output_type": "stream",
     "text": [
      "Error generating LLM answer: Both structured output format and JSON mode failed. Please choose a model that supports `response_format` argument. Original error: litellm.AuthenticationError: AuthenticationError: XaiException - {\"error\":{\"code\":401,\"message\":\"No or an invalid authentication header was provided on the request. Please make sure you pass your API key in the corresponding HTTP header.\"}}\n"
     ]
    },
    {
     "name": "stderr",
     "output_type": "stream",
     "text": [
      "2025/09/06 10:20:10 WARNING dspy.adapters.json_adapter: Failed to use structured output format, falling back to JSON mode.\n"
     ]
    },
    {
     "name": "stdout",
     "output_type": "stream",
     "text": [
      "SemanticF1 error: Both structured output format and JSON mode failed. Please choose a model that supports `response_format` argument. Original error: litellm.AuthenticationError: AuthenticationError: XaiException - {\"error\":{\"code\":401,\"message\":\"No or an invalid authentication header was provided on the request. Please make sure you pass your API key in the corresponding HTTP header.\"}}\n"
     ]
    },
    {
     "name": "stderr",
     "output_type": "stream",
     "text": [
      "2025/09/06 10:20:18 WARNING dspy.adapters.json_adapter: Failed to use structured output format, falling back to JSON mode.\n"
     ]
    },
    {
     "name": "stdout",
     "output_type": "stream",
     "text": [
      "Error generating LLM answer: Both structured output format and JSON mode failed. Please choose a model that supports `response_format` argument. Original error: litellm.AuthenticationError: AuthenticationError: XaiException - {\"error\":{\"code\":401,\"message\":\"No or an invalid authentication header was provided on the request. Please make sure you pass your API key in the corresponding HTTP header.\"}}\n"
     ]
    },
    {
     "name": "stderr",
     "output_type": "stream",
     "text": [
      "2025/09/06 10:20:27 WARNING dspy.adapters.json_adapter: Failed to use structured output format, falling back to JSON mode.\n"
     ]
    },
    {
     "name": "stdout",
     "output_type": "stream",
     "text": [
      "SemanticF1 error: Both structured output format and JSON mode failed. Please choose a model that supports `response_format` argument. Original error: litellm.AuthenticationError: AuthenticationError: XaiException - {\"error\":{\"code\":401,\"message\":\"No or an invalid authentication header was provided on the request. Please make sure you pass your API key in the corresponding HTTP header.\"}}\n"
     ]
    },
    {
     "name": "stderr",
     "output_type": "stream",
     "text": [
      "2025/09/06 10:20:35 WARNING dspy.adapters.json_adapter: Failed to use structured output format, falling back to JSON mode.\n"
     ]
    },
    {
     "name": "stdout",
     "output_type": "stream",
     "text": [
      "Error generating LLM answer: Both structured output format and JSON mode failed. Please choose a model that supports `response_format` argument. Original error: litellm.AuthenticationError: AuthenticationError: XaiException - {\"error\":{\"code\":401,\"message\":\"No or an invalid authentication header was provided on the request. Please make sure you pass your API key in the corresponding HTTP header.\"}}\n"
     ]
    },
    {
     "name": "stderr",
     "output_type": "stream",
     "text": [
      "2025/09/06 10:20:43 WARNING dspy.adapters.json_adapter: Failed to use structured output format, falling back to JSON mode.\n"
     ]
    },
    {
     "name": "stdout",
     "output_type": "stream",
     "text": [
      "SemanticF1 error: Both structured output format and JSON mode failed. Please choose a model that supports `response_format` argument. Original error: litellm.AuthenticationError: AuthenticationError: XaiException - {\"error\":{\"code\":401,\"message\":\"No or an invalid authentication header was provided on the request. Please make sure you pass your API key in the corresponding HTTP header.\"}}\n"
     ]
    },
    {
     "name": "stderr",
     "output_type": "stream",
     "text": [
      "2025/09/06 10:20:51 WARNING dspy.adapters.json_adapter: Failed to use structured output format, falling back to JSON mode.\n"
     ]
    },
    {
     "name": "stdout",
     "output_type": "stream",
     "text": [
      "Error generating LLM answer: Both structured output format and JSON mode failed. Please choose a model that supports `response_format` argument. Original error: litellm.AuthenticationError: AuthenticationError: XaiException - {\"error\":{\"code\":401,\"message\":\"No or an invalid authentication header was provided on the request. Please make sure you pass your API key in the corresponding HTTP header.\"}}\n"
     ]
    },
    {
     "name": "stderr",
     "output_type": "stream",
     "text": [
      "2025/09/06 10:20:59 WARNING dspy.adapters.json_adapter: Failed to use structured output format, falling back to JSON mode.\n"
     ]
    },
    {
     "name": "stdout",
     "output_type": "stream",
     "text": [
      "SemanticF1 error: Both structured output format and JSON mode failed. Please choose a model that supports `response_format` argument. Original error: litellm.AuthenticationError: AuthenticationError: XaiException - {\"error\":{\"code\":401,\"message\":\"No or an invalid authentication header was provided on the request. Please make sure you pass your API key in the corresponding HTTP header.\"}}\n"
     ]
    },
    {
     "name": "stderr",
     "output_type": "stream",
     "text": [
      "2025/09/06 10:21:07 WARNING dspy.adapters.json_adapter: Failed to use structured output format, falling back to JSON mode.\n"
     ]
    },
    {
     "name": "stdout",
     "output_type": "stream",
     "text": [
      "Error generating LLM answer: Both structured output format and JSON mode failed. Please choose a model that supports `response_format` argument. Original error: litellm.AuthenticationError: AuthenticationError: XaiException - {\"error\":{\"code\":401,\"message\":\"No or an invalid authentication header was provided on the request. Please make sure you pass your API key in the corresponding HTTP header.\"}}\n"
     ]
    },
    {
     "name": "stderr",
     "output_type": "stream",
     "text": [
      "2025/09/06 10:21:14 WARNING dspy.adapters.json_adapter: Failed to use structured output format, falling back to JSON mode.\n"
     ]
    },
    {
     "name": "stdout",
     "output_type": "stream",
     "text": [
      "SemanticF1 error: Both structured output format and JSON mode failed. Please choose a model that supports `response_format` argument. Original error: litellm.AuthenticationError: AuthenticationError: XaiException - {\"error\":{\"code\":401,\"message\":\"No or an invalid authentication header was provided on the request. Please make sure you pass your API key in the corresponding HTTP header.\"}}\n"
     ]
    },
    {
     "name": "stderr",
     "output_type": "stream",
     "text": [
      "2025/09/06 10:21:23 WARNING dspy.adapters.json_adapter: Failed to use structured output format, falling back to JSON mode.\n"
     ]
    },
    {
     "name": "stdout",
     "output_type": "stream",
     "text": [
      "Error generating LLM answer: Both structured output format and JSON mode failed. Please choose a model that supports `response_format` argument. Original error: litellm.AuthenticationError: AuthenticationError: XaiException - {\"error\":{\"code\":401,\"message\":\"No or an invalid authentication header was provided on the request. Please make sure you pass your API key in the corresponding HTTP header.\"}}\n"
     ]
    },
    {
     "name": "stderr",
     "output_type": "stream",
     "text": [
      "2025/09/06 10:21:31 WARNING dspy.adapters.json_adapter: Failed to use structured output format, falling back to JSON mode.\n"
     ]
    },
    {
     "name": "stdout",
     "output_type": "stream",
     "text": [
      "SemanticF1 error: Both structured output format and JSON mode failed. Please choose a model that supports `response_format` argument. Original error: litellm.AuthenticationError: AuthenticationError: XaiException - {\"error\":{\"code\":401,\"message\":\"No or an invalid authentication header was provided on the request. Please make sure you pass your API key in the corresponding HTTP header.\"}}\n",
      "First-question LLM mean F1: 0.0\n"
     ]
    },
    {
     "data": {
      "text/plain": [
       "LLM Full-Conversation Eval:   0%|          | 0/20 [00:00<?, ?it/s]"
      ],
      "application/vnd.jupyter.widget-view+json": {
       "version_major": 2,
       "version_minor": 0,
       "model_id": "253745e14d754ea2a7a8f487d51d6abf"
      }
     },
     "metadata": {},
     "output_type": "display_data",
     "jetTransient": {
      "display_id": null
     }
    },
    {
     "name": "stdout",
     "output_type": "stream",
     "text": [
      "Directory not found: /home/lotemsakira/PycharmProjects/PragmatiCQA-sources/A Nightmare on Elm Street (2010 film)\n"
     ]
    },
    {
     "name": "stderr",
     "output_type": "stream",
     "text": [
      "2025/09/06 10:21:39 WARNING dspy.adapters.json_adapter: Failed to use structured output format, falling back to JSON mode.\n"
     ]
    },
    {
     "name": "stdout",
     "output_type": "stream",
     "text": [
      "Error generating LLM answer: Both structured output format and JSON mode failed. Please choose a model that supports `response_format` argument. Original error: litellm.AuthenticationError: AuthenticationError: XaiException - {\"error\":{\"code\":401,\"message\":\"No or an invalid authentication header was provided on the request. Please make sure you pass your API key in the corresponding HTTP header.\"}}\n"
     ]
    },
    {
     "name": "stderr",
     "output_type": "stream",
     "text": [
      "2025/09/06 10:21:46 WARNING dspy.adapters.json_adapter: Failed to use structured output format, falling back to JSON mode.\n"
     ]
    },
    {
     "name": "stdout",
     "output_type": "stream",
     "text": [
      "SemanticF1 error: Both structured output format and JSON mode failed. Please choose a model that supports `response_format` argument. Original error: litellm.AuthenticationError: AuthenticationError: XaiException - {\"error\":{\"code\":401,\"message\":\"No or an invalid authentication header was provided on the request. Please make sure you pass your API key in the corresponding HTTP header.\"}}\n",
      "Directory not found: /home/lotemsakira/PycharmProjects/PragmatiCQA-sources/A Nightmare on Elm Street (2010 film)\n"
     ]
    },
    {
     "name": "stderr",
     "output_type": "stream",
     "text": [
      "2025/09/06 10:21:57 WARNING dspy.adapters.json_adapter: Failed to use structured output format, falling back to JSON mode.\n"
     ]
    },
    {
     "name": "stdout",
     "output_type": "stream",
     "text": [
      "Error generating LLM answer: Both structured output format and JSON mode failed. Please choose a model that supports `response_format` argument. Original error: litellm.AuthenticationError: AuthenticationError: XaiException - {\"error\":{\"code\":401,\"message\":\"No or an invalid authentication header was provided on the request. Please make sure you pass your API key in the corresponding HTTP header.\"}}\n"
     ]
    },
    {
     "name": "stderr",
     "output_type": "stream",
     "text": [
      "2025/09/06 10:22:05 WARNING dspy.adapters.json_adapter: Failed to use structured output format, falling back to JSON mode.\n"
     ]
    },
    {
     "name": "stdout",
     "output_type": "stream",
     "text": [
      "SemanticF1 error: Both structured output format and JSON mode failed. Please choose a model that supports `response_format` argument. Original error: litellm.AuthenticationError: AuthenticationError: XaiException - {\"error\":{\"code\":401,\"message\":\"No or an invalid authentication header was provided on the request. Please make sure you pass your API key in the corresponding HTTP header.\"}}\n",
      "Directory not found: /home/lotemsakira/PycharmProjects/PragmatiCQA-sources/A Nightmare on Elm Street (2010 film)\n"
     ]
    },
    {
     "name": "stderr",
     "output_type": "stream",
     "text": [
      "2025/09/06 10:22:13 WARNING dspy.adapters.json_adapter: Failed to use structured output format, falling back to JSON mode.\n"
     ]
    },
    {
     "name": "stdout",
     "output_type": "stream",
     "text": [
      "Error generating LLM answer: Both structured output format and JSON mode failed. Please choose a model that supports `response_format` argument. Original error: litellm.AuthenticationError: AuthenticationError: XaiException - {\"error\":{\"code\":401,\"message\":\"No or an invalid authentication header was provided on the request. Please make sure you pass your API key in the corresponding HTTP header.\"}}\n"
     ]
    },
    {
     "name": "stderr",
     "output_type": "stream",
     "text": [
      "2025/09/06 10:22:21 WARNING dspy.adapters.json_adapter: Failed to use structured output format, falling back to JSON mode.\n"
     ]
    },
    {
     "name": "stdout",
     "output_type": "stream",
     "text": [
      "SemanticF1 error: Both structured output format and JSON mode failed. Please choose a model that supports `response_format` argument. Original error: litellm.AuthenticationError: AuthenticationError: XaiException - {\"error\":{\"code\":401,\"message\":\"No or an invalid authentication header was provided on the request. Please make sure you pass your API key in the corresponding HTTP header.\"}}\n",
      "Directory not found: /home/lotemsakira/PycharmProjects/PragmatiCQA-sources/A Nightmare on Elm Street (2010 film)\n"
     ]
    },
    {
     "name": "stderr",
     "output_type": "stream",
     "text": [
      "2025/09/06 10:22:29 WARNING dspy.adapters.json_adapter: Failed to use structured output format, falling back to JSON mode.\n"
     ]
    },
    {
     "name": "stdout",
     "output_type": "stream",
     "text": [
      "Error generating LLM answer: Both structured output format and JSON mode failed. Please choose a model that supports `response_format` argument. Original error: litellm.AuthenticationError: AuthenticationError: XaiException - {\"error\":{\"code\":401,\"message\":\"No or an invalid authentication header was provided on the request. Please make sure you pass your API key in the corresponding HTTP header.\"}}\n"
     ]
    },
    {
     "name": "stderr",
     "output_type": "stream",
     "text": [
      "2025/09/06 10:22:37 WARNING dspy.adapters.json_adapter: Failed to use structured output format, falling back to JSON mode.\n"
     ]
    },
    {
     "name": "stdout",
     "output_type": "stream",
     "text": [
      "SemanticF1 error: Both structured output format and JSON mode failed. Please choose a model that supports `response_format` argument. Original error: litellm.AuthenticationError: AuthenticationError: XaiException - {\"error\":{\"code\":401,\"message\":\"No or an invalid authentication header was provided on the request. Please make sure you pass your API key in the corresponding HTTP header.\"}}\n",
      "Directory not found: /home/lotemsakira/PycharmProjects/PragmatiCQA-sources/A Nightmare on Elm Street (2010 film)\n"
     ]
    },
    {
     "name": "stderr",
     "output_type": "stream",
     "text": [
      "2025/09/06 10:22:45 WARNING dspy.adapters.json_adapter: Failed to use structured output format, falling back to JSON mode.\n"
     ]
    },
    {
     "name": "stdout",
     "output_type": "stream",
     "text": [
      "Error generating LLM answer: Both structured output format and JSON mode failed. Please choose a model that supports `response_format` argument. Original error: litellm.AuthenticationError: AuthenticationError: XaiException - {\"error\":{\"code\":401,\"message\":\"No or an invalid authentication header was provided on the request. Please make sure you pass your API key in the corresponding HTTP header.\"}}\n"
     ]
    },
    {
     "name": "stderr",
     "output_type": "stream",
     "text": [
      "2025/09/06 10:22:53 WARNING dspy.adapters.json_adapter: Failed to use structured output format, falling back to JSON mode.\n"
     ]
    },
    {
     "name": "stdout",
     "output_type": "stream",
     "text": [
      "SemanticF1 error: Both structured output format and JSON mode failed. Please choose a model that supports `response_format` argument. Original error: litellm.AuthenticationError: AuthenticationError: XaiException - {\"error\":{\"code\":401,\"message\":\"No or an invalid authentication header was provided on the request. Please make sure you pass your API key in the corresponding HTTP header.\"}}\n",
      "Directory not found: /home/lotemsakira/PycharmProjects/PragmatiCQA-sources/A Nightmare on Elm Street (2010 film)\n"
     ]
    },
    {
     "name": "stderr",
     "output_type": "stream",
     "text": [
      "2025/09/06 10:23:01 WARNING dspy.adapters.json_adapter: Failed to use structured output format, falling back to JSON mode.\n"
     ]
    },
    {
     "name": "stdout",
     "output_type": "stream",
     "text": [
      "Error generating LLM answer: Both structured output format and JSON mode failed. Please choose a model that supports `response_format` argument. Original error: litellm.AuthenticationError: AuthenticationError: XaiException - {\"error\":{\"code\":401,\"message\":\"No or an invalid authentication header was provided on the request. Please make sure you pass your API key in the corresponding HTTP header.\"}}\n"
     ]
    },
    {
     "name": "stderr",
     "output_type": "stream",
     "text": [
      "2025/09/06 10:23:08 WARNING dspy.adapters.json_adapter: Failed to use structured output format, falling back to JSON mode.\n"
     ]
    },
    {
     "name": "stdout",
     "output_type": "stream",
     "text": [
      "SemanticF1 error: Both structured output format and JSON mode failed. Please choose a model that supports `response_format` argument. Original error: litellm.AuthenticationError: AuthenticationError: XaiException - {\"error\":{\"code\":401,\"message\":\"No or an invalid authentication header was provided on the request. Please make sure you pass your API key in the corresponding HTTP header.\"}}\n",
      "Directory not found: /home/lotemsakira/PycharmProjects/PragmatiCQA-sources/A Nightmare on Elm Street (2010 film)\n"
     ]
    },
    {
     "name": "stderr",
     "output_type": "stream",
     "text": [
      "2025/09/06 10:23:17 WARNING dspy.adapters.json_adapter: Failed to use structured output format, falling back to JSON mode.\n"
     ]
    },
    {
     "name": "stdout",
     "output_type": "stream",
     "text": [
      "Error generating LLM answer: Both structured output format and JSON mode failed. Please choose a model that supports `response_format` argument. Original error: litellm.AuthenticationError: AuthenticationError: XaiException - {\"error\":{\"code\":401,\"message\":\"No or an invalid authentication header was provided on the request. Please make sure you pass your API key in the corresponding HTTP header.\"}}\n"
     ]
    },
    {
     "name": "stderr",
     "output_type": "stream",
     "text": [
      "2025/09/06 10:23:25 WARNING dspy.adapters.json_adapter: Failed to use structured output format, falling back to JSON mode.\n"
     ]
    },
    {
     "name": "stdout",
     "output_type": "stream",
     "text": [
      "SemanticF1 error: Both structured output format and JSON mode failed. Please choose a model that supports `response_format` argument. Original error: litellm.AuthenticationError: AuthenticationError: XaiException - {\"error\":{\"code\":401,\"message\":\"No or an invalid authentication header was provided on the request. Please make sure you pass your API key in the corresponding HTTP header.\"}}\n",
      "Directory not found: /home/lotemsakira/PycharmProjects/PragmatiCQA-sources/A Nightmare on Elm Street (2010 film)\n"
     ]
    },
    {
     "name": "stderr",
     "output_type": "stream",
     "text": [
      "2025/09/06 10:23:33 WARNING dspy.adapters.json_adapter: Failed to use structured output format, falling back to JSON mode.\n"
     ]
    },
    {
     "name": "stdout",
     "output_type": "stream",
     "text": [
      "Error generating LLM answer: Both structured output format and JSON mode failed. Please choose a model that supports `response_format` argument. Original error: litellm.AuthenticationError: AuthenticationError: XaiException - {\"error\":{\"code\":401,\"message\":\"No or an invalid authentication header was provided on the request. Please make sure you pass your API key in the corresponding HTTP header.\"}}\n"
     ]
    },
    {
     "name": "stderr",
     "output_type": "stream",
     "text": [
      "2025/09/06 10:23:40 WARNING dspy.adapters.json_adapter: Failed to use structured output format, falling back to JSON mode.\n"
     ]
    },
    {
     "name": "stdout",
     "output_type": "stream",
     "text": [
      "SemanticF1 error: Both structured output format and JSON mode failed. Please choose a model that supports `response_format` argument. Original error: litellm.AuthenticationError: AuthenticationError: XaiException - {\"error\":{\"code\":401,\"message\":\"No or an invalid authentication header was provided on the request. Please make sure you pass your API key in the corresponding HTTP header.\"}}\n",
      "Directory not found: /home/lotemsakira/PycharmProjects/PragmatiCQA-sources/A Nightmare on Elm Street (2010 film)\n"
     ]
    },
    {
     "name": "stderr",
     "output_type": "stream",
     "text": [
      "2025/09/06 10:23:48 WARNING dspy.adapters.json_adapter: Failed to use structured output format, falling back to JSON mode.\n"
     ]
    },
    {
     "name": "stdout",
     "output_type": "stream",
     "text": [
      "Error generating LLM answer: Both structured output format and JSON mode failed. Please choose a model that supports `response_format` argument. Original error: litellm.AuthenticationError: AuthenticationError: XaiException - {\"error\":{\"code\":401,\"message\":\"No or an invalid authentication header was provided on the request. Please make sure you pass your API key in the corresponding HTTP header.\"}}\n"
     ]
    },
    {
     "name": "stderr",
     "output_type": "stream",
     "text": [
      "2025/09/06 10:23:56 WARNING dspy.adapters.json_adapter: Failed to use structured output format, falling back to JSON mode.\n"
     ]
    },
    {
     "name": "stdout",
     "output_type": "stream",
     "text": [
      "SemanticF1 error: Both structured output format and JSON mode failed. Please choose a model that supports `response_format` argument. Original error: litellm.AuthenticationError: AuthenticationError: XaiException - {\"error\":{\"code\":401,\"message\":\"No or an invalid authentication header was provided on the request. Please make sure you pass your API key in the corresponding HTTP header.\"}}\n",
      "Directory not found: /home/lotemsakira/PycharmProjects/PragmatiCQA-sources/A Nightmare on Elm Street (2010 film)\n"
     ]
    },
    {
     "name": "stderr",
     "output_type": "stream",
     "text": [
      "2025/09/06 10:24:04 WARNING dspy.adapters.json_adapter: Failed to use structured output format, falling back to JSON mode.\n"
     ]
    },
    {
     "name": "stdout",
     "output_type": "stream",
     "text": [
      "Error generating LLM answer: Both structured output format and JSON mode failed. Please choose a model that supports `response_format` argument. Original error: litellm.AuthenticationError: AuthenticationError: XaiException - {\"error\":{\"code\":401,\"message\":\"No or an invalid authentication header was provided on the request. Please make sure you pass your API key in the corresponding HTTP header.\"}}\n"
     ]
    },
    {
     "name": "stderr",
     "output_type": "stream",
     "text": [
      "2025/09/06 10:24:12 WARNING dspy.adapters.json_adapter: Failed to use structured output format, falling back to JSON mode.\n"
     ]
    },
    {
     "name": "stdout",
     "output_type": "stream",
     "text": [
      "SemanticF1 error: Both structured output format and JSON mode failed. Please choose a model that supports `response_format` argument. Original error: litellm.AuthenticationError: AuthenticationError: XaiException - {\"error\":{\"code\":401,\"message\":\"No or an invalid authentication header was provided on the request. Please make sure you pass your API key in the corresponding HTTP header.\"}}\n",
      "Directory not found: /home/lotemsakira/PycharmProjects/PragmatiCQA-sources/A Nightmare on Elm Street (2010 film)\n"
     ]
    },
    {
     "name": "stderr",
     "output_type": "stream",
     "text": [
      "2025/09/06 10:24:20 WARNING dspy.adapters.json_adapter: Failed to use structured output format, falling back to JSON mode.\n"
     ]
    },
    {
     "name": "stdout",
     "output_type": "stream",
     "text": [
      "Error generating LLM answer: Both structured output format and JSON mode failed. Please choose a model that supports `response_format` argument. Original error: litellm.AuthenticationError: AuthenticationError: XaiException - {\"error\":{\"code\":401,\"message\":\"No or an invalid authentication header was provided on the request. Please make sure you pass your API key in the corresponding HTTP header.\"}}\n"
     ]
    },
    {
     "name": "stderr",
     "output_type": "stream",
     "text": [
      "2025/09/06 10:24:28 WARNING dspy.adapters.json_adapter: Failed to use structured output format, falling back to JSON mode.\n"
     ]
    },
    {
     "name": "stdout",
     "output_type": "stream",
     "text": [
      "SemanticF1 error: Both structured output format and JSON mode failed. Please choose a model that supports `response_format` argument. Original error: litellm.AuthenticationError: AuthenticationError: XaiException - {\"error\":{\"code\":401,\"message\":\"No or an invalid authentication header was provided on the request. Please make sure you pass your API key in the corresponding HTTP header.\"}}\n",
      "Directory not found: /home/lotemsakira/PycharmProjects/PragmatiCQA-sources/A Nightmare on Elm Street (2010 film)\n"
     ]
    },
    {
     "name": "stderr",
     "output_type": "stream",
     "text": [
      "2025/09/06 10:24:36 WARNING dspy.adapters.json_adapter: Failed to use structured output format, falling back to JSON mode.\n"
     ]
    },
    {
     "name": "stdout",
     "output_type": "stream",
     "text": [
      "Error generating LLM answer: Both structured output format and JSON mode failed. Please choose a model that supports `response_format` argument. Original error: litellm.AuthenticationError: AuthenticationError: XaiException - {\"error\":{\"code\":401,\"message\":\"No or an invalid authentication header was provided on the request. Please make sure you pass your API key in the corresponding HTTP header.\"}}\n"
     ]
    },
    {
     "name": "stderr",
     "output_type": "stream",
     "text": [
      "2025/09/06 10:24:44 WARNING dspy.adapters.json_adapter: Failed to use structured output format, falling back to JSON mode.\n"
     ]
    },
    {
     "name": "stdout",
     "output_type": "stream",
     "text": [
      "SemanticF1 error: Both structured output format and JSON mode failed. Please choose a model that supports `response_format` argument. Original error: litellm.AuthenticationError: AuthenticationError: XaiException - {\"error\":{\"code\":401,\"message\":\"No or an invalid authentication header was provided on the request. Please make sure you pass your API key in the corresponding HTTP header.\"}}\n",
      "Directory not found: /home/lotemsakira/PycharmProjects/PragmatiCQA-sources/A Nightmare on Elm Street (2010 film)\n"
     ]
    },
    {
     "name": "stderr",
     "output_type": "stream",
     "text": [
      "2025/09/06 10:24:52 WARNING dspy.adapters.json_adapter: Failed to use structured output format, falling back to JSON mode.\n"
     ]
    },
    {
     "name": "stdout",
     "output_type": "stream",
     "text": [
      "Error generating LLM answer: Both structured output format and JSON mode failed. Please choose a model that supports `response_format` argument. Original error: litellm.AuthenticationError: AuthenticationError: XaiException - {\"error\":{\"code\":401,\"message\":\"No or an invalid authentication header was provided on the request. Please make sure you pass your API key in the corresponding HTTP header.\"}}\n"
     ]
    },
    {
     "name": "stderr",
     "output_type": "stream",
     "text": [
      "2025/09/06 10:25:00 WARNING dspy.adapters.json_adapter: Failed to use structured output format, falling back to JSON mode.\n"
     ]
    },
    {
     "name": "stdout",
     "output_type": "stream",
     "text": [
      "SemanticF1 error: Both structured output format and JSON mode failed. Please choose a model that supports `response_format` argument. Original error: litellm.AuthenticationError: AuthenticationError: XaiException - {\"error\":{\"code\":401,\"message\":\"No or an invalid authentication header was provided on the request. Please make sure you pass your API key in the corresponding HTTP header.\"}}\n",
      "Directory not found: /home/lotemsakira/PycharmProjects/PragmatiCQA-sources/A Nightmare on Elm Street (2010 film)\n"
     ]
    },
    {
     "name": "stderr",
     "output_type": "stream",
     "text": [
      "2025/09/06 10:25:08 WARNING dspy.adapters.json_adapter: Failed to use structured output format, falling back to JSON mode.\n"
     ]
    },
    {
     "name": "stdout",
     "output_type": "stream",
     "text": [
      "Error generating LLM answer: Both structured output format and JSON mode failed. Please choose a model that supports `response_format` argument. Original error: litellm.AuthenticationError: AuthenticationError: XaiException - {\"error\":{\"code\":401,\"message\":\"No or an invalid authentication header was provided on the request. Please make sure you pass your API key in the corresponding HTTP header.\"}}\n"
     ]
    },
    {
     "name": "stderr",
     "output_type": "stream",
     "text": [
      "2025/09/06 10:25:16 WARNING dspy.adapters.json_adapter: Failed to use structured output format, falling back to JSON mode.\n"
     ]
    },
    {
     "name": "stdout",
     "output_type": "stream",
     "text": [
      "SemanticF1 error: Both structured output format and JSON mode failed. Please choose a model that supports `response_format` argument. Original error: litellm.AuthenticationError: AuthenticationError: XaiException - {\"error\":{\"code\":401,\"message\":\"No or an invalid authentication header was provided on the request. Please make sure you pass your API key in the corresponding HTTP header.\"}}\n",
      "Directory not found: /home/lotemsakira/PycharmProjects/PragmatiCQA-sources/A Nightmare on Elm Street (2010 film)\n"
     ]
    },
    {
     "name": "stderr",
     "output_type": "stream",
     "text": [
      "2025/09/06 10:25:24 WARNING dspy.adapters.json_adapter: Failed to use structured output format, falling back to JSON mode.\n"
     ]
    },
    {
     "name": "stdout",
     "output_type": "stream",
     "text": [
      "Error generating LLM answer: Both structured output format and JSON mode failed. Please choose a model that supports `response_format` argument. Original error: litellm.AuthenticationError: AuthenticationError: XaiException - {\"error\":{\"code\":401,\"message\":\"No or an invalid authentication header was provided on the request. Please make sure you pass your API key in the corresponding HTTP header.\"}}\n"
     ]
    },
    {
     "name": "stderr",
     "output_type": "stream",
     "text": [
      "2025/09/06 10:25:32 WARNING dspy.adapters.json_adapter: Failed to use structured output format, falling back to JSON mode.\n"
     ]
    },
    {
     "name": "stdout",
     "output_type": "stream",
     "text": [
      "SemanticF1 error: Both structured output format and JSON mode failed. Please choose a model that supports `response_format` argument. Original error: litellm.AuthenticationError: AuthenticationError: XaiException - {\"error\":{\"code\":401,\"message\":\"No or an invalid authentication header was provided on the request. Please make sure you pass your API key in the corresponding HTTP header.\"}}\n",
      "Directory not found: /home/lotemsakira/PycharmProjects/PragmatiCQA-sources/A Nightmare on Elm Street (2010 film)\n"
     ]
    },
    {
     "name": "stderr",
     "output_type": "stream",
     "text": [
      "2025/09/06 10:25:40 WARNING dspy.adapters.json_adapter: Failed to use structured output format, falling back to JSON mode.\n"
     ]
    },
    {
     "name": "stdout",
     "output_type": "stream",
     "text": [
      "Error generating LLM answer: Both structured output format and JSON mode failed. Please choose a model that supports `response_format` argument. Original error: litellm.AuthenticationError: AuthenticationError: XaiException - {\"error\":{\"code\":401,\"message\":\"No or an invalid authentication header was provided on the request. Please make sure you pass your API key in the corresponding HTTP header.\"}}\n"
     ]
    },
    {
     "name": "stderr",
     "output_type": "stream",
     "text": [
      "2025/09/06 10:25:48 WARNING dspy.adapters.json_adapter: Failed to use structured output format, falling back to JSON mode.\n"
     ]
    },
    {
     "name": "stdout",
     "output_type": "stream",
     "text": [
      "SemanticF1 error: Both structured output format and JSON mode failed. Please choose a model that supports `response_format` argument. Original error: litellm.AuthenticationError: AuthenticationError: XaiException - {\"error\":{\"code\":401,\"message\":\"No or an invalid authentication header was provided on the request. Please make sure you pass your API key in the corresponding HTTP header.\"}}\n",
      "Directory not found: /home/lotemsakira/PycharmProjects/PragmatiCQA-sources/A Nightmare on Elm Street (2010 film)\n"
     ]
    },
    {
     "name": "stderr",
     "output_type": "stream",
     "text": [
      "2025/09/06 10:25:56 WARNING dspy.adapters.json_adapter: Failed to use structured output format, falling back to JSON mode.\n"
     ]
    },
    {
     "name": "stdout",
     "output_type": "stream",
     "text": [
      "Error generating LLM answer: Both structured output format and JSON mode failed. Please choose a model that supports `response_format` argument. Original error: litellm.AuthenticationError: AuthenticationError: XaiException - {\"error\":{\"code\":401,\"message\":\"No or an invalid authentication header was provided on the request. Please make sure you pass your API key in the corresponding HTTP header.\"}}\n"
     ]
    },
    {
     "name": "stderr",
     "output_type": "stream",
     "text": [
      "2025/09/06 10:26:04 WARNING dspy.adapters.json_adapter: Failed to use structured output format, falling back to JSON mode.\n"
     ]
    },
    {
     "name": "stdout",
     "output_type": "stream",
     "text": [
      "SemanticF1 error: Both structured output format and JSON mode failed. Please choose a model that supports `response_format` argument. Original error: litellm.AuthenticationError: AuthenticationError: XaiException - {\"error\":{\"code\":401,\"message\":\"No or an invalid authentication header was provided on the request. Please make sure you pass your API key in the corresponding HTTP header.\"}}\n",
      "Directory not found: /home/lotemsakira/PycharmProjects/PragmatiCQA-sources/A Nightmare on Elm Street (2010 film)\n"
     ]
    },
    {
     "name": "stderr",
     "output_type": "stream",
     "text": [
      "2025/09/06 10:26:12 WARNING dspy.adapters.json_adapter: Failed to use structured output format, falling back to JSON mode.\n"
     ]
    },
    {
     "name": "stdout",
     "output_type": "stream",
     "text": [
      "Error generating LLM answer: Both structured output format and JSON mode failed. Please choose a model that supports `response_format` argument. Original error: litellm.AuthenticationError: AuthenticationError: XaiException - {\"error\":{\"code\":401,\"message\":\"No or an invalid authentication header was provided on the request. Please make sure you pass your API key in the corresponding HTTP header.\"}}\n"
     ]
    },
    {
     "name": "stderr",
     "output_type": "stream",
     "text": [
      "2025/09/06 10:26:20 WARNING dspy.adapters.json_adapter: Failed to use structured output format, falling back to JSON mode.\n"
     ]
    },
    {
     "name": "stdout",
     "output_type": "stream",
     "text": [
      "SemanticF1 error: Both structured output format and JSON mode failed. Please choose a model that supports `response_format` argument. Original error: litellm.AuthenticationError: AuthenticationError: XaiException - {\"error\":{\"code\":401,\"message\":\"No or an invalid authentication header was provided on the request. Please make sure you pass your API key in the corresponding HTTP header.\"}}\n",
      "Directory not found: /home/lotemsakira/PycharmProjects/PragmatiCQA-sources/A Nightmare on Elm Street (2010 film)\n"
     ]
    },
    {
     "name": "stderr",
     "output_type": "stream",
     "text": [
      "2025/09/06 10:26:28 WARNING dspy.adapters.json_adapter: Failed to use structured output format, falling back to JSON mode.\n"
     ]
    },
    {
     "name": "stdout",
     "output_type": "stream",
     "text": [
      "Error generating LLM answer: Both structured output format and JSON mode failed. Please choose a model that supports `response_format` argument. Original error: litellm.AuthenticationError: AuthenticationError: XaiException - {\"error\":{\"code\":401,\"message\":\"No or an invalid authentication header was provided on the request. Please make sure you pass your API key in the corresponding HTTP header.\"}}\n"
     ]
    },
    {
     "name": "stderr",
     "output_type": "stream",
     "text": [
      "2025/09/06 10:26:36 WARNING dspy.adapters.json_adapter: Failed to use structured output format, falling back to JSON mode.\n"
     ]
    },
    {
     "name": "stdout",
     "output_type": "stream",
     "text": [
      "SemanticF1 error: Both structured output format and JSON mode failed. Please choose a model that supports `response_format` argument. Original error: litellm.AuthenticationError: AuthenticationError: XaiException - {\"error\":{\"code\":401,\"message\":\"No or an invalid authentication header was provided on the request. Please make sure you pass your API key in the corresponding HTTP header.\"}}\n"
     ]
    },
    {
     "name": "stderr",
     "output_type": "stream",
     "text": [
      "2025/09/06 10:26:46 WARNING dspy.adapters.json_adapter: Failed to use structured output format, falling back to JSON mode.\n"
     ]
    },
    {
     "name": "stdout",
     "output_type": "stream",
     "text": [
      "Error generating LLM answer: Both structured output format and JSON mode failed. Please choose a model that supports `response_format` argument. Original error: litellm.AuthenticationError: AuthenticationError: XaiException - {\"error\":{\"code\":401,\"message\":\"No or an invalid authentication header was provided on the request. Please make sure you pass your API key in the corresponding HTTP header.\"}}\n"
     ]
    },
    {
     "name": "stderr",
     "output_type": "stream",
     "text": [
      "2025/09/06 10:26:54 WARNING dspy.adapters.json_adapter: Failed to use structured output format, falling back to JSON mode.\n"
     ]
    },
    {
     "name": "stdout",
     "output_type": "stream",
     "text": [
      "SemanticF1 error: Both structured output format and JSON mode failed. Please choose a model that supports `response_format` argument. Original error: litellm.AuthenticationError: AuthenticationError: XaiException - {\"error\":{\"code\":401,\"message\":\"No or an invalid authentication header was provided on the request. Please make sure you pass your API key in the corresponding HTTP header.\"}}\n"
     ]
    },
    {
     "name": "stderr",
     "output_type": "stream",
     "text": [
      "2025/09/06 10:27:05 WARNING dspy.adapters.json_adapter: Failed to use structured output format, falling back to JSON mode.\n"
     ]
    },
    {
     "name": "stdout",
     "output_type": "stream",
     "text": [
      "Error generating LLM answer: Both structured output format and JSON mode failed. Please choose a model that supports `response_format` argument. Original error: litellm.AuthenticationError: AuthenticationError: XaiException - {\"error\":{\"code\":401,\"message\":\"No or an invalid authentication header was provided on the request. Please make sure you pass your API key in the corresponding HTTP header.\"}}\n"
     ]
    },
    {
     "name": "stderr",
     "output_type": "stream",
     "text": [
      "2025/09/06 10:27:13 WARNING dspy.adapters.json_adapter: Failed to use structured output format, falling back to JSON mode.\n"
     ]
    },
    {
     "name": "stdout",
     "output_type": "stream",
     "text": [
      "SemanticF1 error: Both structured output format and JSON mode failed. Please choose a model that supports `response_format` argument. Original error: litellm.AuthenticationError: AuthenticationError: XaiException - {\"error\":{\"code\":401,\"message\":\"No or an invalid authentication header was provided on the request. Please make sure you pass your API key in the corresponding HTTP header.\"}}\n"
     ]
    },
    {
     "name": "stderr",
     "output_type": "stream",
     "text": [
      "2025/09/06 10:27:24 WARNING dspy.adapters.json_adapter: Failed to use structured output format, falling back to JSON mode.\n"
     ]
    },
    {
     "name": "stdout",
     "output_type": "stream",
     "text": [
      "Error generating LLM answer: Both structured output format and JSON mode failed. Please choose a model that supports `response_format` argument. Original error: litellm.AuthenticationError: AuthenticationError: XaiException - {\"error\":{\"code\":401,\"message\":\"No or an invalid authentication header was provided on the request. Please make sure you pass your API key in the corresponding HTTP header.\"}}\n"
     ]
    },
    {
     "name": "stderr",
     "output_type": "stream",
     "text": [
      "2025/09/06 10:27:32 WARNING dspy.adapters.json_adapter: Failed to use structured output format, falling back to JSON mode.\n"
     ]
    },
    {
     "name": "stdout",
     "output_type": "stream",
     "text": [
      "SemanticF1 error: Both structured output format and JSON mode failed. Please choose a model that supports `response_format` argument. Original error: litellm.AuthenticationError: AuthenticationError: XaiException - {\"error\":{\"code\":401,\"message\":\"No or an invalid authentication header was provided on the request. Please make sure you pass your API key in the corresponding HTTP header.\"}}\n"
     ]
    },
    {
     "name": "stderr",
     "output_type": "stream",
     "text": [
      "2025/09/06 10:27:43 WARNING dspy.adapters.json_adapter: Failed to use structured output format, falling back to JSON mode.\n"
     ]
    },
    {
     "name": "stdout",
     "output_type": "stream",
     "text": [
      "Error generating LLM answer: Both structured output format and JSON mode failed. Please choose a model that supports `response_format` argument. Original error: litellm.AuthenticationError: AuthenticationError: XaiException - {\"error\":{\"code\":401,\"message\":\"No or an invalid authentication header was provided on the request. Please make sure you pass your API key in the corresponding HTTP header.\"}}\n"
     ]
    },
    {
     "name": "stderr",
     "output_type": "stream",
     "text": [
      "2025/09/06 10:27:51 WARNING dspy.adapters.json_adapter: Failed to use structured output format, falling back to JSON mode.\n"
     ]
    },
    {
     "name": "stdout",
     "output_type": "stream",
     "text": [
      "SemanticF1 error: Both structured output format and JSON mode failed. Please choose a model that supports `response_format` argument. Original error: litellm.AuthenticationError: AuthenticationError: XaiException - {\"error\":{\"code\":401,\"message\":\"No or an invalid authentication header was provided on the request. Please make sure you pass your API key in the corresponding HTTP header.\"}}\n"
     ]
    },
    {
     "name": "stderr",
     "output_type": "stream",
     "text": [
      "2025/09/06 10:28:02 WARNING dspy.adapters.json_adapter: Failed to use structured output format, falling back to JSON mode.\n"
     ]
    },
    {
     "name": "stdout",
     "output_type": "stream",
     "text": [
      "Error generating LLM answer: Both structured output format and JSON mode failed. Please choose a model that supports `response_format` argument. Original error: litellm.AuthenticationError: AuthenticationError: XaiException - {\"error\":{\"code\":401,\"message\":\"No or an invalid authentication header was provided on the request. Please make sure you pass your API key in the corresponding HTTP header.\"}}\n"
     ]
    },
    {
     "name": "stderr",
     "output_type": "stream",
     "text": [
      "2025/09/06 10:28:10 WARNING dspy.adapters.json_adapter: Failed to use structured output format, falling back to JSON mode.\n"
     ]
    },
    {
     "name": "stdout",
     "output_type": "stream",
     "text": [
      "SemanticF1 error: Both structured output format and JSON mode failed. Please choose a model that supports `response_format` argument. Original error: litellm.AuthenticationError: AuthenticationError: XaiException - {\"error\":{\"code\":401,\"message\":\"No or an invalid authentication header was provided on the request. Please make sure you pass your API key in the corresponding HTTP header.\"}}\n"
     ]
    },
    {
     "name": "stderr",
     "output_type": "stream",
     "text": [
      "2025/09/06 10:28:21 WARNING dspy.adapters.json_adapter: Failed to use structured output format, falling back to JSON mode.\n"
     ]
    },
    {
     "name": "stdout",
     "output_type": "stream",
     "text": [
      "Error generating LLM answer: Both structured output format and JSON mode failed. Please choose a model that supports `response_format` argument. Original error: litellm.AuthenticationError: AuthenticationError: XaiException - {\"error\":{\"code\":401,\"message\":\"No or an invalid authentication header was provided on the request. Please make sure you pass your API key in the corresponding HTTP header.\"}}\n"
     ]
    },
    {
     "name": "stderr",
     "output_type": "stream",
     "text": [
      "2025/09/06 10:28:29 WARNING dspy.adapters.json_adapter: Failed to use structured output format, falling back to JSON mode.\n"
     ]
    },
    {
     "name": "stdout",
     "output_type": "stream",
     "text": [
      "SemanticF1 error: Both structured output format and JSON mode failed. Please choose a model that supports `response_format` argument. Original error: litellm.AuthenticationError: AuthenticationError: XaiException - {\"error\":{\"code\":401,\"message\":\"No or an invalid authentication header was provided on the request. Please make sure you pass your API key in the corresponding HTTP header.\"}}\n"
     ]
    },
    {
     "name": "stderr",
     "output_type": "stream",
     "text": [
      "2025/09/06 10:28:39 WARNING dspy.adapters.json_adapter: Failed to use structured output format, falling back to JSON mode.\n"
     ]
    },
    {
     "name": "stdout",
     "output_type": "stream",
     "text": [
      "Error generating LLM answer: Both structured output format and JSON mode failed. Please choose a model that supports `response_format` argument. Original error: litellm.AuthenticationError: AuthenticationError: XaiException - {\"error\":{\"code\":401,\"message\":\"No or an invalid authentication header was provided on the request. Please make sure you pass your API key in the corresponding HTTP header.\"}}\n"
     ]
    },
    {
     "name": "stderr",
     "output_type": "stream",
     "text": [
      "2025/09/06 10:28:47 WARNING dspy.adapters.json_adapter: Failed to use structured output format, falling back to JSON mode.\n"
     ]
    },
    {
     "name": "stdout",
     "output_type": "stream",
     "text": [
      "SemanticF1 error: Both structured output format and JSON mode failed. Please choose a model that supports `response_format` argument. Original error: litellm.AuthenticationError: AuthenticationError: XaiException - {\"error\":{\"code\":401,\"message\":\"No or an invalid authentication header was provided on the request. Please make sure you pass your API key in the corresponding HTTP header.\"}}\n"
     ]
    },
    {
     "name": "stderr",
     "output_type": "stream",
     "text": [
      "2025/09/06 10:28:58 WARNING dspy.adapters.json_adapter: Failed to use structured output format, falling back to JSON mode.\n"
     ]
    },
    {
     "name": "stdout",
     "output_type": "stream",
     "text": [
      "Error generating LLM answer: Both structured output format and JSON mode failed. Please choose a model that supports `response_format` argument. Original error: litellm.AuthenticationError: AuthenticationError: XaiException - {\"error\":{\"code\":401,\"message\":\"No or an invalid authentication header was provided on the request. Please make sure you pass your API key in the corresponding HTTP header.\"}}\n"
     ]
    },
    {
     "name": "stderr",
     "output_type": "stream",
     "text": [
      "2025/09/06 10:29:06 WARNING dspy.adapters.json_adapter: Failed to use structured output format, falling back to JSON mode.\n"
     ]
    },
    {
     "name": "stdout",
     "output_type": "stream",
     "text": [
      "SemanticF1 error: Both structured output format and JSON mode failed. Please choose a model that supports `response_format` argument. Original error: litellm.AuthenticationError: AuthenticationError: XaiException - {\"error\":{\"code\":401,\"message\":\"No or an invalid authentication header was provided on the request. Please make sure you pass your API key in the corresponding HTTP header.\"}}\n"
     ]
    },
    {
     "name": "stderr",
     "output_type": "stream",
     "text": [
      "2025/09/06 10:29:17 WARNING dspy.adapters.json_adapter: Failed to use structured output format, falling back to JSON mode.\n"
     ]
    },
    {
     "name": "stdout",
     "output_type": "stream",
     "text": [
      "Error generating LLM answer: Both structured output format and JSON mode failed. Please choose a model that supports `response_format` argument. Original error: litellm.AuthenticationError: AuthenticationError: XaiException - {\"error\":{\"code\":401,\"message\":\"No or an invalid authentication header was provided on the request. Please make sure you pass your API key in the corresponding HTTP header.\"}}\n"
     ]
    },
    {
     "name": "stderr",
     "output_type": "stream",
     "text": [
      "2025/09/06 10:29:25 WARNING dspy.adapters.json_adapter: Failed to use structured output format, falling back to JSON mode.\n"
     ]
    },
    {
     "name": "stdout",
     "output_type": "stream",
     "text": [
      "SemanticF1 error: Both structured output format and JSON mode failed. Please choose a model that supports `response_format` argument. Original error: litellm.AuthenticationError: AuthenticationError: XaiException - {\"error\":{\"code\":401,\"message\":\"No or an invalid authentication header was provided on the request. Please make sure you pass your API key in the corresponding HTTP header.\"}}\n"
     ]
    },
    {
     "name": "stderr",
     "output_type": "stream",
     "text": [
      "2025/09/06 10:29:36 WARNING dspy.adapters.json_adapter: Failed to use structured output format, falling back to JSON mode.\n"
     ]
    },
    {
     "name": "stdout",
     "output_type": "stream",
     "text": [
      "Error generating LLM answer: Both structured output format and JSON mode failed. Please choose a model that supports `response_format` argument. Original error: litellm.AuthenticationError: AuthenticationError: XaiException - {\"error\":{\"code\":401,\"message\":\"No or an invalid authentication header was provided on the request. Please make sure you pass your API key in the corresponding HTTP header.\"}}\n"
     ]
    },
    {
     "name": "stderr",
     "output_type": "stream",
     "text": [
      "2025/09/06 10:29:44 WARNING dspy.adapters.json_adapter: Failed to use structured output format, falling back to JSON mode.\n"
     ]
    },
    {
     "name": "stdout",
     "output_type": "stream",
     "text": [
      "SemanticF1 error: Both structured output format and JSON mode failed. Please choose a model that supports `response_format` argument. Original error: litellm.AuthenticationError: AuthenticationError: XaiException - {\"error\":{\"code\":401,\"message\":\"No or an invalid authentication header was provided on the request. Please make sure you pass your API key in the corresponding HTTP header.\"}}\n"
     ]
    },
    {
     "name": "stderr",
     "output_type": "stream",
     "text": [
      "2025/09/06 10:29:55 WARNING dspy.adapters.json_adapter: Failed to use structured output format, falling back to JSON mode.\n"
     ]
    },
    {
     "name": "stdout",
     "output_type": "stream",
     "text": [
      "Error generating LLM answer: Both structured output format and JSON mode failed. Please choose a model that supports `response_format` argument. Original error: litellm.AuthenticationError: AuthenticationError: XaiException - {\"error\":{\"code\":401,\"message\":\"No or an invalid authentication header was provided on the request. Please make sure you pass your API key in the corresponding HTTP header.\"}}\n"
     ]
    },
    {
     "name": "stderr",
     "output_type": "stream",
     "text": [
      "2025/09/06 10:30:03 WARNING dspy.adapters.json_adapter: Failed to use structured output format, falling back to JSON mode.\n"
     ]
    },
    {
     "name": "stdout",
     "output_type": "stream",
     "text": [
      "SemanticF1 error: Both structured output format and JSON mode failed. Please choose a model that supports `response_format` argument. Original error: litellm.AuthenticationError: AuthenticationError: XaiException - {\"error\":{\"code\":401,\"message\":\"No or an invalid authentication header was provided on the request. Please make sure you pass your API key in the corresponding HTTP header.\"}}\n"
     ]
    },
    {
     "name": "stderr",
     "output_type": "stream",
     "text": [
      "2025/09/06 10:30:14 WARNING dspy.adapters.json_adapter: Failed to use structured output format, falling back to JSON mode.\n"
     ]
    },
    {
     "name": "stdout",
     "output_type": "stream",
     "text": [
      "Error generating LLM answer: Both structured output format and JSON mode failed. Please choose a model that supports `response_format` argument. Original error: litellm.AuthenticationError: AuthenticationError: XaiException - {\"error\":{\"code\":401,\"message\":\"No or an invalid authentication header was provided on the request. Please make sure you pass your API key in the corresponding HTTP header.\"}}\n"
     ]
    },
    {
     "name": "stderr",
     "output_type": "stream",
     "text": [
      "2025/09/06 10:30:22 WARNING dspy.adapters.json_adapter: Failed to use structured output format, falling back to JSON mode.\n"
     ]
    },
    {
     "name": "stdout",
     "output_type": "stream",
     "text": [
      "SemanticF1 error: Both structured output format and JSON mode failed. Please choose a model that supports `response_format` argument. Original error: litellm.AuthenticationError: AuthenticationError: XaiException - {\"error\":{\"code\":401,\"message\":\"No or an invalid authentication header was provided on the request. Please make sure you pass your API key in the corresponding HTTP header.\"}}\n"
     ]
    },
    {
     "name": "stderr",
     "output_type": "stream",
     "text": [
      "2025/09/06 10:30:33 WARNING dspy.adapters.json_adapter: Failed to use structured output format, falling back to JSON mode.\n"
     ]
    },
    {
     "name": "stdout",
     "output_type": "stream",
     "text": [
      "Error generating LLM answer: Both structured output format and JSON mode failed. Please choose a model that supports `response_format` argument. Original error: litellm.AuthenticationError: AuthenticationError: XaiException - {\"error\":{\"code\":401,\"message\":\"No or an invalid authentication header was provided on the request. Please make sure you pass your API key in the corresponding HTTP header.\"}}\n"
     ]
    },
    {
     "name": "stderr",
     "output_type": "stream",
     "text": [
      "2025/09/06 10:30:41 WARNING dspy.adapters.json_adapter: Failed to use structured output format, falling back to JSON mode.\n"
     ]
    },
    {
     "name": "stdout",
     "output_type": "stream",
     "text": [
      "SemanticF1 error: Both structured output format and JSON mode failed. Please choose a model that supports `response_format` argument. Original error: litellm.AuthenticationError: AuthenticationError: XaiException - {\"error\":{\"code\":401,\"message\":\"No or an invalid authentication header was provided on the request. Please make sure you pass your API key in the corresponding HTTP header.\"}}\n"
     ]
    },
    {
     "name": "stderr",
     "output_type": "stream",
     "text": [
      "2025/09/06 10:30:52 WARNING dspy.adapters.json_adapter: Failed to use structured output format, falling back to JSON mode.\n"
     ]
    },
    {
     "name": "stdout",
     "output_type": "stream",
     "text": [
      "Error generating LLM answer: Both structured output format and JSON mode failed. Please choose a model that supports `response_format` argument. Original error: litellm.AuthenticationError: AuthenticationError: XaiException - {\"error\":{\"code\":401,\"message\":\"No or an invalid authentication header was provided on the request. Please make sure you pass your API key in the corresponding HTTP header.\"}}\n"
     ]
    },
    {
     "name": "stderr",
     "output_type": "stream",
     "text": [
      "2025/09/06 10:31:00 WARNING dspy.adapters.json_adapter: Failed to use structured output format, falling back to JSON mode.\n"
     ]
    },
    {
     "name": "stdout",
     "output_type": "stream",
     "text": [
      "SemanticF1 error: Both structured output format and JSON mode failed. Please choose a model that supports `response_format` argument. Original error: litellm.AuthenticationError: AuthenticationError: XaiException - {\"error\":{\"code\":401,\"message\":\"No or an invalid authentication header was provided on the request. Please make sure you pass your API key in the corresponding HTTP header.\"}}\n"
     ]
    },
    {
     "name": "stderr",
     "output_type": "stream",
     "text": [
      "2025/09/06 10:31:11 WARNING dspy.adapters.json_adapter: Failed to use structured output format, falling back to JSON mode.\n"
     ]
    },
    {
     "name": "stdout",
     "output_type": "stream",
     "text": [
      "Error generating LLM answer: Both structured output format and JSON mode failed. Please choose a model that supports `response_format` argument. Original error: litellm.AuthenticationError: AuthenticationError: XaiException - {\"error\":{\"code\":401,\"message\":\"No or an invalid authentication header was provided on the request. Please make sure you pass your API key in the corresponding HTTP header.\"}}\n"
     ]
    },
    {
     "name": "stderr",
     "output_type": "stream",
     "text": [
      "2025/09/06 10:31:19 WARNING dspy.adapters.json_adapter: Failed to use structured output format, falling back to JSON mode.\n"
     ]
    },
    {
     "name": "stdout",
     "output_type": "stream",
     "text": [
      "SemanticF1 error: Both structured output format and JSON mode failed. Please choose a model that supports `response_format` argument. Original error: litellm.AuthenticationError: AuthenticationError: XaiException - {\"error\":{\"code\":401,\"message\":\"No or an invalid authentication header was provided on the request. Please make sure you pass your API key in the corresponding HTTP header.\"}}\n"
     ]
    },
    {
     "name": "stderr",
     "output_type": "stream",
     "text": [
      "2025/09/06 10:31:30 WARNING dspy.adapters.json_adapter: Failed to use structured output format, falling back to JSON mode.\n"
     ]
    },
    {
     "name": "stdout",
     "output_type": "stream",
     "text": [
      "Error generating LLM answer: Both structured output format and JSON mode failed. Please choose a model that supports `response_format` argument. Original error: litellm.AuthenticationError: AuthenticationError: XaiException - {\"error\":{\"code\":401,\"message\":\"No or an invalid authentication header was provided on the request. Please make sure you pass your API key in the corresponding HTTP header.\"}}\n"
     ]
    },
    {
     "name": "stderr",
     "output_type": "stream",
     "text": [
      "2025/09/06 10:31:38 WARNING dspy.adapters.json_adapter: Failed to use structured output format, falling back to JSON mode.\n"
     ]
    },
    {
     "name": "stdout",
     "output_type": "stream",
     "text": [
      "SemanticF1 error: Both structured output format and JSON mode failed. Please choose a model that supports `response_format` argument. Original error: litellm.AuthenticationError: AuthenticationError: XaiException - {\"error\":{\"code\":401,\"message\":\"No or an invalid authentication header was provided on the request. Please make sure you pass your API key in the corresponding HTTP header.\"}}\n"
     ]
    },
    {
     "name": "stderr",
     "output_type": "stream",
     "text": [
      "2025/09/06 10:31:49 WARNING dspy.adapters.json_adapter: Failed to use structured output format, falling back to JSON mode.\n"
     ]
    },
    {
     "name": "stdout",
     "output_type": "stream",
     "text": [
      "Error generating LLM answer: Both structured output format and JSON mode failed. Please choose a model that supports `response_format` argument. Original error: litellm.AuthenticationError: AuthenticationError: XaiException - {\"error\":{\"code\":401,\"message\":\"No or an invalid authentication header was provided on the request. Please make sure you pass your API key in the corresponding HTTP header.\"}}\n"
     ]
    },
    {
     "name": "stderr",
     "output_type": "stream",
     "text": [
      "2025/09/06 10:31:57 WARNING dspy.adapters.json_adapter: Failed to use structured output format, falling back to JSON mode.\n"
     ]
    },
    {
     "name": "stdout",
     "output_type": "stream",
     "text": [
      "SemanticF1 error: Both structured output format and JSON mode failed. Please choose a model that supports `response_format` argument. Original error: litellm.AuthenticationError: AuthenticationError: XaiException - {\"error\":{\"code\":401,\"message\":\"No or an invalid authentication header was provided on the request. Please make sure you pass your API key in the corresponding HTTP header.\"}}\n"
     ]
    },
    {
     "name": "stderr",
     "output_type": "stream",
     "text": [
      "2025/09/06 10:32:08 WARNING dspy.adapters.json_adapter: Failed to use structured output format, falling back to JSON mode.\n"
     ]
    },
    {
     "name": "stdout",
     "output_type": "stream",
     "text": [
      "Error generating LLM answer: Both structured output format and JSON mode failed. Please choose a model that supports `response_format` argument. Original error: litellm.AuthenticationError: AuthenticationError: XaiException - {\"error\":{\"code\":401,\"message\":\"No or an invalid authentication header was provided on the request. Please make sure you pass your API key in the corresponding HTTP header.\"}}\n"
     ]
    },
    {
     "name": "stderr",
     "output_type": "stream",
     "text": [
      "2025/09/06 10:32:16 WARNING dspy.adapters.json_adapter: Failed to use structured output format, falling back to JSON mode.\n"
     ]
    },
    {
     "name": "stdout",
     "output_type": "stream",
     "text": [
      "SemanticF1 error: Both structured output format and JSON mode failed. Please choose a model that supports `response_format` argument. Original error: litellm.AuthenticationError: AuthenticationError: XaiException - {\"error\":{\"code\":401,\"message\":\"No or an invalid authentication header was provided on the request. Please make sure you pass your API key in the corresponding HTTP header.\"}}\n"
     ]
    },
    {
     "name": "stderr",
     "output_type": "stream",
     "text": [
      "2025/09/06 10:32:28 WARNING dspy.adapters.json_adapter: Failed to use structured output format, falling back to JSON mode.\n"
     ]
    },
    {
     "name": "stdout",
     "output_type": "stream",
     "text": [
      "Error generating LLM answer: Both structured output format and JSON mode failed. Please choose a model that supports `response_format` argument. Original error: litellm.AuthenticationError: AuthenticationError: XaiException - {\"error\":{\"code\":401,\"message\":\"No or an invalid authentication header was provided on the request. Please make sure you pass your API key in the corresponding HTTP header.\"}}\n"
     ]
    },
    {
     "name": "stderr",
     "output_type": "stream",
     "text": [
      "2025/09/06 10:32:36 WARNING dspy.adapters.json_adapter: Failed to use structured output format, falling back to JSON mode.\n"
     ]
    },
    {
     "name": "stdout",
     "output_type": "stream",
     "text": [
      "SemanticF1 error: Both structured output format and JSON mode failed. Please choose a model that supports `response_format` argument. Original error: litellm.AuthenticationError: AuthenticationError: XaiException - {\"error\":{\"code\":401,\"message\":\"No or an invalid authentication header was provided on the request. Please make sure you pass your API key in the corresponding HTTP header.\"}}\n"
     ]
    },
    {
     "name": "stderr",
     "output_type": "stream",
     "text": [
      "2025/09/06 10:32:47 WARNING dspy.adapters.json_adapter: Failed to use structured output format, falling back to JSON mode.\n"
     ]
    },
    {
     "name": "stdout",
     "output_type": "stream",
     "text": [
      "Error generating LLM answer: Both structured output format and JSON mode failed. Please choose a model that supports `response_format` argument. Original error: litellm.AuthenticationError: AuthenticationError: XaiException - {\"error\":{\"code\":401,\"message\":\"No or an invalid authentication header was provided on the request. Please make sure you pass your API key in the corresponding HTTP header.\"}}\n"
     ]
    },
    {
     "name": "stderr",
     "output_type": "stream",
     "text": [
      "2025/09/06 10:32:55 WARNING dspy.adapters.json_adapter: Failed to use structured output format, falling back to JSON mode.\n"
     ]
    },
    {
     "name": "stdout",
     "output_type": "stream",
     "text": [
      "SemanticF1 error: Both structured output format and JSON mode failed. Please choose a model that supports `response_format` argument. Original error: litellm.AuthenticationError: AuthenticationError: XaiException - {\"error\":{\"code\":401,\"message\":\"No or an invalid authentication header was provided on the request. Please make sure you pass your API key in the corresponding HTTP header.\"}}\n"
     ]
    },
    {
     "name": "stderr",
     "output_type": "stream",
     "text": [
      "2025/09/06 10:33:06 WARNING dspy.adapters.json_adapter: Failed to use structured output format, falling back to JSON mode.\n"
     ]
    },
    {
     "name": "stdout",
     "output_type": "stream",
     "text": [
      "Error generating LLM answer: Both structured output format and JSON mode failed. Please choose a model that supports `response_format` argument. Original error: litellm.AuthenticationError: AuthenticationError: XaiException - {\"error\":{\"code\":401,\"message\":\"No or an invalid authentication header was provided on the request. Please make sure you pass your API key in the corresponding HTTP header.\"}}\n"
     ]
    },
    {
     "name": "stderr",
     "output_type": "stream",
     "text": [
      "2025/09/06 10:33:14 WARNING dspy.adapters.json_adapter: Failed to use structured output format, falling back to JSON mode.\n"
     ]
    },
    {
     "name": "stdout",
     "output_type": "stream",
     "text": [
      "SemanticF1 error: Both structured output format and JSON mode failed. Please choose a model that supports `response_format` argument. Original error: litellm.AuthenticationError: AuthenticationError: XaiException - {\"error\":{\"code\":401,\"message\":\"No or an invalid authentication header was provided on the request. Please make sure you pass your API key in the corresponding HTTP header.\"}}\n"
     ]
    },
    {
     "name": "stderr",
     "output_type": "stream",
     "text": [
      "2025/09/06 10:33:25 WARNING dspy.adapters.json_adapter: Failed to use structured output format, falling back to JSON mode.\n"
     ]
    },
    {
     "name": "stdout",
     "output_type": "stream",
     "text": [
      "Error generating LLM answer: Both structured output format and JSON mode failed. Please choose a model that supports `response_format` argument. Original error: litellm.AuthenticationError: AuthenticationError: XaiException - {\"error\":{\"code\":401,\"message\":\"No or an invalid authentication header was provided on the request. Please make sure you pass your API key in the corresponding HTTP header.\"}}\n"
     ]
    },
    {
     "name": "stderr",
     "output_type": "stream",
     "text": [
      "2025/09/06 10:33:33 WARNING dspy.adapters.json_adapter: Failed to use structured output format, falling back to JSON mode.\n"
     ]
    },
    {
     "name": "stdout",
     "output_type": "stream",
     "text": [
      "SemanticF1 error: Both structured output format and JSON mode failed. Please choose a model that supports `response_format` argument. Original error: litellm.AuthenticationError: AuthenticationError: XaiException - {\"error\":{\"code\":401,\"message\":\"No or an invalid authentication header was provided on the request. Please make sure you pass your API key in the corresponding HTTP header.\"}}\n"
     ]
    },
    {
     "name": "stderr",
     "output_type": "stream",
     "text": [
      "2025/09/06 10:33:44 WARNING dspy.adapters.json_adapter: Failed to use structured output format, falling back to JSON mode.\n"
     ]
    },
    {
     "name": "stdout",
     "output_type": "stream",
     "text": [
      "Error generating LLM answer: Both structured output format and JSON mode failed. Please choose a model that supports `response_format` argument. Original error: litellm.AuthenticationError: AuthenticationError: XaiException - {\"error\":{\"code\":401,\"message\":\"No or an invalid authentication header was provided on the request. Please make sure you pass your API key in the corresponding HTTP header.\"}}\n"
     ]
    },
    {
     "name": "stderr",
     "output_type": "stream",
     "text": [
      "2025/09/06 10:33:52 WARNING dspy.adapters.json_adapter: Failed to use structured output format, falling back to JSON mode.\n"
     ]
    },
    {
     "name": "stdout",
     "output_type": "stream",
     "text": [
      "SemanticF1 error: Both structured output format and JSON mode failed. Please choose a model that supports `response_format` argument. Original error: litellm.AuthenticationError: AuthenticationError: XaiException - {\"error\":{\"code\":401,\"message\":\"No or an invalid authentication header was provided on the request. Please make sure you pass your API key in the corresponding HTTP header.\"}}\n"
     ]
    },
    {
     "name": "stderr",
     "output_type": "stream",
     "text": [
      "2025/09/06 10:34:03 WARNING dspy.adapters.json_adapter: Failed to use structured output format, falling back to JSON mode.\n"
     ]
    },
    {
     "name": "stdout",
     "output_type": "stream",
     "text": [
      "Error generating LLM answer: Both structured output format and JSON mode failed. Please choose a model that supports `response_format` argument. Original error: litellm.AuthenticationError: AuthenticationError: XaiException - {\"error\":{\"code\":401,\"message\":\"No or an invalid authentication header was provided on the request. Please make sure you pass your API key in the corresponding HTTP header.\"}}\n"
     ]
    },
    {
     "name": "stderr",
     "output_type": "stream",
     "text": [
      "2025/09/06 10:34:10 WARNING dspy.adapters.json_adapter: Failed to use structured output format, falling back to JSON mode.\n"
     ]
    },
    {
     "name": "stdout",
     "output_type": "stream",
     "text": [
      "SemanticF1 error: Both structured output format and JSON mode failed. Please choose a model that supports `response_format` argument. Original error: litellm.AuthenticationError: AuthenticationError: XaiException - {\"error\":{\"code\":401,\"message\":\"No or an invalid authentication header was provided on the request. Please make sure you pass your API key in the corresponding HTTP header.\"}}\n"
     ]
    },
    {
     "name": "stderr",
     "output_type": "stream",
     "text": [
      "2025/09/06 10:34:21 WARNING dspy.adapters.json_adapter: Failed to use structured output format, falling back to JSON mode.\n"
     ]
    },
    {
     "name": "stdout",
     "output_type": "stream",
     "text": [
      "Error generating LLM answer: Both structured output format and JSON mode failed. Please choose a model that supports `response_format` argument. Original error: litellm.AuthenticationError: AuthenticationError: XaiException - {\"error\":{\"code\":401,\"message\":\"No or an invalid authentication header was provided on the request. Please make sure you pass your API key in the corresponding HTTP header.\"}}\n"
     ]
    },
    {
     "name": "stderr",
     "output_type": "stream",
     "text": [
      "2025/09/06 10:34:29 WARNING dspy.adapters.json_adapter: Failed to use structured output format, falling back to JSON mode.\n"
     ]
    },
    {
     "name": "stdout",
     "output_type": "stream",
     "text": [
      "SemanticF1 error: Both structured output format and JSON mode failed. Please choose a model that supports `response_format` argument. Original error: litellm.AuthenticationError: AuthenticationError: XaiException - {\"error\":{\"code\":401,\"message\":\"No or an invalid authentication header was provided on the request. Please make sure you pass your API key in the corresponding HTTP header.\"}}\n"
     ]
    },
    {
     "name": "stderr",
     "output_type": "stream",
     "text": [
      "2025/09/06 10:34:41 WARNING dspy.adapters.json_adapter: Failed to use structured output format, falling back to JSON mode.\n"
     ]
    },
    {
     "name": "stdout",
     "output_type": "stream",
     "text": [
      "Error generating LLM answer: Both structured output format and JSON mode failed. Please choose a model that supports `response_format` argument. Original error: litellm.AuthenticationError: AuthenticationError: XaiException - {\"error\":{\"code\":401,\"message\":\"No or an invalid authentication header was provided on the request. Please make sure you pass your API key in the corresponding HTTP header.\"}}\n"
     ]
    },
    {
     "name": "stderr",
     "output_type": "stream",
     "text": [
      "2025/09/06 10:34:49 WARNING dspy.adapters.json_adapter: Failed to use structured output format, falling back to JSON mode.\n"
     ]
    },
    {
     "name": "stdout",
     "output_type": "stream",
     "text": [
      "SemanticF1 error: Both structured output format and JSON mode failed. Please choose a model that supports `response_format` argument. Original error: litellm.AuthenticationError: AuthenticationError: XaiException - {\"error\":{\"code\":401,\"message\":\"No or an invalid authentication header was provided on the request. Please make sure you pass your API key in the corresponding HTTP header.\"}}\n"
     ]
    },
    {
     "name": "stderr",
     "output_type": "stream",
     "text": [
      "2025/09/06 10:35:00 WARNING dspy.adapters.json_adapter: Failed to use structured output format, falling back to JSON mode.\n"
     ]
    },
    {
     "name": "stdout",
     "output_type": "stream",
     "text": [
      "Error generating LLM answer: Both structured output format and JSON mode failed. Please choose a model that supports `response_format` argument. Original error: litellm.AuthenticationError: AuthenticationError: XaiException - {\"error\":{\"code\":401,\"message\":\"No or an invalid authentication header was provided on the request. Please make sure you pass your API key in the corresponding HTTP header.\"}}\n"
     ]
    },
    {
     "name": "stderr",
     "output_type": "stream",
     "text": [
      "2025/09/06 10:35:08 WARNING dspy.adapters.json_adapter: Failed to use structured output format, falling back to JSON mode.\n"
     ]
    },
    {
     "name": "stdout",
     "output_type": "stream",
     "text": [
      "SemanticF1 error: Both structured output format and JSON mode failed. Please choose a model that supports `response_format` argument. Original error: litellm.AuthenticationError: AuthenticationError: XaiException - {\"error\":{\"code\":401,\"message\":\"No or an invalid authentication header was provided on the request. Please make sure you pass your API key in the corresponding HTTP header.\"}}\n"
     ]
    },
    {
     "name": "stderr",
     "output_type": "stream",
     "text": [
      "2025/09/06 10:35:19 WARNING dspy.adapters.json_adapter: Failed to use structured output format, falling back to JSON mode.\n"
     ]
    },
    {
     "name": "stdout",
     "output_type": "stream",
     "text": [
      "Error generating LLM answer: Both structured output format and JSON mode failed. Please choose a model that supports `response_format` argument. Original error: litellm.AuthenticationError: AuthenticationError: XaiException - {\"error\":{\"code\":401,\"message\":\"No or an invalid authentication header was provided on the request. Please make sure you pass your API key in the corresponding HTTP header.\"}}\n"
     ]
    },
    {
     "name": "stderr",
     "output_type": "stream",
     "text": [
      "2025/09/06 10:35:27 WARNING dspy.adapters.json_adapter: Failed to use structured output format, falling back to JSON mode.\n"
     ]
    },
    {
     "name": "stdout",
     "output_type": "stream",
     "text": [
      "SemanticF1 error: Both structured output format and JSON mode failed. Please choose a model that supports `response_format` argument. Original error: litellm.AuthenticationError: AuthenticationError: XaiException - {\"error\":{\"code\":401,\"message\":\"No or an invalid authentication header was provided on the request. Please make sure you pass your API key in the corresponding HTTP header.\"}}\n"
     ]
    },
    {
     "name": "stderr",
     "output_type": "stream",
     "text": [
      "2025/09/06 10:35:38 WARNING dspy.adapters.json_adapter: Failed to use structured output format, falling back to JSON mode.\n"
     ]
    },
    {
     "name": "stdout",
     "output_type": "stream",
     "text": [
      "Error generating LLM answer: Both structured output format and JSON mode failed. Please choose a model that supports `response_format` argument. Original error: litellm.AuthenticationError: AuthenticationError: XaiException - {\"error\":{\"code\":401,\"message\":\"No or an invalid authentication header was provided on the request. Please make sure you pass your API key in the corresponding HTTP header.\"}}\n"
     ]
    },
    {
     "name": "stderr",
     "output_type": "stream",
     "text": [
      "2025/09/06 10:35:46 WARNING dspy.adapters.json_adapter: Failed to use structured output format, falling back to JSON mode.\n"
     ]
    },
    {
     "name": "stdout",
     "output_type": "stream",
     "text": [
      "SemanticF1 error: Both structured output format and JSON mode failed. Please choose a model that supports `response_format` argument. Original error: litellm.AuthenticationError: AuthenticationError: XaiException - {\"error\":{\"code\":401,\"message\":\"No or an invalid authentication header was provided on the request. Please make sure you pass your API key in the corresponding HTTP header.\"}}\n"
     ]
    },
    {
     "name": "stderr",
     "output_type": "stream",
     "text": [
      "2025/09/06 10:35:57 WARNING dspy.adapters.json_adapter: Failed to use structured output format, falling back to JSON mode.\n"
     ]
    },
    {
     "name": "stdout",
     "output_type": "stream",
     "text": [
      "Error generating LLM answer: Both structured output format and JSON mode failed. Please choose a model that supports `response_format` argument. Original error: litellm.AuthenticationError: AuthenticationError: XaiException - {\"error\":{\"code\":401,\"message\":\"No or an invalid authentication header was provided on the request. Please make sure you pass your API key in the corresponding HTTP header.\"}}\n"
     ]
    },
    {
     "name": "stderr",
     "output_type": "stream",
     "text": [
      "2025/09/06 10:36:05 WARNING dspy.adapters.json_adapter: Failed to use structured output format, falling back to JSON mode.\n"
     ]
    },
    {
     "name": "stdout",
     "output_type": "stream",
     "text": [
      "SemanticF1 error: Both structured output format and JSON mode failed. Please choose a model that supports `response_format` argument. Original error: litellm.AuthenticationError: AuthenticationError: XaiException - {\"error\":{\"code\":401,\"message\":\"No or an invalid authentication header was provided on the request. Please make sure you pass your API key in the corresponding HTTP header.\"}}\n"
     ]
    },
    {
     "name": "stderr",
     "output_type": "stream",
     "text": [
      "2025/09/06 10:36:16 WARNING dspy.adapters.json_adapter: Failed to use structured output format, falling back to JSON mode.\n"
     ]
    },
    {
     "name": "stdout",
     "output_type": "stream",
     "text": [
      "Error generating LLM answer: Both structured output format and JSON mode failed. Please choose a model that supports `response_format` argument. Original error: litellm.AuthenticationError: AuthenticationError: XaiException - {\"error\":{\"code\":401,\"message\":\"No or an invalid authentication header was provided on the request. Please make sure you pass your API key in the corresponding HTTP header.\"}}\n"
     ]
    },
    {
     "name": "stderr",
     "output_type": "stream",
     "text": [
      "2025/09/06 10:36:24 WARNING dspy.adapters.json_adapter: Failed to use structured output format, falling back to JSON mode.\n"
     ]
    },
    {
     "name": "stdout",
     "output_type": "stream",
     "text": [
      "SemanticF1 error: Both structured output format and JSON mode failed. Please choose a model that supports `response_format` argument. Original error: litellm.AuthenticationError: AuthenticationError: XaiException - {\"error\":{\"code\":401,\"message\":\"No or an invalid authentication header was provided on the request. Please make sure you pass your API key in the corresponding HTTP header.\"}}\n"
     ]
    },
    {
     "name": "stderr",
     "output_type": "stream",
     "text": [
      "2025/09/06 10:36:35 WARNING dspy.adapters.json_adapter: Failed to use structured output format, falling back to JSON mode.\n"
     ]
    },
    {
     "name": "stdout",
     "output_type": "stream",
     "text": [
      "Error generating LLM answer: Both structured output format and JSON mode failed. Please choose a model that supports `response_format` argument. Original error: litellm.AuthenticationError: AuthenticationError: XaiException - {\"error\":{\"code\":401,\"message\":\"No or an invalid authentication header was provided on the request. Please make sure you pass your API key in the corresponding HTTP header.\"}}\n"
     ]
    },
    {
     "name": "stderr",
     "output_type": "stream",
     "text": [
      "2025/09/06 10:36:43 WARNING dspy.adapters.json_adapter: Failed to use structured output format, falling back to JSON mode.\n"
     ]
    },
    {
     "name": "stdout",
     "output_type": "stream",
     "text": [
      "SemanticF1 error: Both structured output format and JSON mode failed. Please choose a model that supports `response_format` argument. Original error: litellm.AuthenticationError: AuthenticationError: XaiException - {\"error\":{\"code\":401,\"message\":\"No or an invalid authentication header was provided on the request. Please make sure you pass your API key in the corresponding HTTP header.\"}}\n"
     ]
    },
    {
     "name": "stderr",
     "output_type": "stream",
     "text": [
      "2025/09/06 10:36:54 WARNING dspy.adapters.json_adapter: Failed to use structured output format, falling back to JSON mode.\n"
     ]
    },
    {
     "name": "stdout",
     "output_type": "stream",
     "text": [
      "Error generating LLM answer: Both structured output format and JSON mode failed. Please choose a model that supports `response_format` argument. Original error: litellm.AuthenticationError: AuthenticationError: XaiException - {\"error\":{\"code\":401,\"message\":\"No or an invalid authentication header was provided on the request. Please make sure you pass your API key in the corresponding HTTP header.\"}}\n"
     ]
    },
    {
     "name": "stderr",
     "output_type": "stream",
     "text": [
      "2025/09/06 10:37:02 WARNING dspy.adapters.json_adapter: Failed to use structured output format, falling back to JSON mode.\n"
     ]
    },
    {
     "name": "stdout",
     "output_type": "stream",
     "text": [
      "SemanticF1 error: Both structured output format and JSON mode failed. Please choose a model that supports `response_format` argument. Original error: litellm.AuthenticationError: AuthenticationError: XaiException - {\"error\":{\"code\":401,\"message\":\"No or an invalid authentication header was provided on the request. Please make sure you pass your API key in the corresponding HTTP header.\"}}\n"
     ]
    },
    {
     "name": "stderr",
     "output_type": "stream",
     "text": [
      "2025/09/06 10:37:13 WARNING dspy.adapters.json_adapter: Failed to use structured output format, falling back to JSON mode.\n"
     ]
    },
    {
     "name": "stdout",
     "output_type": "stream",
     "text": [
      "Error generating LLM answer: Both structured output format and JSON mode failed. Please choose a model that supports `response_format` argument. Original error: litellm.AuthenticationError: AuthenticationError: XaiException - {\"error\":{\"code\":401,\"message\":\"No or an invalid authentication header was provided on the request. Please make sure you pass your API key in the corresponding HTTP header.\"}}\n"
     ]
    },
    {
     "name": "stderr",
     "output_type": "stream",
     "text": [
      "2025/09/06 10:37:21 WARNING dspy.adapters.json_adapter: Failed to use structured output format, falling back to JSON mode.\n"
     ]
    },
    {
     "name": "stdout",
     "output_type": "stream",
     "text": [
      "SemanticF1 error: Both structured output format and JSON mode failed. Please choose a model that supports `response_format` argument. Original error: litellm.AuthenticationError: AuthenticationError: XaiException - {\"error\":{\"code\":401,\"message\":\"No or an invalid authentication header was provided on the request. Please make sure you pass your API key in the corresponding HTTP header.\"}}\n"
     ]
    },
    {
     "name": "stderr",
     "output_type": "stream",
     "text": [
      "2025/09/06 10:37:33 WARNING dspy.adapters.json_adapter: Failed to use structured output format, falling back to JSON mode.\n"
     ]
    },
    {
     "name": "stdout",
     "output_type": "stream",
     "text": [
      "Error generating LLM answer: Both structured output format and JSON mode failed. Please choose a model that supports `response_format` argument. Original error: litellm.AuthenticationError: AuthenticationError: XaiException - {\"error\":{\"code\":401,\"message\":\"No or an invalid authentication header was provided on the request. Please make sure you pass your API key in the corresponding HTTP header.\"}}\n"
     ]
    },
    {
     "name": "stderr",
     "output_type": "stream",
     "text": [
      "2025/09/06 10:37:41 WARNING dspy.adapters.json_adapter: Failed to use structured output format, falling back to JSON mode.\n"
     ]
    },
    {
     "name": "stdout",
     "output_type": "stream",
     "text": [
      "SemanticF1 error: Both structured output format and JSON mode failed. Please choose a model that supports `response_format` argument. Original error: litellm.AuthenticationError: AuthenticationError: XaiException - {\"error\":{\"code\":401,\"message\":\"No or an invalid authentication header was provided on the request. Please make sure you pass your API key in the corresponding HTTP header.\"}}\n"
     ]
    },
    {
     "name": "stderr",
     "output_type": "stream",
     "text": [
      "2025/09/06 10:37:52 WARNING dspy.adapters.json_adapter: Failed to use structured output format, falling back to JSON mode.\n"
     ]
    },
    {
     "name": "stdout",
     "output_type": "stream",
     "text": [
      "Error generating LLM answer: Both structured output format and JSON mode failed. Please choose a model that supports `response_format` argument. Original error: litellm.AuthenticationError: AuthenticationError: XaiException - {\"error\":{\"code\":401,\"message\":\"No or an invalid authentication header was provided on the request. Please make sure you pass your API key in the corresponding HTTP header.\"}}\n"
     ]
    },
    {
     "name": "stderr",
     "output_type": "stream",
     "text": [
      "2025/09/06 10:38:00 WARNING dspy.adapters.json_adapter: Failed to use structured output format, falling back to JSON mode.\n"
     ]
    },
    {
     "name": "stdout",
     "output_type": "stream",
     "text": [
      "SemanticF1 error: Both structured output format and JSON mode failed. Please choose a model that supports `response_format` argument. Original error: litellm.AuthenticationError: AuthenticationError: XaiException - {\"error\":{\"code\":401,\"message\":\"No or an invalid authentication header was provided on the request. Please make sure you pass your API key in the corresponding HTTP header.\"}}\n"
     ]
    },
    {
     "name": "stderr",
     "output_type": "stream",
     "text": [
      "2025/09/06 10:38:10 WARNING dspy.adapters.json_adapter: Failed to use structured output format, falling back to JSON mode.\n"
     ]
    },
    {
     "name": "stdout",
     "output_type": "stream",
     "text": [
      "Error generating LLM answer: Both structured output format and JSON mode failed. Please choose a model that supports `response_format` argument. Original error: litellm.AuthenticationError: AuthenticationError: XaiException - {\"error\":{\"code\":401,\"message\":\"No or an invalid authentication header was provided on the request. Please make sure you pass your API key in the corresponding HTTP header.\"}}\n"
     ]
    },
    {
     "name": "stderr",
     "output_type": "stream",
     "text": [
      "2025/09/06 10:38:18 WARNING dspy.adapters.json_adapter: Failed to use structured output format, falling back to JSON mode.\n"
     ]
    },
    {
     "name": "stdout",
     "output_type": "stream",
     "text": [
      "SemanticF1 error: Both structured output format and JSON mode failed. Please choose a model that supports `response_format` argument. Original error: litellm.AuthenticationError: AuthenticationError: XaiException - {\"error\":{\"code\":401,\"message\":\"No or an invalid authentication header was provided on the request. Please make sure you pass your API key in the corresponding HTTP header.\"}}\n"
     ]
    },
    {
     "name": "stderr",
     "output_type": "stream",
     "text": [
      "2025/09/06 10:38:29 WARNING dspy.adapters.json_adapter: Failed to use structured output format, falling back to JSON mode.\n"
     ]
    },
    {
     "name": "stdout",
     "output_type": "stream",
     "text": [
      "Error generating LLM answer: Both structured output format and JSON mode failed. Please choose a model that supports `response_format` argument. Original error: litellm.AuthenticationError: AuthenticationError: XaiException - {\"error\":{\"code\":401,\"message\":\"No or an invalid authentication header was provided on the request. Please make sure you pass your API key in the corresponding HTTP header.\"}}\n"
     ]
    },
    {
     "name": "stderr",
     "output_type": "stream",
     "text": [
      "2025/09/06 10:38:37 WARNING dspy.adapters.json_adapter: Failed to use structured output format, falling back to JSON mode.\n"
     ]
    },
    {
     "name": "stdout",
     "output_type": "stream",
     "text": [
      "SemanticF1 error: Both structured output format and JSON mode failed. Please choose a model that supports `response_format` argument. Original error: litellm.AuthenticationError: AuthenticationError: XaiException - {\"error\":{\"code\":401,\"message\":\"No or an invalid authentication header was provided on the request. Please make sure you pass your API key in the corresponding HTTP header.\"}}\n"
     ]
    },
    {
     "name": "stderr",
     "output_type": "stream",
     "text": [
      "2025/09/06 10:38:48 WARNING dspy.adapters.json_adapter: Failed to use structured output format, falling back to JSON mode.\n"
     ]
    },
    {
     "name": "stdout",
     "output_type": "stream",
     "text": [
      "Error generating LLM answer: Both structured output format and JSON mode failed. Please choose a model that supports `response_format` argument. Original error: litellm.AuthenticationError: AuthenticationError: XaiException - {\"error\":{\"code\":401,\"message\":\"No or an invalid authentication header was provided on the request. Please make sure you pass your API key in the corresponding HTTP header.\"}}\n"
     ]
    },
    {
     "name": "stderr",
     "output_type": "stream",
     "text": [
      "2025/09/06 10:38:56 WARNING dspy.adapters.json_adapter: Failed to use structured output format, falling back to JSON mode.\n"
     ]
    },
    {
     "name": "stdout",
     "output_type": "stream",
     "text": [
      "SemanticF1 error: Both structured output format and JSON mode failed. Please choose a model that supports `response_format` argument. Original error: litellm.AuthenticationError: AuthenticationError: XaiException - {\"error\":{\"code\":401,\"message\":\"No or an invalid authentication header was provided on the request. Please make sure you pass your API key in the corresponding HTTP header.\"}}\n"
     ]
    },
    {
     "name": "stderr",
     "output_type": "stream",
     "text": [
      "2025/09/06 10:39:07 WARNING dspy.adapters.json_adapter: Failed to use structured output format, falling back to JSON mode.\n"
     ]
    },
    {
     "name": "stdout",
     "output_type": "stream",
     "text": [
      "Error generating LLM answer: Both structured output format and JSON mode failed. Please choose a model that supports `response_format` argument. Original error: litellm.AuthenticationError: AuthenticationError: XaiException - {\"error\":{\"code\":401,\"message\":\"No or an invalid authentication header was provided on the request. Please make sure you pass your API key in the corresponding HTTP header.\"}}\n"
     ]
    },
    {
     "name": "stderr",
     "output_type": "stream",
     "text": [
      "2025/09/06 10:39:15 WARNING dspy.adapters.json_adapter: Failed to use structured output format, falling back to JSON mode.\n"
     ]
    },
    {
     "name": "stdout",
     "output_type": "stream",
     "text": [
      "SemanticF1 error: Both structured output format and JSON mode failed. Please choose a model that supports `response_format` argument. Original error: litellm.AuthenticationError: AuthenticationError: XaiException - {\"error\":{\"code\":401,\"message\":\"No or an invalid authentication header was provided on the request. Please make sure you pass your API key in the corresponding HTTP header.\"}}\n"
     ]
    },
    {
     "name": "stderr",
     "output_type": "stream",
     "text": [
      "2025/09/06 10:39:26 WARNING dspy.adapters.json_adapter: Failed to use structured output format, falling back to JSON mode.\n"
     ]
    },
    {
     "name": "stdout",
     "output_type": "stream",
     "text": [
      "Error generating LLM answer: Both structured output format and JSON mode failed. Please choose a model that supports `response_format` argument. Original error: litellm.AuthenticationError: AuthenticationError: XaiException - {\"error\":{\"code\":401,\"message\":\"No or an invalid authentication header was provided on the request. Please make sure you pass your API key in the corresponding HTTP header.\"}}\n"
     ]
    },
    {
     "name": "stderr",
     "output_type": "stream",
     "text": [
      "2025/09/06 10:39:34 WARNING dspy.adapters.json_adapter: Failed to use structured output format, falling back to JSON mode.\n"
     ]
    },
    {
     "name": "stdout",
     "output_type": "stream",
     "text": [
      "SemanticF1 error: Both structured output format and JSON mode failed. Please choose a model that supports `response_format` argument. Original error: litellm.AuthenticationError: AuthenticationError: XaiException - {\"error\":{\"code\":401,\"message\":\"No or an invalid authentication header was provided on the request. Please make sure you pass your API key in the corresponding HTTP header.\"}}\n"
     ]
    },
    {
     "name": "stderr",
     "output_type": "stream",
     "text": [
      "2025/09/06 10:39:45 WARNING dspy.adapters.json_adapter: Failed to use structured output format, falling back to JSON mode.\n"
     ]
    },
    {
     "name": "stdout",
     "output_type": "stream",
     "text": [
      "Error generating LLM answer: Both structured output format and JSON mode failed. Please choose a model that supports `response_format` argument. Original error: litellm.AuthenticationError: AuthenticationError: XaiException - {\"error\":{\"code\":401,\"message\":\"No or an invalid authentication header was provided on the request. Please make sure you pass your API key in the corresponding HTTP header.\"}}\n"
     ]
    },
    {
     "name": "stderr",
     "output_type": "stream",
     "text": [
      "2025/09/06 10:39:53 WARNING dspy.adapters.json_adapter: Failed to use structured output format, falling back to JSON mode.\n"
     ]
    },
    {
     "name": "stdout",
     "output_type": "stream",
     "text": [
      "SemanticF1 error: Both structured output format and JSON mode failed. Please choose a model that supports `response_format` argument. Original error: litellm.AuthenticationError: AuthenticationError: XaiException - {\"error\":{\"code\":401,\"message\":\"No or an invalid authentication header was provided on the request. Please make sure you pass your API key in the corresponding HTTP header.\"}}\n"
     ]
    },
    {
     "name": "stderr",
     "output_type": "stream",
     "text": [
      "2025/09/06 10:40:04 WARNING dspy.adapters.json_adapter: Failed to use structured output format, falling back to JSON mode.\n"
     ]
    },
    {
     "name": "stdout",
     "output_type": "stream",
     "text": [
      "Error generating LLM answer: Both structured output format and JSON mode failed. Please choose a model that supports `response_format` argument. Original error: litellm.AuthenticationError: AuthenticationError: XaiException - {\"error\":{\"code\":401,\"message\":\"No or an invalid authentication header was provided on the request. Please make sure you pass your API key in the corresponding HTTP header.\"}}\n"
     ]
    },
    {
     "name": "stderr",
     "output_type": "stream",
     "text": [
      "2025/09/06 10:40:14 WARNING dspy.adapters.json_adapter: Failed to use structured output format, falling back to JSON mode.\n"
     ]
    },
    {
     "name": "stdout",
     "output_type": "stream",
     "text": [
      "SemanticF1 error: Both structured output format and JSON mode failed. Please choose a model that supports `response_format` argument. Original error: litellm.AuthenticationError: AuthenticationError: XaiException - {\"error\":{\"code\":401,\"message\":\"No or an invalid authentication header was provided on the request. Please make sure you pass your API key in the corresponding HTTP header.\"}}\n"
     ]
    },
    {
     "name": "stderr",
     "output_type": "stream",
     "text": [
      "2025/09/06 10:40:25 WARNING dspy.adapters.json_adapter: Failed to use structured output format, falling back to JSON mode.\n"
     ]
    },
    {
     "name": "stdout",
     "output_type": "stream",
     "text": [
      "Error generating LLM answer: Both structured output format and JSON mode failed. Please choose a model that supports `response_format` argument. Original error: litellm.AuthenticationError: AuthenticationError: XaiException - {\"error\":{\"code\":401,\"message\":\"No or an invalid authentication header was provided on the request. Please make sure you pass your API key in the corresponding HTTP header.\"}}\n"
     ]
    },
    {
     "name": "stderr",
     "output_type": "stream",
     "text": [
      "2025/09/06 10:40:33 WARNING dspy.adapters.json_adapter: Failed to use structured output format, falling back to JSON mode.\n"
     ]
    },
    {
     "name": "stdout",
     "output_type": "stream",
     "text": [
      "SemanticF1 error: Both structured output format and JSON mode failed. Please choose a model that supports `response_format` argument. Original error: litellm.AuthenticationError: AuthenticationError: XaiException - {\"error\":{\"code\":401,\"message\":\"No or an invalid authentication header was provided on the request. Please make sure you pass your API key in the corresponding HTTP header.\"}}\n"
     ]
    },
    {
     "name": "stderr",
     "output_type": "stream",
     "text": [
      "2025/09/06 10:40:44 WARNING dspy.adapters.json_adapter: Failed to use structured output format, falling back to JSON mode.\n"
     ]
    },
    {
     "name": "stdout",
     "output_type": "stream",
     "text": [
      "Error generating LLM answer: Both structured output format and JSON mode failed. Please choose a model that supports `response_format` argument. Original error: litellm.AuthenticationError: AuthenticationError: XaiException - {\"error\":{\"code\":401,\"message\":\"No or an invalid authentication header was provided on the request. Please make sure you pass your API key in the corresponding HTTP header.\"}}\n"
     ]
    },
    {
     "name": "stderr",
     "output_type": "stream",
     "text": [
      "2025/09/06 10:40:52 WARNING dspy.adapters.json_adapter: Failed to use structured output format, falling back to JSON mode.\n"
     ]
    },
    {
     "name": "stdout",
     "output_type": "stream",
     "text": [
      "SemanticF1 error: Both structured output format and JSON mode failed. Please choose a model that supports `response_format` argument. Original error: litellm.AuthenticationError: AuthenticationError: XaiException - {\"error\":{\"code\":401,\"message\":\"No or an invalid authentication header was provided on the request. Please make sure you pass your API key in the corresponding HTTP header.\"}}\n"
     ]
    },
    {
     "name": "stderr",
     "output_type": "stream",
     "text": [
      "2025/09/06 10:41:03 WARNING dspy.adapters.json_adapter: Failed to use structured output format, falling back to JSON mode.\n"
     ]
    },
    {
     "name": "stdout",
     "output_type": "stream",
     "text": [
      "Error generating LLM answer: Both structured output format and JSON mode failed. Please choose a model that supports `response_format` argument. Original error: litellm.AuthenticationError: AuthenticationError: XaiException - {\"error\":{\"code\":401,\"message\":\"No or an invalid authentication header was provided on the request. Please make sure you pass your API key in the corresponding HTTP header.\"}}\n"
     ]
    },
    {
     "name": "stderr",
     "output_type": "stream",
     "text": [
      "2025/09/06 10:41:11 WARNING dspy.adapters.json_adapter: Failed to use structured output format, falling back to JSON mode.\n"
     ]
    },
    {
     "name": "stdout",
     "output_type": "stream",
     "text": [
      "SemanticF1 error: Both structured output format and JSON mode failed. Please choose a model that supports `response_format` argument. Original error: litellm.AuthenticationError: AuthenticationError: XaiException - {\"error\":{\"code\":401,\"message\":\"No or an invalid authentication header was provided on the request. Please make sure you pass your API key in the corresponding HTTP header.\"}}\n"
     ]
    },
    {
     "name": "stderr",
     "output_type": "stream",
     "text": [
      "2025/09/06 10:41:22 WARNING dspy.adapters.json_adapter: Failed to use structured output format, falling back to JSON mode.\n"
     ]
    },
    {
     "name": "stdout",
     "output_type": "stream",
     "text": [
      "Error generating LLM answer: Both structured output format and JSON mode failed. Please choose a model that supports `response_format` argument. Original error: litellm.AuthenticationError: AuthenticationError: XaiException - {\"error\":{\"code\":401,\"message\":\"No or an invalid authentication header was provided on the request. Please make sure you pass your API key in the corresponding HTTP header.\"}}\n"
     ]
    },
    {
     "name": "stderr",
     "output_type": "stream",
     "text": [
      "2025/09/06 10:41:30 WARNING dspy.adapters.json_adapter: Failed to use structured output format, falling back to JSON mode.\n"
     ]
    },
    {
     "name": "stdout",
     "output_type": "stream",
     "text": [
      "SemanticF1 error: Both structured output format and JSON mode failed. Please choose a model that supports `response_format` argument. Original error: litellm.AuthenticationError: AuthenticationError: XaiException - {\"error\":{\"code\":401,\"message\":\"No or an invalid authentication header was provided on the request. Please make sure you pass your API key in the corresponding HTTP header.\"}}\n"
     ]
    },
    {
     "name": "stderr",
     "output_type": "stream",
     "text": [
      "2025/09/06 10:41:41 WARNING dspy.adapters.json_adapter: Failed to use structured output format, falling back to JSON mode.\n"
     ]
    },
    {
     "name": "stdout",
     "output_type": "stream",
     "text": [
      "Error generating LLM answer: Both structured output format and JSON mode failed. Please choose a model that supports `response_format` argument. Original error: litellm.AuthenticationError: AuthenticationError: XaiException - {\"error\":{\"code\":401,\"message\":\"No or an invalid authentication header was provided on the request. Please make sure you pass your API key in the corresponding HTTP header.\"}}\n"
     ]
    },
    {
     "name": "stderr",
     "output_type": "stream",
     "text": [
      "2025/09/06 10:41:49 WARNING dspy.adapters.json_adapter: Failed to use structured output format, falling back to JSON mode.\n"
     ]
    },
    {
     "name": "stdout",
     "output_type": "stream",
     "text": [
      "SemanticF1 error: Both structured output format and JSON mode failed. Please choose a model that supports `response_format` argument. Original error: litellm.AuthenticationError: AuthenticationError: XaiException - {\"error\":{\"code\":401,\"message\":\"No or an invalid authentication header was provided on the request. Please make sure you pass your API key in the corresponding HTTP header.\"}}\n"
     ]
    },
    {
     "name": "stderr",
     "output_type": "stream",
     "text": [
      "2025/09/06 10:42:00 WARNING dspy.adapters.json_adapter: Failed to use structured output format, falling back to JSON mode.\n"
     ]
    },
    {
     "name": "stdout",
     "output_type": "stream",
     "text": [
      "Error generating LLM answer: Both structured output format and JSON mode failed. Please choose a model that supports `response_format` argument. Original error: litellm.AuthenticationError: AuthenticationError: XaiException - {\"error\":{\"code\":401,\"message\":\"No or an invalid authentication header was provided on the request. Please make sure you pass your API key in the corresponding HTTP header.\"}}\n"
     ]
    },
    {
     "name": "stderr",
     "output_type": "stream",
     "text": [
      "2025/09/06 10:42:08 WARNING dspy.adapters.json_adapter: Failed to use structured output format, falling back to JSON mode.\n"
     ]
    },
    {
     "name": "stdout",
     "output_type": "stream",
     "text": [
      "SemanticF1 error: Both structured output format and JSON mode failed. Please choose a model that supports `response_format` argument. Original error: litellm.AuthenticationError: AuthenticationError: XaiException - {\"error\":{\"code\":401,\"message\":\"No or an invalid authentication header was provided on the request. Please make sure you pass your API key in the corresponding HTTP header.\"}}\n"
     ]
    },
    {
     "name": "stderr",
     "output_type": "stream",
     "text": [
      "2025/09/06 10:42:19 WARNING dspy.adapters.json_adapter: Failed to use structured output format, falling back to JSON mode.\n"
     ]
    },
    {
     "name": "stdout",
     "output_type": "stream",
     "text": [
      "Error generating LLM answer: Both structured output format and JSON mode failed. Please choose a model that supports `response_format` argument. Original error: litellm.AuthenticationError: AuthenticationError: XaiException - {\"error\":{\"code\":401,\"message\":\"No or an invalid authentication header was provided on the request. Please make sure you pass your API key in the corresponding HTTP header.\"}}\n"
     ]
    },
    {
     "name": "stderr",
     "output_type": "stream",
     "text": [
      "2025/09/06 10:42:27 WARNING dspy.adapters.json_adapter: Failed to use structured output format, falling back to JSON mode.\n"
     ]
    },
    {
     "name": "stdout",
     "output_type": "stream",
     "text": [
      "SemanticF1 error: Both structured output format and JSON mode failed. Please choose a model that supports `response_format` argument. Original error: litellm.AuthenticationError: AuthenticationError: XaiException - {\"error\":{\"code\":401,\"message\":\"No or an invalid authentication header was provided on the request. Please make sure you pass your API key in the corresponding HTTP header.\"}}\n"
     ]
    },
    {
     "name": "stderr",
     "output_type": "stream",
     "text": [
      "2025/09/06 10:42:39 WARNING dspy.adapters.json_adapter: Failed to use structured output format, falling back to JSON mode.\n"
     ]
    },
    {
     "name": "stdout",
     "output_type": "stream",
     "text": [
      "Error generating LLM answer: Both structured output format and JSON mode failed. Please choose a model that supports `response_format` argument. Original error: litellm.AuthenticationError: AuthenticationError: XaiException - {\"error\":{\"code\":401,\"message\":\"No or an invalid authentication header was provided on the request. Please make sure you pass your API key in the corresponding HTTP header.\"}}\n"
     ]
    },
    {
     "name": "stderr",
     "output_type": "stream",
     "text": [
      "2025/09/06 10:42:46 WARNING dspy.adapters.json_adapter: Failed to use structured output format, falling back to JSON mode.\n"
     ]
    },
    {
     "name": "stdout",
     "output_type": "stream",
     "text": [
      "SemanticF1 error: Both structured output format and JSON mode failed. Please choose a model that supports `response_format` argument. Original error: litellm.AuthenticationError: AuthenticationError: XaiException - {\"error\":{\"code\":401,\"message\":\"No or an invalid authentication header was provided on the request. Please make sure you pass your API key in the corresponding HTTP header.\"}}\n"
     ]
    },
    {
     "name": "stderr",
     "output_type": "stream",
     "text": [
      "2025/09/06 10:42:58 WARNING dspy.adapters.json_adapter: Failed to use structured output format, falling back to JSON mode.\n"
     ]
    },
    {
     "name": "stdout",
     "output_type": "stream",
     "text": [
      "Error generating LLM answer: Both structured output format and JSON mode failed. Please choose a model that supports `response_format` argument. Original error: litellm.AuthenticationError: AuthenticationError: XaiException - {\"error\":{\"code\":401,\"message\":\"No or an invalid authentication header was provided on the request. Please make sure you pass your API key in the corresponding HTTP header.\"}}\n"
     ]
    },
    {
     "name": "stderr",
     "output_type": "stream",
     "text": [
      "2025/09/06 10:43:06 WARNING dspy.adapters.json_adapter: Failed to use structured output format, falling back to JSON mode.\n"
     ]
    },
    {
     "name": "stdout",
     "output_type": "stream",
     "text": [
      "SemanticF1 error: Both structured output format and JSON mode failed. Please choose a model that supports `response_format` argument. Original error: litellm.AuthenticationError: AuthenticationError: XaiException - {\"error\":{\"code\":401,\"message\":\"No or an invalid authentication header was provided on the request. Please make sure you pass your API key in the corresponding HTTP header.\"}}\n"
     ]
    },
    {
     "name": "stderr",
     "output_type": "stream",
     "text": [
      "2025/09/06 10:43:17 WARNING dspy.adapters.json_adapter: Failed to use structured output format, falling back to JSON mode.\n"
     ]
    },
    {
     "name": "stdout",
     "output_type": "stream",
     "text": [
      "Error generating LLM answer: Both structured output format and JSON mode failed. Please choose a model that supports `response_format` argument. Original error: litellm.AuthenticationError: AuthenticationError: XaiException - {\"error\":{\"code\":401,\"message\":\"No or an invalid authentication header was provided on the request. Please make sure you pass your API key in the corresponding HTTP header.\"}}\n"
     ]
    },
    {
     "name": "stderr",
     "output_type": "stream",
     "text": [
      "2025/09/06 10:43:25 WARNING dspy.adapters.json_adapter: Failed to use structured output format, falling back to JSON mode.\n"
     ]
    },
    {
     "name": "stdout",
     "output_type": "stream",
     "text": [
      "SemanticF1 error: Both structured output format and JSON mode failed. Please choose a model that supports `response_format` argument. Original error: litellm.AuthenticationError: AuthenticationError: XaiException - {\"error\":{\"code\":401,\"message\":\"No or an invalid authentication header was provided on the request. Please make sure you pass your API key in the corresponding HTTP header.\"}}\n"
     ]
    },
    {
     "name": "stderr",
     "output_type": "stream",
     "text": [
      "2025/09/06 10:43:36 WARNING dspy.adapters.json_adapter: Failed to use structured output format, falling back to JSON mode.\n"
     ]
    },
    {
     "name": "stdout",
     "output_type": "stream",
     "text": [
      "Error generating LLM answer: Both structured output format and JSON mode failed. Please choose a model that supports `response_format` argument. Original error: litellm.AuthenticationError: AuthenticationError: XaiException - {\"error\":{\"code\":401,\"message\":\"No or an invalid authentication header was provided on the request. Please make sure you pass your API key in the corresponding HTTP header.\"}}\n"
     ]
    },
    {
     "name": "stderr",
     "output_type": "stream",
     "text": [
      "2025/09/06 10:43:44 WARNING dspy.adapters.json_adapter: Failed to use structured output format, falling back to JSON mode.\n"
     ]
    },
    {
     "name": "stdout",
     "output_type": "stream",
     "text": [
      "SemanticF1 error: Both structured output format and JSON mode failed. Please choose a model that supports `response_format` argument. Original error: litellm.AuthenticationError: AuthenticationError: XaiException - {\"error\":{\"code\":401,\"message\":\"No or an invalid authentication header was provided on the request. Please make sure you pass your API key in the corresponding HTTP header.\"}}\n"
     ]
    },
    {
     "name": "stderr",
     "output_type": "stream",
     "text": [
      "2025/09/06 10:43:55 WARNING dspy.adapters.json_adapter: Failed to use structured output format, falling back to JSON mode.\n"
     ]
    },
    {
     "name": "stdout",
     "output_type": "stream",
     "text": [
      "Error generating LLM answer: Both structured output format and JSON mode failed. Please choose a model that supports `response_format` argument. Original error: litellm.AuthenticationError: AuthenticationError: XaiException - {\"error\":{\"code\":401,\"message\":\"No or an invalid authentication header was provided on the request. Please make sure you pass your API key in the corresponding HTTP header.\"}}\n"
     ]
    },
    {
     "name": "stderr",
     "output_type": "stream",
     "text": [
      "2025/09/06 10:44:03 WARNING dspy.adapters.json_adapter: Failed to use structured output format, falling back to JSON mode.\n"
     ]
    },
    {
     "name": "stdout",
     "output_type": "stream",
     "text": [
      "SemanticF1 error: Both structured output format and JSON mode failed. Please choose a model that supports `response_format` argument. Original error: litellm.AuthenticationError: AuthenticationError: XaiException - {\"error\":{\"code\":401,\"message\":\"No or an invalid authentication header was provided on the request. Please make sure you pass your API key in the corresponding HTTP header.\"}}\n"
     ]
    },
    {
     "name": "stderr",
     "output_type": "stream",
     "text": [
      "2025/09/06 10:44:14 WARNING dspy.adapters.json_adapter: Failed to use structured output format, falling back to JSON mode.\n"
     ]
    },
    {
     "name": "stdout",
     "output_type": "stream",
     "text": [
      "Error generating LLM answer: Both structured output format and JSON mode failed. Please choose a model that supports `response_format` argument. Original error: litellm.Timeout: Timeout Error: XaiException - litellm.Timeout: Connection timed out after 600.0 seconds.\n"
     ]
    },
    {
     "name": "stderr",
     "output_type": "stream",
     "text": [
      "2025/09/06 11:09:05 WARNING dspy.adapters.json_adapter: Failed to use structured output format, falling back to JSON mode.\n"
     ]
    },
    {
     "name": "stdout",
     "output_type": "stream",
     "text": [
      "SemanticF1 error: Both structured output format and JSON mode failed. Please choose a model that supports `response_format` argument. Original error: litellm.AuthenticationError: AuthenticationError: XaiException - {\"error\":{\"code\":401,\"message\":\"No or an invalid authentication header was provided on the request. Please make sure you pass your API key in the corresponding HTTP header.\"}}\n"
     ]
    },
    {
     "name": "stderr",
     "output_type": "stream",
     "text": [
      "2025/09/06 11:09:16 WARNING dspy.adapters.json_adapter: Failed to use structured output format, falling back to JSON mode.\n"
     ]
    },
    {
     "name": "stdout",
     "output_type": "stream",
     "text": [
      "Error generating LLM answer: Both structured output format and JSON mode failed. Please choose a model that supports `response_format` argument. Original error: litellm.AuthenticationError: AuthenticationError: XaiException - {\"error\":{\"code\":401,\"message\":\"No or an invalid authentication header was provided on the request. Please make sure you pass your API key in the corresponding HTTP header.\"}}\n"
     ]
    },
    {
     "name": "stderr",
     "output_type": "stream",
     "text": [
      "2025/09/06 11:09:24 WARNING dspy.adapters.json_adapter: Failed to use structured output format, falling back to JSON mode.\n"
     ]
    },
    {
     "name": "stdout",
     "output_type": "stream",
     "text": [
      "SemanticF1 error: Both structured output format and JSON mode failed. Please choose a model that supports `response_format` argument. Original error: litellm.AuthenticationError: AuthenticationError: XaiException - {\"error\":{\"code\":401,\"message\":\"No or an invalid authentication header was provided on the request. Please make sure you pass your API key in the corresponding HTTP header.\"}}\n"
     ]
    },
    {
     "name": "stderr",
     "output_type": "stream",
     "text": [
      "2025/09/06 11:09:35 WARNING dspy.adapters.json_adapter: Failed to use structured output format, falling back to JSON mode.\n"
     ]
    },
    {
     "name": "stdout",
     "output_type": "stream",
     "text": [
      "Error generating LLM answer: Both structured output format and JSON mode failed. Please choose a model that supports `response_format` argument. Original error: litellm.AuthenticationError: AuthenticationError: XaiException - {\"error\":{\"code\":401,\"message\":\"No or an invalid authentication header was provided on the request. Please make sure you pass your API key in the corresponding HTTP header.\"}}\n"
     ]
    },
    {
     "name": "stderr",
     "output_type": "stream",
     "text": [
      "2025/09/06 11:09:43 WARNING dspy.adapters.json_adapter: Failed to use structured output format, falling back to JSON mode.\n"
     ]
    },
    {
     "name": "stdout",
     "output_type": "stream",
     "text": [
      "SemanticF1 error: Both structured output format and JSON mode failed. Please choose a model that supports `response_format` argument. Original error: litellm.AuthenticationError: AuthenticationError: XaiException - {\"error\":{\"code\":401,\"message\":\"No or an invalid authentication header was provided on the request. Please make sure you pass your API key in the corresponding HTTP header.\"}}\n"
     ]
    },
    {
     "name": "stderr",
     "output_type": "stream",
     "text": [
      "2025/09/06 11:09:54 WARNING dspy.adapters.json_adapter: Failed to use structured output format, falling back to JSON mode.\n"
     ]
    },
    {
     "name": "stdout",
     "output_type": "stream",
     "text": [
      "Error generating LLM answer: Both structured output format and JSON mode failed. Please choose a model that supports `response_format` argument. Original error: litellm.AuthenticationError: AuthenticationError: XaiException - {\"error\":{\"code\":401,\"message\":\"No or an invalid authentication header was provided on the request. Please make sure you pass your API key in the corresponding HTTP header.\"}}\n"
     ]
    },
    {
     "name": "stderr",
     "output_type": "stream",
     "text": [
      "2025/09/06 11:10:03 WARNING dspy.adapters.json_adapter: Failed to use structured output format, falling back to JSON mode.\n"
     ]
    },
    {
     "name": "stdout",
     "output_type": "stream",
     "text": [
      "SemanticF1 error: Both structured output format and JSON mode failed. Please choose a model that supports `response_format` argument. Original error: litellm.AuthenticationError: AuthenticationError: XaiException - {\"error\":{\"code\":401,\"message\":\"No or an invalid authentication header was provided on the request. Please make sure you pass your API key in the corresponding HTTP header.\"}}\n"
     ]
    },
    {
     "name": "stderr",
     "output_type": "stream",
     "text": [
      "2025/09/06 11:10:14 WARNING dspy.adapters.json_adapter: Failed to use structured output format, falling back to JSON mode.\n"
     ]
    },
    {
     "name": "stdout",
     "output_type": "stream",
     "text": [
      "Error generating LLM answer: Both structured output format and JSON mode failed. Please choose a model that supports `response_format` argument. Original error: litellm.AuthenticationError: AuthenticationError: XaiException - {\"error\":{\"code\":401,\"message\":\"No or an invalid authentication header was provided on the request. Please make sure you pass your API key in the corresponding HTTP header.\"}}\n"
     ]
    },
    {
     "name": "stderr",
     "output_type": "stream",
     "text": [
      "2025/09/06 11:10:22 WARNING dspy.adapters.json_adapter: Failed to use structured output format, falling back to JSON mode.\n"
     ]
    },
    {
     "name": "stdout",
     "output_type": "stream",
     "text": [
      "SemanticF1 error: Both structured output format and JSON mode failed. Please choose a model that supports `response_format` argument. Original error: litellm.AuthenticationError: AuthenticationError: XaiException - {\"error\":{\"code\":401,\"message\":\"No or an invalid authentication header was provided on the request. Please make sure you pass your API key in the corresponding HTTP header.\"}}\n"
     ]
    },
    {
     "name": "stderr",
     "output_type": "stream",
     "text": [
      "2025/09/06 11:10:33 WARNING dspy.adapters.json_adapter: Failed to use structured output format, falling back to JSON mode.\n"
     ]
    },
    {
     "name": "stdout",
     "output_type": "stream",
     "text": [
      "Error generating LLM answer: Both structured output format and JSON mode failed. Please choose a model that supports `response_format` argument. Original error: litellm.AuthenticationError: AuthenticationError: XaiException - {\"error\":{\"code\":401,\"message\":\"No or an invalid authentication header was provided on the request. Please make sure you pass your API key in the corresponding HTTP header.\"}}\n"
     ]
    },
    {
     "name": "stderr",
     "output_type": "stream",
     "text": [
      "2025/09/06 11:10:41 WARNING dspy.adapters.json_adapter: Failed to use structured output format, falling back to JSON mode.\n"
     ]
    },
    {
     "name": "stdout",
     "output_type": "stream",
     "text": [
      "SemanticF1 error: Both structured output format and JSON mode failed. Please choose a model that supports `response_format` argument. Original error: litellm.AuthenticationError: AuthenticationError: XaiException - {\"error\":{\"code\":401,\"message\":\"No or an invalid authentication header was provided on the request. Please make sure you pass your API key in the corresponding HTTP header.\"}}\n"
     ]
    },
    {
     "name": "stderr",
     "output_type": "stream",
     "text": [
      "2025/09/06 11:10:52 WARNING dspy.adapters.json_adapter: Failed to use structured output format, falling back to JSON mode.\n"
     ]
    },
    {
     "name": "stdout",
     "output_type": "stream",
     "text": [
      "Error generating LLM answer: Both structured output format and JSON mode failed. Please choose a model that supports `response_format` argument. Original error: litellm.AuthenticationError: AuthenticationError: XaiException - {\"error\":{\"code\":401,\"message\":\"No or an invalid authentication header was provided on the request. Please make sure you pass your API key in the corresponding HTTP header.\"}}\n"
     ]
    },
    {
     "name": "stderr",
     "output_type": "stream",
     "text": [
      "2025/09/06 11:11:00 WARNING dspy.adapters.json_adapter: Failed to use structured output format, falling back to JSON mode.\n"
     ]
    },
    {
     "name": "stdout",
     "output_type": "stream",
     "text": [
      "SemanticF1 error: Both structured output format and JSON mode failed. Please choose a model that supports `response_format` argument. Original error: litellm.AuthenticationError: AuthenticationError: XaiException - {\"error\":{\"code\":401,\"message\":\"No or an invalid authentication header was provided on the request. Please make sure you pass your API key in the corresponding HTTP header.\"}}\n"
     ]
    },
    {
     "name": "stderr",
     "output_type": "stream",
     "text": [
      "2025/09/06 11:11:11 WARNING dspy.adapters.json_adapter: Failed to use structured output format, falling back to JSON mode.\n"
     ]
    },
    {
     "name": "stdout",
     "output_type": "stream",
     "text": [
      "Error generating LLM answer: Both structured output format and JSON mode failed. Please choose a model that supports `response_format` argument. Original error: litellm.AuthenticationError: AuthenticationError: XaiException - {\"error\":{\"code\":401,\"message\":\"No or an invalid authentication header was provided on the request. Please make sure you pass your API key in the corresponding HTTP header.\"}}\n"
     ]
    },
    {
     "name": "stderr",
     "output_type": "stream",
     "text": [
      "2025/09/06 11:11:20 WARNING dspy.adapters.json_adapter: Failed to use structured output format, falling back to JSON mode.\n"
     ]
    },
    {
     "name": "stdout",
     "output_type": "stream",
     "text": [
      "SemanticF1 error: Both structured output format and JSON mode failed. Please choose a model that supports `response_format` argument. Original error: litellm.AuthenticationError: AuthenticationError: XaiException - {\"error\":{\"code\":401,\"message\":\"No or an invalid authentication header was provided on the request. Please make sure you pass your API key in the corresponding HTTP header.\"}}\n"
     ]
    },
    {
     "name": "stderr",
     "output_type": "stream",
     "text": [
      "2025/09/06 11:11:31 WARNING dspy.adapters.json_adapter: Failed to use structured output format, falling back to JSON mode.\n"
     ]
    },
    {
     "name": "stdout",
     "output_type": "stream",
     "text": [
      "Error generating LLM answer: Both structured output format and JSON mode failed. Please choose a model that supports `response_format` argument. Original error: litellm.AuthenticationError: AuthenticationError: XaiException - {\"error\":{\"code\":401,\"message\":\"No or an invalid authentication header was provided on the request. Please make sure you pass your API key in the corresponding HTTP header.\"}}\n"
     ]
    },
    {
     "name": "stderr",
     "output_type": "stream",
     "text": [
      "2025/09/06 11:11:40 WARNING dspy.adapters.json_adapter: Failed to use structured output format, falling back to JSON mode.\n"
     ]
    },
    {
     "name": "stdout",
     "output_type": "stream",
     "text": [
      "SemanticF1 error: Both structured output format and JSON mode failed. Please choose a model that supports `response_format` argument. Original error: litellm.AuthenticationError: AuthenticationError: XaiException - {\"error\":{\"code\":401,\"message\":\"No or an invalid authentication header was provided on the request. Please make sure you pass your API key in the corresponding HTTP header.\"}}\n"
     ]
    },
    {
     "name": "stderr",
     "output_type": "stream",
     "text": [
      "2025/09/06 11:11:52 WARNING dspy.adapters.json_adapter: Failed to use structured output format, falling back to JSON mode.\n"
     ]
    },
    {
     "name": "stdout",
     "output_type": "stream",
     "text": [
      "Error generating LLM answer: Both structured output format and JSON mode failed. Please choose a model that supports `response_format` argument. Original error: litellm.AuthenticationError: AuthenticationError: XaiException - {\"error\":{\"code\":401,\"message\":\"No or an invalid authentication header was provided on the request. Please make sure you pass your API key in the corresponding HTTP header.\"}}\n"
     ]
    },
    {
     "name": "stderr",
     "output_type": "stream",
     "text": [
      "2025/09/06 11:11:59 WARNING dspy.adapters.json_adapter: Failed to use structured output format, falling back to JSON mode.\n"
     ]
    },
    {
     "name": "stdout",
     "output_type": "stream",
     "text": [
      "SemanticF1 error: Both structured output format and JSON mode failed. Please choose a model that supports `response_format` argument. Original error: litellm.AuthenticationError: AuthenticationError: XaiException - {\"error\":{\"code\":401,\"message\":\"No or an invalid authentication header was provided on the request. Please make sure you pass your API key in the corresponding HTTP header.\"}}\n"
     ]
    },
    {
     "name": "stderr",
     "output_type": "stream",
     "text": [
      "2025/09/06 11:12:11 WARNING dspy.adapters.json_adapter: Failed to use structured output format, falling back to JSON mode.\n"
     ]
    },
    {
     "name": "stdout",
     "output_type": "stream",
     "text": [
      "Error generating LLM answer: Both structured output format and JSON mode failed. Please choose a model that supports `response_format` argument. Original error: litellm.AuthenticationError: AuthenticationError: XaiException - {\"error\":{\"code\":401,\"message\":\"No or an invalid authentication header was provided on the request. Please make sure you pass your API key in the corresponding HTTP header.\"}}\n"
     ]
    },
    {
     "name": "stderr",
     "output_type": "stream",
     "text": [
      "2025/09/06 11:12:19 WARNING dspy.adapters.json_adapter: Failed to use structured output format, falling back to JSON mode.\n"
     ]
    },
    {
     "name": "stdout",
     "output_type": "stream",
     "text": [
      "SemanticF1 error: Both structured output format and JSON mode failed. Please choose a model that supports `response_format` argument. Original error: litellm.AuthenticationError: AuthenticationError: XaiException - {\"error\":{\"code\":401,\"message\":\"No or an invalid authentication header was provided on the request. Please make sure you pass your API key in the corresponding HTTP header.\"}}\n"
     ]
    },
    {
     "name": "stderr",
     "output_type": "stream",
     "text": [
      "2025/09/06 11:12:30 WARNING dspy.adapters.json_adapter: Failed to use structured output format, falling back to JSON mode.\n"
     ]
    },
    {
     "name": "stdout",
     "output_type": "stream",
     "text": [
      "Error generating LLM answer: Both structured output format and JSON mode failed. Please choose a model that supports `response_format` argument. Original error: litellm.AuthenticationError: AuthenticationError: XaiException - {\"error\":{\"code\":401,\"message\":\"No or an invalid authentication header was provided on the request. Please make sure you pass your API key in the corresponding HTTP header.\"}}\n"
     ]
    },
    {
     "name": "stderr",
     "output_type": "stream",
     "text": [
      "2025/09/06 11:12:38 WARNING dspy.adapters.json_adapter: Failed to use structured output format, falling back to JSON mode.\n"
     ]
    },
    {
     "name": "stdout",
     "output_type": "stream",
     "text": [
      "SemanticF1 error: Both structured output format and JSON mode failed. Please choose a model that supports `response_format` argument. Original error: litellm.AuthenticationError: AuthenticationError: XaiException - {\"error\":{\"code\":401,\"message\":\"No or an invalid authentication header was provided on the request. Please make sure you pass your API key in the corresponding HTTP header.\"}}\n"
     ]
    },
    {
     "name": "stderr",
     "output_type": "stream",
     "text": [
      "2025/09/06 11:12:50 WARNING dspy.adapters.json_adapter: Failed to use structured output format, falling back to JSON mode.\n"
     ]
    },
    {
     "name": "stdout",
     "output_type": "stream",
     "text": [
      "Error generating LLM answer: Both structured output format and JSON mode failed. Please choose a model that supports `response_format` argument. Original error: litellm.AuthenticationError: AuthenticationError: XaiException - {\"error\":{\"code\":401,\"message\":\"No or an invalid authentication header was provided on the request. Please make sure you pass your API key in the corresponding HTTP header.\"}}\n"
     ]
    },
    {
     "name": "stderr",
     "output_type": "stream",
     "text": [
      "2025/09/06 11:12:58 WARNING dspy.adapters.json_adapter: Failed to use structured output format, falling back to JSON mode.\n"
     ]
    },
    {
     "name": "stdout",
     "output_type": "stream",
     "text": [
      "SemanticF1 error: Both structured output format and JSON mode failed. Please choose a model that supports `response_format` argument. Original error: litellm.AuthenticationError: AuthenticationError: XaiException - {\"error\":{\"code\":401,\"message\":\"No or an invalid authentication header was provided on the request. Please make sure you pass your API key in the corresponding HTTP header.\"}}\n"
     ]
    },
    {
     "name": "stderr",
     "output_type": "stream",
     "text": [
      "2025/09/06 11:13:09 WARNING dspy.adapters.json_adapter: Failed to use structured output format, falling back to JSON mode.\n"
     ]
    },
    {
     "name": "stdout",
     "output_type": "stream",
     "text": [
      "Error generating LLM answer: Both structured output format and JSON mode failed. Please choose a model that supports `response_format` argument. Original error: litellm.AuthenticationError: AuthenticationError: XaiException - {\"error\":{\"code\":401,\"message\":\"No or an invalid authentication header was provided on the request. Please make sure you pass your API key in the corresponding HTTP header.\"}}\n"
     ]
    },
    {
     "name": "stderr",
     "output_type": "stream",
     "text": [
      "2025/09/06 11:13:17 WARNING dspy.adapters.json_adapter: Failed to use structured output format, falling back to JSON mode.\n"
     ]
    },
    {
     "name": "stdout",
     "output_type": "stream",
     "text": [
      "SemanticF1 error: Both structured output format and JSON mode failed. Please choose a model that supports `response_format` argument. Original error: litellm.AuthenticationError: AuthenticationError: XaiException - {\"error\":{\"code\":401,\"message\":\"No or an invalid authentication header was provided on the request. Please make sure you pass your API key in the corresponding HTTP header.\"}}\n"
     ]
    },
    {
     "name": "stderr",
     "output_type": "stream",
     "text": [
      "2025/09/06 11:13:28 WARNING dspy.adapters.json_adapter: Failed to use structured output format, falling back to JSON mode.\n"
     ]
    },
    {
     "name": "stdout",
     "output_type": "stream",
     "text": [
      "Error generating LLM answer: Both structured output format and JSON mode failed. Please choose a model that supports `response_format` argument. Original error: litellm.AuthenticationError: AuthenticationError: XaiException - {\"error\":{\"code\":401,\"message\":\"No or an invalid authentication header was provided on the request. Please make sure you pass your API key in the corresponding HTTP header.\"}}\n"
     ]
    },
    {
     "name": "stderr",
     "output_type": "stream",
     "text": [
      "2025/09/06 11:13:36 WARNING dspy.adapters.json_adapter: Failed to use structured output format, falling back to JSON mode.\n"
     ]
    },
    {
     "name": "stdout",
     "output_type": "stream",
     "text": [
      "SemanticF1 error: Both structured output format and JSON mode failed. Please choose a model that supports `response_format` argument. Original error: litellm.AuthenticationError: AuthenticationError: XaiException - {\"error\":{\"code\":401,\"message\":\"No or an invalid authentication header was provided on the request. Please make sure you pass your API key in the corresponding HTTP header.\"}}\n",
      "Full-conversation (subset) LLM mean F1: 0.0\n",
      "Part 4.4 evaluations completed.\n"
     ]
    }
   ],
   "execution_count": 12
  }
 ],
 "metadata": {
  "kernelspec": {
   "display_name": "nlp-with-llms-2025-hw3",
   "language": "python",
   "name": "python3"
  },
  "language_info": {
   "codemirror_mode": {
    "name": "ipython",
    "version": 3
   },
   "file_extension": ".py",
   "mimetype": "text/x-python",
   "name": "python",
   "nbconvert_exporter": "python",
   "pygments_lexer": "ipython3",
   "version": "3.12.3"
  }
 },
 "nbformat": 4,
 "nbformat_minor": 5
}
